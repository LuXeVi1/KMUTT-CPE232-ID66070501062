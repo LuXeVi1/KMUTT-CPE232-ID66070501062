{
 "cells": [
  {
   "cell_type": "markdown",
   "metadata": {},
   "source": [
    "---\n"
   ]
  },
  {
   "cell_type": "markdown",
   "metadata": {},
   "source": [
    "# What is Python?\n",
    "\n",
    "Python is a popular programming language. It was created by Guido van Rossum, and released in 1991.\n",
    "\n",
    "It is used for:\n",
    "\n",
    "- web development (server-side),\n",
    "- software development,\n",
    "- mathematics,\n",
    "- system scripting.\n",
    "\n",
    "## What can Python do?\n",
    "\n",
    "- Python can be used on a server to create web applications.\n",
    "- Python can be used alongside software to create workflows.\n",
    "- Python can connect to database systems. It can also read and modify files.\n",
    "- Python can be used to handle big data and perform complex mathematics.\n",
    "- Python can be used for rapid prototyping, or for production-ready software development.\n",
    "\n",
    "## Why Python?\n",
    "\n",
    "- Python works on different platforms (Windows, Mac, Linux, Raspberry Pi, etc).\n",
    "- Python has a simple syntax similar to the English language.\n",
    "- Python has syntax that allows developers to write programs with fewer lines than some other programming languages.\n",
    "- Python runs on an interpreter system, meaning that code can be executed as soon as it is written. This means that prototyping can be very quick.\n",
    "- Python can be treated in a procedural way, an object-oriented way or a functional way.\n",
    "\n",
    "## Good to know\n",
    "\n",
    "- The most recent major version of Python is Python 3, which we shall be using in this tutorial. However, Python 2, although not being updated with anything other than security updates, is still quite popular.\n",
    "- In this tutorial Python will be written in a text editor. It is possible to write Python in an Integrated Development Environment, such as Thonny, Pycharm, Netbeans or Eclipse which are particularly useful when managing larger collections of Python files.\n"
   ]
  },
  {
   "cell_type": "markdown",
   "metadata": {},
   "source": [
    "---\n"
   ]
  },
  {
   "cell_type": "markdown",
   "metadata": {},
   "source": [
    "# Python Syntax\n"
   ]
  },
  {
   "cell_type": "code",
   "execution_count": null,
   "metadata": {},
   "outputs": [],
   "source": [
    "print(\"Hello, World!\")"
   ]
  },
  {
   "cell_type": "markdown",
   "metadata": {},
   "source": [
    "## Python Indentation\n",
    "\n",
    "Where in other programming languages the indentation in code is for readability only, the indentation in Python is very important.\n"
   ]
  },
  {
   "cell_type": "code",
   "execution_count": null,
   "metadata": {},
   "outputs": [],
   "source": [
    "if 5 > 2:\n",
    "  print(\"Five is greater than two!\")"
   ]
  },
  {
   "cell_type": "markdown",
   "metadata": {},
   "source": [
    "Python will give you an error if you skip the indentation:\n"
   ]
  },
  {
   "cell_type": "code",
   "execution_count": null,
   "metadata": {},
   "outputs": [],
   "source": [
    "if 5 > 2:\n",
    "print(\"Five is greater than two!\")"
   ]
  },
  {
   "cell_type": "markdown",
   "metadata": {},
   "source": [
    "Compare with C Language\n",
    "\n",
    "```\n",
    "if(5>2){\n",
    "  printf(\"Five is greater than two!\")\n",
    "}\n",
    "```\n"
   ]
  },
  {
   "cell_type": "markdown",
   "metadata": {},
   "source": [
    "---\n"
   ]
  },
  {
   "cell_type": "markdown",
   "metadata": {},
   "source": [
    "# Python Comment\n",
    "\n",
    "Comments starts with a `#`, and Python will ignore them:\n"
   ]
  },
  {
   "cell_type": "code",
   "execution_count": null,
   "metadata": {},
   "outputs": [],
   "source": [
    "#This is a comment\n",
    "print(\"Hello, World!\")\n",
    "\n",
    "print(\"Hello, World!\") #This is a comment\n",
    "\n",
    "#print(\"Hello, World!\")\n",
    "print(\"Cheers, Mate!\")"
   ]
  },
  {
   "cell_type": "code",
   "execution_count": null,
   "metadata": {},
   "outputs": [],
   "source": [
    "\"\"\"\n",
    "This is a comment\n",
    "written in\n",
    "more than just one line\n",
    "\"\"\"\n",
    "print(\"Hello, World!\")"
   ]
  },
  {
   "cell_type": "markdown",
   "metadata": {},
   "source": [
    "---\n"
   ]
  },
  {
   "cell_type": "markdown",
   "metadata": {},
   "source": [
    "# Python Variables\n"
   ]
  },
  {
   "cell_type": "markdown",
   "metadata": {},
   "source": [
    "## Creating Variables\n",
    "\n",
    "Variables are containers for storing data values.\n"
   ]
  },
  {
   "cell_type": "code",
   "execution_count": null,
   "metadata": {},
   "outputs": [],
   "source": [
    "x = 5\n",
    "y = \"John\"\n",
    "print(x)\n",
    "print(y)"
   ]
  },
  {
   "cell_type": "code",
   "execution_count": null,
   "metadata": {},
   "outputs": [],
   "source": [
    "x"
   ]
  },
  {
   "cell_type": "code",
   "execution_count": null,
   "metadata": {},
   "outputs": [],
   "source": [
    "y"
   ]
  },
  {
   "cell_type": "markdown",
   "metadata": {},
   "source": [
    "Variables do not need to be declared with any particular type, and can even change type after they have been set.\n"
   ]
  },
  {
   "cell_type": "code",
   "execution_count": null,
   "metadata": {},
   "outputs": [],
   "source": [
    "x = 4       # x is of type int\n",
    "x = \"Sally\" # x is now of type str\n",
    "print(x)"
   ]
  },
  {
   "cell_type": "markdown",
   "metadata": {},
   "source": [
    "##Casting\n",
    "If you want to specify the data type of a variable, this can be done with casting.\n"
   ]
  },
  {
   "cell_type": "code",
   "execution_count": null,
   "metadata": {},
   "outputs": [],
   "source": [
    "x = str(3)    # x will be '3'\n",
    "y = int(3)    # y will be 3\n",
    "z = float(3)  # z will be 3.0"
   ]
  },
  {
   "cell_type": "code",
   "execution_count": null,
   "metadata": {},
   "outputs": [],
   "source": [
    "x = 3\n",
    "x = float(x)\n",
    "x"
   ]
  },
  {
   "cell_type": "code",
   "execution_count": null,
   "metadata": {},
   "outputs": [],
   "source": [
    "x = 3\n",
    "x = str(x)\n",
    "x"
   ]
  },
  {
   "cell_type": "code",
   "execution_count": null,
   "metadata": {},
   "outputs": [],
   "source": [
    "x = '3'\n",
    "x = int(x)\n",
    "x"
   ]
  },
  {
   "cell_type": "markdown",
   "metadata": {},
   "source": [
    "## Get the Type\n",
    "\n",
    "You can get the data type of a variable with the `type()` function.\n"
   ]
  },
  {
   "cell_type": "code",
   "execution_count": null,
   "metadata": {},
   "outputs": [],
   "source": [
    "x = 5\n",
    "y = \"John\"\n",
    "print(type(x))\n",
    "print(type(y))"
   ]
  },
  {
   "cell_type": "markdown",
   "metadata": {},
   "source": [
    "## Single or Double Quotes?\n",
    "\n",
    "String variables can be declared either by using single or double quotes:\n"
   ]
  },
  {
   "cell_type": "code",
   "execution_count": null,
   "metadata": {},
   "outputs": [],
   "source": [
    "x = \"John\"\n",
    "# is the same as\n",
    "x = 'John'"
   ]
  },
  {
   "cell_type": "markdown",
   "metadata": {},
   "source": [
    "## Case-Sensitive\n"
   ]
  },
  {
   "cell_type": "code",
   "execution_count": null,
   "metadata": {},
   "outputs": [],
   "source": [
    "a = 4\n",
    "A = \"Sally\"\n",
    "#A will not overwrite a"
   ]
  },
  {
   "cell_type": "code",
   "execution_count": null,
   "metadata": {},
   "outputs": [],
   "source": [
    "a"
   ]
  },
  {
   "cell_type": "code",
   "execution_count": null,
   "metadata": {},
   "outputs": [],
   "source": [
    "A"
   ]
  },
  {
   "cell_type": "markdown",
   "metadata": {},
   "source": [
    "##Many Values to Multiple Variables\n",
    "Python allows you to assign values to multiple variables in one line:\n"
   ]
  },
  {
   "cell_type": "code",
   "execution_count": null,
   "metadata": {},
   "outputs": [],
   "source": [
    "x, y, z = \"Orange\", \"Banana\", \"Cherry\"\n",
    "print(x)\n",
    "print(y)\n",
    "print(z)"
   ]
  },
  {
   "cell_type": "code",
   "execution_count": null,
   "metadata": {},
   "outputs": [],
   "source": [
    "x = y = z = \"Orange\"\n",
    "print(x)\n",
    "print(y)\n",
    "print(z)"
   ]
  },
  {
   "cell_type": "code",
   "execution_count": null,
   "metadata": {},
   "outputs": [],
   "source": [
    "x = \"Python \"\n",
    "y = \"is \"\n",
    "z = \"awesome\"\n",
    "print(x + y + z)"
   ]
  },
  {
   "cell_type": "markdown",
   "metadata": {},
   "source": [
    "## Output Variables\n",
    "\n",
    "The Python `print()` function is often used to output variables.\n"
   ]
  },
  {
   "cell_type": "code",
   "execution_count": null,
   "metadata": {},
   "outputs": [],
   "source": [
    "x = \"Python is awesome\"\n",
    "print(x)"
   ]
  },
  {
   "cell_type": "code",
   "execution_count": null,
   "metadata": {},
   "outputs": [],
   "source": [
    "x = \"Python\"\n",
    "y = \"is\"\n",
    "z = \"awesome\"\n",
    "print(x, y, z)"
   ]
  },
  {
   "cell_type": "code",
   "execution_count": null,
   "metadata": {},
   "outputs": [],
   "source": [
    "x = \"Python \"\n",
    "y = \"is \"\n",
    "z = \"awesome\"\n",
    "print(x + y + z)"
   ]
  },
  {
   "cell_type": "code",
   "execution_count": null,
   "metadata": {},
   "outputs": [],
   "source": [
    "x = 1\n",
    "y = 2\n",
    "z = 3\n",
    "print(x + y + z)"
   ]
  },
  {
   "cell_type": "code",
   "execution_count": null,
   "metadata": {},
   "outputs": [],
   "source": [
    "x = 5\n",
    "y = \"John\"\n",
    "print(x + y)"
   ]
  },
  {
   "cell_type": "code",
   "execution_count": null,
   "metadata": {},
   "outputs": [],
   "source": [
    "x = 5\n",
    "y = \"John\"\n",
    "print(str(x) + ' ' + y)"
   ]
  },
  {
   "cell_type": "code",
   "execution_count": null,
   "metadata": {},
   "outputs": [],
   "source": [
    "print(f'Hello World')"
   ]
  },
  {
   "cell_type": "code",
   "execution_count": null,
   "metadata": {},
   "outputs": [],
   "source": [
    "print(f'{y} is {x} years old')"
   ]
  },
  {
   "cell_type": "code",
   "execution_count": null,
   "metadata": {},
   "outputs": [],
   "source": [
    "print(f'{y} is {x+x} years old')"
   ]
  },
  {
   "cell_type": "markdown",
   "metadata": {},
   "source": [
    "---\n"
   ]
  },
  {
   "cell_type": "markdown",
   "metadata": {},
   "source": [
    "# Python Data Types\n"
   ]
  },
  {
   "cell_type": "markdown",
   "metadata": {},
   "source": [
    "## Built-in Data Types\n",
    "\n",
    "In programming, data type is an important concept.\n",
    "\n",
    "Variables can store data of different types, and different types can do different things.\n",
    "\n",
    "Python has the following data types built-in by default, in these categories:\n",
    "\n",
    "- Text Type: `str`\n",
    "- Numeric Types: `int, float, complex`\n",
    "- Sequence Types: `list, tuple, range`\n",
    "- Mapping Type: `dict`\n",
    "- Set Types: `set, frozenset`\n",
    "- Boolean Type: `bool`\n",
    "- Binary Types: `bytes, bytearray, memoryview`\n",
    "- None Type: `NoneType`\n"
   ]
  },
  {
   "cell_type": "markdown",
   "metadata": {},
   "source": [
    "### int\n"
   ]
  },
  {
   "cell_type": "code",
   "execution_count": null,
   "metadata": {},
   "outputs": [],
   "source": [
    "x = 5\n",
    "print(type(x))"
   ]
  },
  {
   "cell_type": "markdown",
   "metadata": {},
   "source": [
    "### string\n"
   ]
  },
  {
   "cell_type": "code",
   "execution_count": null,
   "metadata": {},
   "outputs": [],
   "source": [
    "x = 'CPE 37'\n",
    "print(type(x))"
   ]
  },
  {
   "cell_type": "markdown",
   "metadata": {},
   "source": [
    "### float\n"
   ]
  },
  {
   "cell_type": "code",
   "execution_count": null,
   "metadata": {},
   "outputs": [],
   "source": [
    "x = 5.567\n",
    "print(type(x))"
   ]
  },
  {
   "cell_type": "markdown",
   "metadata": {},
   "source": [
    "### complex\n"
   ]
  },
  {
   "cell_type": "code",
   "execution_count": null,
   "metadata": {},
   "outputs": [],
   "source": [
    "x = 1j\n",
    "print(type(x))"
   ]
  },
  {
   "cell_type": "markdown",
   "metadata": {},
   "source": [
    "### list\n"
   ]
  },
  {
   "cell_type": "code",
   "execution_count": null,
   "metadata": {},
   "outputs": [],
   "source": [
    "x = [\"apple\", \"banana\", \"cherry\"]\n",
    "print(type(x))"
   ]
  },
  {
   "cell_type": "markdown",
   "metadata": {},
   "source": [
    "### tuple\n"
   ]
  },
  {
   "cell_type": "code",
   "execution_count": null,
   "metadata": {},
   "outputs": [],
   "source": [
    "x = (\"apple\", \"banana\", \"cherry\")\n",
    "print(type(x))"
   ]
  },
  {
   "cell_type": "markdown",
   "metadata": {},
   "source": [
    "### dict\n"
   ]
  },
  {
   "cell_type": "code",
   "execution_count": null,
   "metadata": {},
   "outputs": [],
   "source": [
    "x = {\"name\" : \"John\", \"age\" : 36}\n",
    "print(type(x))"
   ]
  },
  {
   "cell_type": "markdown",
   "metadata": {},
   "source": [
    "### bool\n"
   ]
  },
  {
   "cell_type": "code",
   "execution_count": null,
   "metadata": {},
   "outputs": [],
   "source": [
    "x = True\n",
    "print(type(x))"
   ]
  },
  {
   "cell_type": "markdown",
   "metadata": {},
   "source": [
    "### None\n"
   ]
  },
  {
   "cell_type": "code",
   "execution_count": null,
   "metadata": {},
   "outputs": [],
   "source": [
    "x = None\n",
    "print(type(x))"
   ]
  },
  {
   "cell_type": "markdown",
   "metadata": {},
   "source": [
    "---\n"
   ]
  },
  {
   "cell_type": "markdown",
   "metadata": {},
   "source": [
    "# Python Booleans\n",
    "\n",
    "Booleans represent one of two values: True or False.\n"
   ]
  },
  {
   "cell_type": "code",
   "execution_count": null,
   "metadata": {},
   "outputs": [],
   "source": [
    "print(10 > 9)"
   ]
  },
  {
   "cell_type": "code",
   "execution_count": null,
   "metadata": {},
   "outputs": [],
   "source": [
    "print(10 == 9)"
   ]
  },
  {
   "cell_type": "code",
   "execution_count": null,
   "metadata": {},
   "outputs": [],
   "source": [
    "print(10 < 9)"
   ]
  },
  {
   "cell_type": "code",
   "execution_count": null,
   "metadata": {},
   "outputs": [],
   "source": [
    "a = 200\n",
    "b = 33\n",
    "\n",
    "if b > a:\n",
    "  print(\"b is greater than a\")\n",
    "else:\n",
    "  print(\"b is not greater than a\")"
   ]
  },
  {
   "cell_type": "markdown",
   "metadata": {},
   "source": [
    "---\n"
   ]
  },
  {
   "cell_type": "markdown",
   "metadata": {},
   "source": [
    "# Python Operators\n",
    "\n",
    "Operators are used to perform operations on variables and values.\n"
   ]
  },
  {
   "cell_type": "markdown",
   "metadata": {},
   "source": [
    "## Python Arithmetic Operators\n"
   ]
  },
  {
   "cell_type": "markdown",
   "metadata": {},
   "source": [
    "### Addition\n"
   ]
  },
  {
   "cell_type": "code",
   "execution_count": null,
   "metadata": {},
   "outputs": [],
   "source": [
    "print(10 + 5)"
   ]
  },
  {
   "cell_type": "markdown",
   "metadata": {},
   "source": [
    "### Subtraction\n"
   ]
  },
  {
   "cell_type": "code",
   "execution_count": null,
   "metadata": {},
   "outputs": [],
   "source": [
    "print(10 - 5)"
   ]
  },
  {
   "cell_type": "markdown",
   "metadata": {},
   "source": [
    "### Multiplication\n"
   ]
  },
  {
   "cell_type": "code",
   "execution_count": null,
   "metadata": {},
   "outputs": [],
   "source": [
    "print(10 * 5)"
   ]
  },
  {
   "cell_type": "markdown",
   "metadata": {},
   "source": [
    "### Division\n"
   ]
  },
  {
   "cell_type": "code",
   "execution_count": null,
   "metadata": {},
   "outputs": [],
   "source": [
    "print(10 / 5)"
   ]
  },
  {
   "cell_type": "markdown",
   "metadata": {},
   "source": [
    "### Modulus\n"
   ]
  },
  {
   "cell_type": "code",
   "execution_count": null,
   "metadata": {},
   "outputs": [],
   "source": [
    "print(10 % 3)"
   ]
  },
  {
   "cell_type": "markdown",
   "metadata": {},
   "source": [
    "### Exponentiation\n"
   ]
  },
  {
   "cell_type": "code",
   "execution_count": null,
   "metadata": {},
   "outputs": [],
   "source": [
    "print(10 ** 3)"
   ]
  },
  {
   "cell_type": "markdown",
   "metadata": {},
   "source": [
    "### Floor division\n"
   ]
  },
  {
   "cell_type": "code",
   "execution_count": null,
   "metadata": {},
   "outputs": [],
   "source": [
    "print(10 // 3)"
   ]
  },
  {
   "cell_type": "markdown",
   "metadata": {},
   "source": [
    "## Python Assignment Operators\n"
   ]
  },
  {
   "cell_type": "code",
   "execution_count": null,
   "metadata": {},
   "outputs": [],
   "source": [
    "x=0\n",
    "\n",
    "for i in range(3):\n",
    "  x=x+5\n",
    "print(x)"
   ]
  },
  {
   "cell_type": "code",
   "execution_count": null,
   "metadata": {},
   "outputs": [],
   "source": [
    "x=0\n",
    "\n",
    "for i in range(3):\n",
    "  x+=5\n",
    "print(x)"
   ]
  },
  {
   "cell_type": "code",
   "execution_count": null,
   "metadata": {},
   "outputs": [],
   "source": [
    "for i in range(3):\n",
    "  x-=2\n",
    "print(x)"
   ]
  },
  {
   "cell_type": "markdown",
   "metadata": {},
   "source": [
    "## Python Comparison Operators\n"
   ]
  },
  {
   "cell_type": "markdown",
   "metadata": {},
   "source": [
    "### Equal\n"
   ]
  },
  {
   "cell_type": "code",
   "execution_count": null,
   "metadata": {},
   "outputs": [],
   "source": [
    "x = 5\n",
    "y = 10\n",
    "\n",
    "x == y"
   ]
  },
  {
   "cell_type": "markdown",
   "metadata": {},
   "source": [
    "### Not equal\n"
   ]
  },
  {
   "cell_type": "code",
   "execution_count": null,
   "metadata": {},
   "outputs": [],
   "source": [
    "x = 5\n",
    "y = 10\n",
    "\n",
    "x != y"
   ]
  },
  {
   "cell_type": "markdown",
   "metadata": {},
   "source": [
    "### Greater than\n"
   ]
  },
  {
   "cell_type": "code",
   "execution_count": null,
   "metadata": {},
   "outputs": [],
   "source": [
    "x = 5\n",
    "y = 10\n",
    "\n",
    "x > y"
   ]
  },
  {
   "cell_type": "markdown",
   "metadata": {},
   "source": [
    "### Less than\n"
   ]
  },
  {
   "cell_type": "code",
   "execution_count": null,
   "metadata": {},
   "outputs": [],
   "source": [
    "x = 5\n",
    "y = 10\n",
    "\n",
    "x < y"
   ]
  },
  {
   "cell_type": "markdown",
   "metadata": {},
   "source": [
    "### Greater than or equal to\n"
   ]
  },
  {
   "cell_type": "code",
   "execution_count": null,
   "metadata": {},
   "outputs": [],
   "source": [
    "x = 10\n",
    "y = 10\n",
    "\n",
    "x >= y"
   ]
  },
  {
   "cell_type": "code",
   "execution_count": null,
   "metadata": {},
   "outputs": [],
   "source": [
    "x = 8\n",
    "y = 10\n",
    "\n",
    "x >= y"
   ]
  },
  {
   "cell_type": "markdown",
   "metadata": {},
   "source": [
    "### Less than or equal to\n"
   ]
  },
  {
   "cell_type": "code",
   "execution_count": null,
   "metadata": {},
   "outputs": [],
   "source": [
    "x = 8\n",
    "y = 10\n",
    "\n",
    "x <= y"
   ]
  },
  {
   "cell_type": "markdown",
   "metadata": {},
   "source": [
    "## Python Logical Operators\n",
    "\n",
    "Logical operators are used to combine conditional statements:\n"
   ]
  },
  {
   "cell_type": "markdown",
   "metadata": {},
   "source": [
    "### and\n"
   ]
  },
  {
   "cell_type": "code",
   "execution_count": null,
   "metadata": {},
   "outputs": [],
   "source": [
    "x = 20\n",
    "x < 5 and  x < 10"
   ]
  },
  {
   "cell_type": "markdown",
   "metadata": {},
   "source": [
    "### or\n"
   ]
  },
  {
   "cell_type": "code",
   "execution_count": null,
   "metadata": {},
   "outputs": [],
   "source": [
    "x = 20\n",
    "x < 5 or x < 10"
   ]
  },
  {
   "cell_type": "code",
   "execution_count": null,
   "metadata": {},
   "outputs": [],
   "source": [
    "x = 8\n",
    "x < 5 or x < 10"
   ]
  },
  {
   "cell_type": "markdown",
   "metadata": {},
   "source": [
    "### not\n"
   ]
  },
  {
   "cell_type": "code",
   "execution_count": null,
   "metadata": {},
   "outputs": [],
   "source": [
    "not(x < 5 and x < 10)"
   ]
  },
  {
   "cell_type": "markdown",
   "metadata": {},
   "source": [
    "## Python Membership Operators\n",
    "\n",
    "Membership operators are used to test if a sequence is presented in an object:\n"
   ]
  },
  {
   "cell_type": "code",
   "execution_count": null,
   "metadata": {},
   "outputs": [],
   "source": [
    "x = [\"apple\", \"banana\"]\n",
    "\n",
    "print(\"banana\" in x)"
   ]
  },
  {
   "cell_type": "markdown",
   "metadata": {},
   "source": [
    "---\n"
   ]
  },
  {
   "cell_type": "markdown",
   "metadata": {},
   "source": [
    "# Non-primitive\n",
    "\n",
    "> Non-primitive data types, also called reference data types, are data structures like arrays, strings, classes, and objects that are not built-in to a programming language and require the creation of a new instance to store data\n",
    "> แปล: Non-primitive คือ ชนิดข้อมูลที่ไม่ใช่ primitive หรือชนิดข้อมูลพื้นฐาน ซึ่งเป็นโครงสร้างข้อมูลเช่น อาร์เรย์, สตริง, คลาส, และออบเจ็กต์ ที่ไม่ได้มีอยู่ในภาษาโปรแกรมมิ่งและต้องสร้างอินสแตนซ์ใหม่เพื่อเก็บข้อมูล\n",
    "\n",
    "For Student Who already learn some basic python. You can move to [Trip and Trick](#trick-for-non-primitive-data-types) section for learn some trick for non-primitive data types(maybe you don't know before). or you can move to [Exercise](#exercise-for-non-primitive-data-types) section for practice your skill(no graded).\n"
   ]
  },
  {
   "cell_type": "markdown",
   "metadata": {},
   "source": [
    "## List of Non-primitive data types\n",
    "\n",
    "I will list some of the non-primitive data types that are commonly used in programming languages.\n",
    "\n",
    "1. [List](##1-list)\n",
    "2. [Tuple](##2-tuple)\n",
    "3. [Set](##3-set)\n",
    "4. [Dictionary](##4-dictionary)\n"
   ]
  },
  {
   "cell_type": "markdown",
   "metadata": {},
   "source": [
    "## 1. List\n"
   ]
  },
  {
   "cell_type": "markdown",
   "metadata": {},
   "source": [
    "Lists are used to store multiple items in a single variable.\n"
   ]
  },
  {
   "cell_type": "markdown",
   "metadata": {},
   "source": [
    "### Creating a List\n",
    "\n",
    "to create list variable in python, you can use square brackets `[]` and separate the items with commas `,` or use the `list()` constructor.\n",
    "\\\n",
    "แปลงข้อมูลให้อยู่ในรูปของ list โดยใช้ `list()` หรือใช้ `[]` และคั่นด้วย `,`\n",
    "\n",
    "1. Using square brackets `[]`\n",
    "   <br>\n",
    "   Example:\n"
   ]
  },
  {
   "cell_type": "code",
   "execution_count": null,
   "metadata": {},
   "outputs": [],
   "source": [
    "# Creating a list containing three strings\n",
    "fruits = [\"apple\", \"banana\", \"cherry\"]\n",
    "\n",
    "# displaying the list\n",
    "print(fruits) # ['apple', 'banana', 'cherry']"
   ]
  },
  {
   "cell_type": "markdown",
   "metadata": {},
   "source": [
    "2. Using the `list()` to create a list\n",
    "   <br>\n",
    "   Example:\n"
   ]
  },
  {
   "cell_type": "code",
   "execution_count": null,
   "metadata": {},
   "outputs": [],
   "source": [
    "# Creating an empty list\n",
    "empty_array = list()\n",
    "\n",
    "print(empty_array) # []\n"
   ]
  },
  {
   "cell_type": "markdown",
   "metadata": {},
   "source": [
    "### Accessing elements of a list\n",
    "\n",
    "to access elements of a list, we use the **index** of the element(`some_list[0]`)\n",
    "\\\n",
    "แปล: เพื่อเข้าถึงข้อมูลใน list ให้ใช้ **index** ของข้อมูล(`some_list[0]`)\n",
    "\\\n",
    "\\\n",
    "**Index** is the position of an element in a list. The index starts from 0.\n",
    "\\\n",
    "แปล: **index** คือ ตำแหน่งของข้อมูลใน list โดยเริ่มต้นจาก 0 เวลาเรียกใช้ข้อมูลใน list จะใช้ index ในการเรียก\n"
   ]
  },
  {
   "cell_type": "code",
   "execution_count": null,
   "metadata": {},
   "outputs": [],
   "source": [
    "# creating a list\n",
    "fruits = [\"apple\", \"banana\", \"cherry\"]\n",
    "\n",
    "# displaying the first element of the list\n",
    "print(fruits[0]) # apple\n"
   ]
  },
  {
   "cell_type": "markdown",
   "metadata": {},
   "source": [
    "You can also access elements from the end of the list using negative index. (-1 is the last element, -2 is the second last element and so on)\n",
    "\\\n",
    "แปล: เราสามารถเรียกใช้ข้อมูลจากท้ายของ list ได้โดยใช้ index ลบ โดย -1 คือข้อมูลสุดท้าย -2 คือข้อมูลก่อนสุดท้าย ไล่ย้อนกลับไปเรื่อยๆ\n"
   ]
  },
  {
   "cell_type": "code",
   "execution_count": null,
   "metadata": {},
   "outputs": [],
   "source": [
    "# creating a list\n",
    "cars = [\"Ford\", \"Volvo\", \"BMW\"]\n",
    "\n",
    "# displaying the last element of the list\n",
    "print(cars[-1]) # BMW\n",
    "\n",
    "# displaying the second last element of the list\n",
    "print(cars[-2]) # Volvo"
   ]
  },
  {
   "cell_type": "markdown",
   "metadata": {},
   "source": [
    "We can also access a range of items in a list by using the **slicing operator** (`:`).\n",
    "\\\n",
    "แปล: เราสามารถเรียกใช้ข้อมูลใน list โดยใช้ **slicing operator** (`:`)\n",
    "\\\n",
    "\n",
    "#### Slicing Trivia\n",
    "\n",
    "1. **Normal Index Slicing format**: `some_list[start:end]`\n",
    "2. **Select from start to some index**: `some_list[:end]`\n",
    "3. **Select from some index to end**: `some_list[start:]`\n",
    "4. **Select from start to end with step**: `some_list[start:end:step]`\n",
    "\n",
    "> **Info**: The slicing operator returns a new list with the selected elements. The original list remains unchanged. You can prove this by printing the original list after slicing.\n",
    "\n",
    "> **Note**: If you try to access an index that is out of range, you will get an `IndexError`. If you try to access a non-existent key, you will get a `KeyError`.\n",
    "\n",
    "> **Note**: You can also access reverse elements of a list using the slicing operator with a negative step.\n"
   ]
  },
  {
   "cell_type": "code",
   "execution_count": null,
   "metadata": {},
   "outputs": [],
   "source": [
    "# create a list from a magic method. explain this trick later :)\n",
    "foo = [i for i in range(0, 30)]\n",
    "\n",
    "# displaying the list from index 5 to 10(return 6th to 10th element)\n",
    "print(foo[5:10]) # [5, 6, 7, 8, 9] \n",
    "\n",
    "# displaying the list from start to index 5(return 1st to 5th element)\n",
    "print(foo[:5]) # [0, 1, 2, 3, 4]\n",
    "\n",
    "# displaying the list from index 5 to end(return 6th to last element)\n",
    "print(foo[5:]) # [5, 6, 7, 8, 9, 10, 11, 12, 13, 14, 15, 16, 17, 18, 19, 20, 21, 22, 23, 24, 25, 26, 27, 28, 29]\n",
    "\n",
    "# displaying the list from index 5 to 10 with a step of 2\n",
    "print(foo[5:20:2]) # [5, 7, 9, 11, 13, 15, 17, 19]\n",
    "\n",
    "# displaying the reversed list\n",
    "print(foo[::-1]) # [29, 28, 27, 26, 25, 24, 23, 22, 21, 20, 19, 18, 17, 16, 15, 14, 13, 12, 11, 10, 9, 8, 7, 6, 5, 4, 3, 2, 1, 0]\n",
    "\n",
    "# or (display last 4 elements in reverse order)\n",
    "print(foo[-1:-5: -1]) # [29, 28, 27, 26]"
   ]
  },
  {
   "cell_type": "markdown",
   "metadata": {},
   "source": [
    "### Modifying elements of a list\n",
    "\n",
    "You can modify the elements of a list by assigning new values to the elements using the index of the element.\n",
    "\\\n",
    "แปล: เราสามารถแก้ไขข้อมูลใน list โดยการกำหนดค่าใหม่ให้กับข้อมูลโดยใช้ index ของข้อมูล\n"
   ]
  },
  {
   "cell_type": "code",
   "execution_count": null,
   "metadata": {},
   "outputs": [],
   "source": [
    "# creating a list\n",
    "fruits = [\"apple\", \"banana\", \"cherry\"]\n",
    "\n",
    "# displaying current list\n",
    "print(fruits) # ['apple', 'banana', 'cherry']\n",
    "\n",
    "# updating the second element of the list\n",
    "fruits[1] = \"blackcurrant\"\n",
    "\n",
    "# displaying the updated list\n",
    "print(fruits) # ['apple', 'blackcurrant', 'cherry']\n"
   ]
  },
  {
   "cell_type": "markdown",
   "metadata": {},
   "source": [
    "We can update multiple elements in a list using the slicing operator.\n",
    "\\\n",
    "แปล: สามารถอัพเดทหลายๆ ข้อมูลใน list โดยใช้ slicing operator\n",
    "\n",
    "```\n",
    "some_list[start:end] = [new_values]\n",
    "```\n"
   ]
  },
  {
   "cell_type": "code",
   "execution_count": null,
   "metadata": {},
   "outputs": [],
   "source": [
    "# creating a list\n",
    "fruits = [\"apple\", \"banana\", \"cherry\", \"date\"]\n",
    "\n",
    "# displaying current list\n",
    "print(fruits) # ['apple', 'banana', 'cherry', 'date']\n",
    "\n",
    "# updating the second and third element of the list\n",
    "fruits[1:3] = [\"blackcurrant\", \"blueberry\"]\n",
    "\n",
    "# displaying the updated list\n",
    "print(fruits) # ['apple', 'blackcurrant', 'blueberry', 'date']"
   ]
  },
  {
   "cell_type": "markdown",
   "metadata": {},
   "source": [
    "Other than this. We can also add elements to a list using the `append()` method. or insert elements at a specific index using the `insert()` method and remove elements from a list by specifying the value to remove using the `remove()` method and use `pop()` to remove the last element of the list which we can store the value of the removed element.\n",
    "\\\n",
    "แปล: นอกจากนี้เรายังสามารถเพิ่มข้อมูลใน list โดยใช้ methodที่มีชื่อว่า `append()` หรือเพิ่มข้อมูลใน index ที่กำหนดโดยใช้ `insert()` และลบข้อมูลใน listด้วยการกำหนดค่าที่จะลบ โดยใช้ `remove()` ได้นั่นเอง และใช้ `pop()` ในการลบข้อมูลสุดท้ายของ list ซึ่งเราสามารถเก็บค่าข้อมูลที่ถูกลบไว้ได้\n"
   ]
  },
  {
   "cell_type": "code",
   "execution_count": null,
   "metadata": {},
   "outputs": [],
   "source": [
    "# creating a list\n",
    "fruits = [\"apple\", \"banana\", \"cherry\", \"date\"]\n",
    "\n",
    "# displaying current list\n",
    "print(fruits) # ['apple', 'banana', 'cherry', 'date']\n",
    "\n",
    "# appending a new element to the list\n",
    "fruits.append(\"elderberry\")\n",
    "\n",
    "# displaying the updated list\n",
    "print(fruits) # ['apple', 'banana', 'cherry', 'date', 'elderberry']\n",
    "\n",
    "# inserting a new element at index 1\n",
    "fruits.insert(1, \"blackcurrant\")\n",
    "\n",
    "# displaying the updated list\n",
    "print(fruits) # ['apple', 'blackcurrant', 'banana', 'cherry', 'date', 'elderberry']\n",
    "\n",
    "# remove the 2nd element of the list using remove method\n",
    "fruits.remove(\"blackcurrant\")\n",
    "\n",
    "# displaying the updated list\n",
    "print(fruits) # ['apple', 'banana', 'cherry', 'date', 'elderberry']\n",
    "\n",
    "# pop the last element of the list\n",
    "pop_value = fruits.pop()\n",
    "\n",
    "# displaying the updated list\n",
    "print(fruits) # ['apple', 'banana', 'cherry', 'date']\n",
    "# displaying the popped value\n",
    "print(pop_value) # elderberry"
   ]
  },
  {
   "cell_type": "markdown",
   "metadata": {},
   "source": [
    "**Special trick**: for remove value in list by index, you can use `del some_list[index]`\n"
   ]
  },
  {
   "cell_type": "code",
   "execution_count": null,
   "metadata": {},
   "outputs": [],
   "source": [
    "# creating a list\n",
    "fruits = [\"apple\", \"banana\", \"cherry\", \"date\"]\n",
    "\n",
    "# removing the 2nd element of the list using del keyword\n",
    "del fruits[1]\n",
    "\n",
    "# displaying the updated list\n",
    "print(fruits) # ['apple', 'cherry', 'date']"
   ]
  },
  {
   "cell_type": "markdown",
   "metadata": {},
   "source": [
    "They have a lot of methods that you can use to manipulate the list. You can check the [official documentation](https://docs.python.org/3/tutorial/datastructures.html) for more information.\n",
    "\\\n",
    "แปล: มี method อีกมากมายที่เราสามารถใช้ในการจัดการ list สามารถดูเพิ่มเติมได้ที่ [official documentation](https://docs.python.org/3/tutorial/datastructures.html)\n",
    "\n",
    "Some Example of methods:\n"
   ]
  },
  {
   "cell_type": "code",
   "execution_count": null,
   "metadata": {},
   "outputs": [],
   "source": [
    "# creating a list\n",
    "fruits = [\"I\", \" \", \"l\", \"o\", \"v\", \"e\", \" \", \"p\", \"y\", \"t\", \"h\", \"o\", \"n\", \"aa\"]\n",
    "\n",
    "# sorting the list\n",
    "fruits.sort() \n",
    "print(fruits) # will sort by ascii value [' ', ' ', 'I', 'a', 'e', 'h', 'l', 'n', 'o', 'o', 'p', 't', 'v', 'y']\n",
    "\n",
    "# joining the 2 lists\n",
    "fruits = [\"apple\", \"banana\", \"cherry\"]\n",
    "cars = [\"Ford\", \"Volvo\", \"BMW\"]\n",
    "print(fruits + cars) # ['apple', 'banana', 'cherry', 'Ford', 'Volvo', 'BMW']\n",
    "\n",
    "# Bra Bra Bra, a lot of methods to learn :\\"
   ]
  },
  {
   "cell_type": "markdown",
   "metadata": {},
   "source": [
    "## 2. Tuple\n",
    "\n",
    "Tuples are used to store multiple items in a single variable. A tuple is a collection which is ordered and unchangeable. In Python tuples are written with round brackets(`()`).\n",
    "\\\n",
    "The main difference between a list and a tuple is that lists are **mutable** while tuples are **immutable**. Once a tuple is created, you <span style=\"color:red\">cannot change its values</span>. You can access the elements of a tuple using the index of the element.\n",
    "\\\n",
    "\\\n",
    "แปล: Tuples ใช้ในการเก็บข้อมูลหลายๆ ข้อมูลในตัวแปรเดียว โดย tuple คือ collection ที่เรียงลำดับและไม่สามารถเปลี่ยนแปลงได้ ใน Python tuple จะถูกเขียนด้วยวงเล็บกลม `()`\n",
    "\\\n",
    "เอาง่ายๆคือมัน<span style=\"color:red\">ไม่สามารถแก้ไขค่า</span>ได้หลังจากที่ประกาศ Tupleไว้แล้วนั้นเอง\n",
    "\n",
    "**Use case in Tuple**\n",
    "\n",
    "- Coordinate system(x,y,z)\n",
    "- RGB color system\n"
   ]
  },
  {
   "cell_type": "markdown",
   "metadata": {},
   "source": [
    "### Creating a Tuple\n",
    "\n",
    "to create a tuple variable in python, you can use round brackets `()` and separate the items with commas `,` or use the `tuple()` constructor.\n",
    "\\\n",
    "แปล: สร้างตัวแปร tuple ใน python โดยใช้วงเล็บกลม `()` และคั่นด้วย `,` หรือใช้ `tuple()` ได้\n"
   ]
  },
  {
   "cell_type": "markdown",
   "metadata": {},
   "source": [
    "1. Using round brackets `()`\n",
    "   <br>\n",
    "   Example:\n"
   ]
  },
  {
   "cell_type": "code",
   "execution_count": null,
   "metadata": {},
   "outputs": [],
   "source": [
    "# creating a tuple\n",
    "coordinate = (1, 2, 3) # (x, y, z)\n",
    "\n",
    "# displaying the tuple\n",
    "print(coordinate) # (1, 2, 3)"
   ]
  },
  {
   "cell_type": "markdown",
   "metadata": {},
   "source": [
    "2. Using the `tuple()` to create a tuple\n",
    "   <br>\n",
    "   Example:\n"
   ]
  },
  {
   "cell_type": "code",
   "execution_count": null,
   "metadata": {},
   "outputs": [],
   "source": [
    "# create a tuple using tuple() method\n",
    "coordinate = tuple((1, 2, 3)) # It also use `()` inside `tuple()` method eiei\n",
    "\n",
    "# displaying the tuple\n",
    "print(coordinate) # (1, 2, 3)"
   ]
  },
  {
   "cell_type": "markdown",
   "metadata": {},
   "source": [
    "3. Special Trick: Creating a tuple with a single element\n",
    "   \\\n",
    "   Example:\n"
   ]
  },
  {
   "cell_type": "code",
   "execution_count": null,
   "metadata": {},
   "outputs": [],
   "source": [
    "coordinate = 1, 2, 3\n",
    "\n",
    "# displaying the tuple\n",
    "print(coordinate) # (1, 2, 3)"
   ]
  },
  {
   "cell_type": "markdown",
   "metadata": {},
   "source": [
    "### Accessing elements of a tuple\n",
    "\n",
    "like lists, you can access elements of a tuple using the index of the element.\n"
   ]
  },
  {
   "cell_type": "code",
   "execution_count": null,
   "metadata": {},
   "outputs": [],
   "source": [
    "# creating a tuple\n",
    "fruits = (\"apple\", \"banana\", \"cherry\")\n",
    "\n",
    "# displaying the first element of the tuple\n",
    "print(fruits[0]) # apple\n",
    "\n",
    "# displaying the last element of the tuple\n",
    "print(fruits[-1]) # cherry\n",
    "\n"
   ]
  },
  {
   "cell_type": "markdown",
   "metadata": {},
   "source": [
    "### Modifying elements of a tuple\n",
    "\n",
    "As mentioned earlier, `tuples` are immutable. You <span style=\"color:red\">cannot change the values of a `tuple`</span> once it is created. But you can convert a `tuple` to a `list`, change the values of the `list`, and convert it back to a `tuple`.\n",
    "\\\n",
    "แปล: อย่างที่ได้บอกไปคือ `tuple` <span style=\"color:red\">ไม่สามารถเปลี่ยน</span> ค่าของ `tuple`ได้หลังจากที่สร้าง tuple ไว้แล้ว แต่เราสามารถแปลง tuple เป็น list และเปลี่ยนค่าของ list และแปลงกลับเป็น tuple ได้\n"
   ]
  },
  {
   "cell_type": "code",
   "execution_count": null,
   "metadata": {},
   "outputs": [],
   "source": [
    "# creating a tuple\n",
    "fruits = (\"apple\", \"banana\", \"cherry\")\n",
    "\n",
    "# try to update the second element of the tuple\n",
    "fruits[1] = \"blackcurrant\" # TypeError: 'tuple' object does not support item assignment\n"
   ]
  },
  {
   "cell_type": "code",
   "execution_count": null,
   "metadata": {},
   "outputs": [],
   "source": [
    "# creating a tuple\n",
    "fruits = (\"apple\", \"banana\", \"cherry\")\n",
    "\n",
    "# To update the tuple, convert it to a list then update it\n",
    "x = list(fruits)\n",
    "x[1] = \"blackcurrant\"\n",
    "fruits = tuple(x)\n",
    "\n",
    "# displaying the updated tuple\n",
    "print(fruits) # ('apple', 'blackcurrant', 'cherry')"
   ]
  },
  {
   "cell_type": "markdown",
   "metadata": {},
   "source": [
    "### Tuple Methods\n",
    "\n",
    "Tuples have only two methods `count()` and `index()`. You can check the [official documentation](https://docs.python.org/3/tutorial/datastructures.html#tuples-and-sequences) for more information.\n",
    "\\\n",
    "แปล: Tuple มีเพียง 2 method คือ `count()` และ `index()` สามารถดูเพิ่มเติมได้ที่ [official documentation](https://docs.python.org/3/tutorial/datastructures.html#tuples-and-sequences)\n"
   ]
  },
  {
   "cell_type": "markdown",
   "metadata": {},
   "source": [
    "## 3. Set\n",
    "\n",
    "Sets are used to store multiple items in a single variable. A set is a collection which is <span style=\"color:red\">unordered</span> and <span style=\"color:red\">unindexed</span>. In Python sets are written with curly brackets(`{}`).\n",
    "\\\n",
    "The main difference between a set and a list is that sets are **unordered** and **unindexed**. You <span style=\"color:red\">cannot access items in a set by referring to an index</span>, since sets are unordered the items has no index.\n",
    "\\\n",
    "\\\n",
    "แปล: Set ใช้ในการเก็บข้อมูลหลายๆ ข้อมูลในตัวแปรเดียว โดย set คือ collection ที่ไม่เรียงลำดับและไม่มี index ใน Python set จะถูกเขียนด้วยวงเล็บปีกกา `{}`\n",
    "\\\n",
    "ความแตกต่างหลักๆระหว่าง set กับ list คือ set ไม่เรียงลำดับและไม่มี index คุณ<span style=\"color:red\">ไม่สามารถเข้าถึงข้อมูลใน set โดยการอ้างอิง index</span> เนื่องจาก set ไม่เรียงลำดับ ข้อมูลไม่มี index\n",
    "\n",
    "**Use case in Set**\n",
    "\n",
    "- Keep the Unique values\n",
    "- Mathematical **set operations**\n"
   ]
  },
  {
   "cell_type": "markdown",
   "metadata": {},
   "source": [
    "### Creating a Set\n",
    "\n",
    "to create a set variable in python, you can use curly brackets `{}` or use the `set()` constructor.\n",
    "\\\n",
    "แปล: สร้างตัวแปร set ใน python โดยใช้วงเล็บปีกกา `{}` หรือใช้ `set()` ได้\n"
   ]
  },
  {
   "cell_type": "code",
   "execution_count": null,
   "metadata": {},
   "outputs": [],
   "source": [
    "# create a set\n",
    "fruits = {\"apple\", \"banana\", \"cherry\"}\n",
    "\n",
    "# displaying the set\n",
    "print(fruits) # {'apple', 'banana', 'cherry'}"
   ]
  },
  {
   "cell_type": "markdown",
   "metadata": {},
   "source": [
    "### Accessing elements of a set\n",
    "\n",
    "You <span style=\"color:red\">cannot access items in a set by referring to an index</span>, since sets are unordered the items has no index. But you can loop through the set items using a `for` loop, or ask if a specified value is present in a set, by using the `in` keyword.\n",
    "\\\n",
    "แปล: เราจะ<span style=\"color:red\">ไม่สามารถเข้าถึงข้อมูลใน set โดยการอ้างอิง index</span> เนื่องจาก set ไม่เรียงลำดับ ข้อมูลไม่มี index แต่คุณสามารถวนลูปผ่านข้อมูลใน set โดยใช้ `for` loop เพื่อตรวจสอบว่าค่าที่ระบุอยู่ใน set หรือไม่ โดยใช้ `in` keyword\n"
   ]
  },
  {
   "cell_type": "code",
   "execution_count": null,
   "metadata": {},
   "outputs": [],
   "source": [
    "# create a set\n",
    "fruits = {\"apple\", \"banana\", \"cherry\"}\n",
    "\n",
    "# try to access the set using index\n",
    "print(fruits[0]) # TypeError: 'set' object is not subscriptable"
   ]
  },
  {
   "cell_type": "code",
   "execution_count": null,
   "metadata": {},
   "outputs": [],
   "source": [
    "# create a set\n",
    "fruits = {\"apple\", \"banana\", \"cherry\"}\n",
    "\n",
    "# accessing the set using for loop\n",
    "for x in fruits:\n",
    "    if x == \"banana\":\n",
    "        print(x)"
   ]
  },
  {
   "cell_type": "markdown",
   "metadata": {},
   "source": [
    "### Modifying elements of a set\n",
    "\n",
    "To update the items in a set, you can use the `add()` method to add a single item, and the `update()` method to add multiple items. and you can remove an item in a set using the `remove()` method, or use the `discard()` method which will not raise any error if the item does not exist in the set.\n",
    "\\\n",
    "แปล: เพื่ออัพเดทข้อมูลใน set คุณสามารถใช้ method `add()` เพื่อเพิ่มข้อมูลเดี่ยว และ method `update()` เพื่อเพิ่มหลายๆ ข้อมูล และคุณสามารถลบข้อมูลใน set โดยใช้ method `remove()` หรือใช้ method `discard()` ซึ่งจะไม่เกิดข้อผิดพลาดหากข้อมูลไม่มีอยู่ใน set\n"
   ]
  },
  {
   "cell_type": "code",
   "execution_count": null,
   "metadata": {},
   "outputs": [],
   "source": [
    "# create a set\n",
    "fruits = {\"apple\", \"banana\", \"cherry\"}\n",
    "\n",
    "# adding a new element to the set\n",
    "fruits.add(\"date\")\n",
    "\n",
    "# displaying the updated set\n",
    "print(fruits) # {'apple', 'banana', 'cherry', 'date'}\n",
    "\n",
    "# recreate a set\n",
    "fruits = {\"apple\", \"banana\", \"cherry\"}\n",
    "\n",
    "# adding multiple elements to the set\n",
    "fruits.update([\"date\", \"elderberry\"])\n",
    "\n",
    "# removing an element from the set\n",
    "fruits.remove(\"banana\")\n",
    "\n",
    "# displaying the updated set\n",
    "print(fruits) # {'apple', 'cherry', 'date', 'elderberry'}\n",
    "\n",
    "# create a set\n",
    "fruits = {\"apple\", \"banana\", \"cherry\"}\n",
    "\n",
    "# removing an element from the set\n",
    "fruits.discard(\"banana\")\n",
    "\n",
    "# displaying the updated set\n",
    "print(fruits) # {'apple', 'cherry'}\n"
   ]
  },
  {
   "cell_type": "markdown",
   "metadata": {},
   "source": [
    "#### Set Operations\n",
    "\n",
    "1. **Union**: `set1.union(set2)` or `set1 | set2`\n",
    "2. **Intersection**: `set1.intersection(set2)` or `set1 & set2`\n",
    "3. **Difference**: `set1.difference(set2)` or `set1 - set2`\n",
    "4. **Symmetric Difference**: `set1.symmetric_difference(set2)` or `set1 ^ set2`\n",
    "5. **Subset**: `set1.issubset(set2)` or `set1 <= set2`\n",
    "6. **Superset**: `set1.issuperset(set2)` or `set1 >= set2`\n",
    "7. **Disjoint**: `set1.isdisjoint(set2)`\n",
    "8. **Update**: `set1.update(set2)` or `set1 |= set2`\n",
    "9. **Intersection Update**: `set1.intersection_update(set2)` or `set1 &= set2`\n",
    "10. **Difference Update**: `set1.difference_update(set2)` or `set1 -= set2`\n",
    "    etc.(it too many to list here!! see more in [official documentation](https://docs.python.org/3/library/stdtypes.html#set))\n"
   ]
  },
  {
   "cell_type": "code",
   "execution_count": null,
   "metadata": {},
   "outputs": [],
   "source": [
    "a = {1, 2, 3, 4, 5}\n",
    "b = {4, 5, 6, 7, 8}\n",
    "\n",
    "# union of 2 sets\n",
    "print(a | b) # {1, 2, 3, 4, 5, 6, 7, 8}\n",
    "\n",
    "# intersection of 2 sets\n",
    "print(a & b) # {4, 5}\n",
    "\n",
    "# difference of 2 sets\n",
    "print(a - b) # {1, 2, 3}\n",
    "\n",
    "# symmetric difference of 2 sets\n",
    "print(a ^ b) # {1, 2, 3, 6, 7, 8}"
   ]
  },
  {
   "cell_type": "markdown",
   "metadata": {},
   "source": [
    "## 4. Dictionary\n",
    "\n",
    "Dictionaries are used to store data values in `key`:`value` pairs. A dictionary is a collection which is <span style=\"color:red\">unordered</span>, <span style=\"color:green\">changeable</span> and <span style=\"color:green\">indexed</span>. In Python dictionaries are written with curly brackets(`{}`) and they have keys and values.\n",
    "\\\n",
    "แปล: Dictionaries ใช้ในการเก็บข้อมูลในรูปแบบ `key`:`value` คือ collection ที่ไม่เรียงลำดับ, สามารถเปลี่ยนแปลงได้ และมี index ใน Python dictionaries จะถูกเขียนด้วยวงเล็บปีกกา `{}`\n",
    "\\\n",
    "\\\n",
    "**Use case in Dictionary**\n",
    "\\\n",
    "The usecase of dictionary is very wide, you can use it to store data in a structured way. Some of the use cases are:\n",
    "\n",
    "- Store user data\n",
    "- Store configuration data\n",
    "- Store data in a structured way\n",
    "\n",
    "**Note**: Key of a dictionary is unique. and Can be anythings that can **hash**(mostly string, number and even tuple)\n",
    "\\\n",
    "แปล: Key ของ dictionary ต้องเป็น unique และสามารถเป็นอะไรก็ได้ที่สามารถ **hash** ได้(โดยทั่วไปคือ string, number และ tuple)\n"
   ]
  },
  {
   "cell_type": "code",
   "execution_count": null,
   "metadata": {},
   "outputs": [],
   "source": [
    "# create a dictionary\n",
    "person = {\n",
    "    \"name\": \"John\",\n",
    "    \"age\": 36,\n",
    "    \"country\": \"Norway\"\n",
    "}\n",
    "\n",
    "# displaying the dictionary\n",
    "print(person) # {'name': 'John', 'age': 36, 'country': 'Norway'}"
   ]
  },
  {
   "cell_type": "code",
   "execution_count": null,
   "metadata": {},
   "outputs": [],
   "source": [
    "tuple_key = 1,2,3\n",
    "\n",
    "some_dict = {\n",
    "    tuple_key: \"value\",\n",
    "    \"key\": \"value\",\n",
    "    \"key2\": \"value\"\n",
    "}\n",
    "\n",
    "print(some_dict) # {(1, 2, 3): 'value', 'key': 'value', '"
   ]
  },
  {
   "cell_type": "code",
   "execution_count": null,
   "metadata": {},
   "outputs": [],
   "source": [
    "# some invalid key\n",
    "set_key = {1, 2, 3}\n",
    "some_dict = {\n",
    "    set_key: \"value\",\n",
    "    \"key\": \"value\",\n",
    "    \"key2\": \"value\"\n",
    "}\n",
    "    "
   ]
  },
  {
   "cell_type": "code",
   "execution_count": null,
   "metadata": {},
   "outputs": [],
   "source": [
    "# some invalid key(directly use list or tuple as key)\n",
    "some_dict = {\n",
    "    [1, 2, 3]: \"value\",\n",
    "    \"key\": \"value\",\n",
    "    \"key2\": \"value\"\n",
    "}"
   ]
  },
  {
   "cell_type": "markdown",
   "metadata": {},
   "source": [
    "But **frozen set** is also hashable, so you can use it as a key in a dictionary.\n",
    "\\\n",
    "แปล: แต่ **frozen set** ก็สามารถ hash ได้ดังนั้นคุณสามารถใช้มันเป็น key ใน dictionary\n"
   ]
  },
  {
   "cell_type": "code",
   "execution_count": null,
   "metadata": {},
   "outputs": [],
   "source": [
    "frozenset_key = frozenset({1, 2, 3})\n",
    "\n",
    "some_dict = {\n",
    "    frozenset_key: \"value\",\n",
    "    \"key\": \"value\",\n",
    "    \"key2\": \"value\"\n",
    "}\n",
    "\n",
    "print(some_dict) # {frozenset({1, 2, 3}): 'value', 'key"
   ]
  },
  {
   "cell_type": "markdown",
   "metadata": {},
   "source": [
    "### Accessing elements of a dictionary\n",
    "\n",
    "We commonly access the value of a dictionary using the key of the element.\n",
    "\\\n",
    "แปล: เราสามารถเข้าถึงค่าของ dictionary โดยใช้ key ของข้อมูล\n"
   ]
  },
  {
   "cell_type": "code",
   "execution_count": null,
   "metadata": {},
   "outputs": [],
   "source": [
    "# create a dictionary\n",
    "person = {\n",
    "    \"name\": \"John\",\n",
    "    \"age\": 36,\n",
    "    \"country\": \"Norway\"\n",
    "}\n",
    "\n",
    "# displaying dictionary value using key\n",
    "print(person[\"name\"]) # John\n",
    "\n",
    "\n",
    "\n"
   ]
  },
  {
   "cell_type": "markdown",
   "metadata": {},
   "source": [
    "Or you can use the `get()` method to access the value of a key.\n",
    "\\\n",
    "แปล: หรือคุณสามารถใช้ method `get()` เพื่อเข้าถึงค่าของ key\n",
    "\n",
    "Here! a reason that you should use `get()` method instead of `[]` to access the value of a key.\n",
    "\\\n",
    "แปล: นี่คือเหตุผลที่คุณควรใช้ method `get()` แทน `[]` เพื่อเข้าถึงค่าของ key\n"
   ]
  },
  {
   "cell_type": "code",
   "execution_count": null,
   "metadata": {},
   "outputs": [],
   "source": [
    "# create a dictionary\n",
    "person = {\n",
    "    \"name\": \"John\",\n",
    "    \"age\": 36,\n",
    "    \"country\": \"Norway\"\n",
    "}\n",
    "\n",
    "# try to access a key that does not exist\n",
    "print(person[\"eiei\"]) # KeyError: 'eiei'"
   ]
  },
  {
   "cell_type": "code",
   "execution_count": null,
   "metadata": {},
   "outputs": [],
   "source": [
    "# create a dictionary\n",
    "person = {\n",
    "    \"name\": \"John\",\n",
    "    \"age\": 36,\n",
    "    \"country\": \"Norway\"\n",
    "}\n",
    "\n",
    "# displaying dictionary value using get method with a key that does not exist(it will return None)\n",
    "print(person.get(\"eiei\")) # John"
   ]
  },
  {
   "cell_type": "markdown",
   "metadata": {},
   "source": [
    "### Modifying elements of a dictionary\n",
    "\n",
    "You can change the value of a specific item by referring to its key name. and you can add a new item to the dictionary by using a new index key and assigning a value to it or you can use the `update()` method to add multiple items to the dictionary.\n",
    "\\\n",
    "แปล: คุณสามารถเปลี่ยนค่าของข้อมูลใน dictionary โดยการใช้ key ของข้อมูล และคุณสามารถเพิ่มข้อมูลใหม่ใน dictionary โดยการใช้ key ใหม่และกำหนดค่าให้กับมันได้เลย หรือคุณสามารถใช้ method `update()` เพื่อเพิ่มหลายๆ ข้อมูลใน dictionary!\n"
   ]
  },
  {
   "cell_type": "code",
   "execution_count": null,
   "metadata": {},
   "outputs": [],
   "source": [
    "# create a dictionary\n",
    "person = {\n",
    "    \"name\": \"John\",\n",
    "    \"age\": 36,\n",
    "    \"country\": \"Norway\"\n",
    "}\n",
    "\n",
    "# updating the dictionary\n",
    "person[\"age\"] = 40\n",
    "\n",
    "# displaying the updated dictionary\n",
    "print(person) # {'name': 'John', 'age': 40, 'country': 'Norway'}\n",
    "\n",
    "# update using update method\n",
    "person.update({\"age\": 50})\n",
    "\n",
    "# displaying the updated dictionary\n",
    "print(person) # {'name': 'John', 'age': 50, 'country': 'Norway'}"
   ]
  },
  {
   "cell_type": "markdown",
   "metadata": {},
   "source": [
    "There are a lot of methods that you can use to access the dictionary. You can check the [official documentation](https://docs.python.org/3/library/stdtypes.html#mapping-types-dict) for more information.\n",
    "\\\n",
    "But I will give you some example of methods:\n",
    "\n",
    "#### Dictionary data accessing Methods\n"
   ]
  },
  {
   "cell_type": "markdown",
   "metadata": {},
   "source": [
    "1. `keys()`: Return a list of all keys in the dictionary\n",
    "2. `values()`: Return a list of all values in the dictionary\n",
    "3. `items()`: Return a list of all key-value pairs in the dictionary\n",
    "4. `pop()`: Remove the item with the specified key name\n",
    "5. `popitem()`: Remove the last inserted item\n",
    "6. `clear()`: Remove all the items in the dictionary\n",
    "7. `copy()`: Return a copy of the dictionary\n",
    "8. `fromkeys()`: Return a dictionary with the specified keys and values\n",
    "9. `setdefault()`: Return the value of the specified key. If the key does not exist: insert the key, with the specified value\n",
    "10. `update()`: Update the dictionary with the specified key-value pairs\n"
   ]
  },
  {
   "cell_type": "code",
   "execution_count": null,
   "metadata": {},
   "outputs": [],
   "source": [
    "# create a dictionary\n",
    "person = {\n",
    "    \"name\": \"John\",\n",
    "    \"age\": 36,\n",
    "    \"country\": \"Norway\"\n",
    "}\n",
    "\n",
    "# display keys of the dictionary\n",
    "print(person.keys()) # dict_keys(['name', 'age', 'country'])\n",
    "\n",
    "# display values of the dictionary\n",
    "print(person.values()) # dict_values(['John', 36, 'Norway'])\n",
    "\n",
    "# display items of the dictionary\n",
    "print(person.items()) # dict_items([('name', 'John'), ('age', 36), ('country', 'Norway')])\n",
    "\n",
    "# pop an item from the dictionary\n",
    "person.pop(\"age\")\n",
    "\n",
    "# displaying the updated dictionary\n",
    "print(person) # {'name': 'John', 'country': 'Norway'}\n",
    "\n",
    "# pop an item from the dictionary\n",
    "person.popitem()\n",
    "\n",
    "# displaying the updated dictionary\n",
    "print(person) # {'name': 'John'}\n",
    "\n",
    "# Bra Bra Bra, If you want to learn more about dictionary, you can check it out here https://www.w3schools.com/python/python_dictionaries.asp"
   ]
  },
  {
   "cell_type": "markdown",
   "metadata": {},
   "source": [
    "## Trick for Non-primitive data types\n",
    "\n",
    "I will give you some useful tricks for Non-primitive data types. You can use it to make your code more readable and efficient :>\n"
   ]
  },
  {
   "cell_type": "markdown",
   "metadata": {},
   "source": [
    "1. Data Unpacking: You can unpack the data of a list, tuple, set or dictionary into separate variables following the order of the data.\n",
    "   \\\n",
    "   แปล: คุณสามารถแยกข้อมูลของ list, tuple, set หรือ dictionary ออกเป็นตัวแปรแยกตามลำดับของข้อมูลได้ดังนี้\n"
   ]
  },
  {
   "cell_type": "code",
   "execution_count": null,
   "metadata": {},
   "outputs": [],
   "source": [
    "# create a list\n",
    "fruits = [\"apple\", \"banana\", \"cherry\"]\n",
    "\n",
    "# unpacking the list\n",
    "x, y, z = fruits\n",
    "\n",
    "# displaying the unpacked values\n",
    "print(x) # apple\n",
    "print(y) # banana\n",
    "print(z) # cherry\n"
   ]
  },
  {
   "cell_type": "code",
   "execution_count": null,
   "metadata": {},
   "outputs": [],
   "source": [
    "# create a dictionary\n",
    "person = {\n",
    "    \"name\": \"John\",\n",
    "    \"age\": 36,\n",
    "    \"country\": \"Norway\"\n",
    "}\n",
    "\n",
    "# unpacking the dictionary\n",
    "myname, myage, mycountry = person\n",
    "\n",
    "# displaying the unpacked values(dict will unpack the keys)\n",
    "print(myname) # name\n",
    "print(myage) # age\n",
    "print(mycountry) # country"
   ]
  },
  {
   "cell_type": "markdown",
   "metadata": {},
   "source": [
    "Special Trick: You can use `*` to unpack the data of a list, tuple, set or dictionary into separate variables following the order of the data. and you can use `**` to unpack the data of a dictionary into separate variables following the order of the data.(will explain in **function trick** section)\n",
    "\\\n",
    "แปล: สามารถใช้ `*` เพื่อแยกข้อมูลของ list, tuple, set หรือ dictionary ออกเป็นตัวแปรแยกตามลำดับของข้อมูล และใช้ `**` เพื่อแยกข้อมูลของ dictionary ออกเป็นตัวแปรแยกตามลำดับของข้อมูล(แต่เดี๋ยวไปอธิบายที่หัวข้อ **fucntion tric**)\n"
   ]
  },
  {
   "cell_type": "code",
   "execution_count": null,
   "metadata": {},
   "outputs": [],
   "source": [
    "# create a list\n",
    "fruits = [\"apple\", \"banana\", \"cherry\"]\n",
    "\n",
    "# unpacking the list with * operator\n",
    "x, *y = fruits\n",
    "\n",
    "# displaying the unpacked values\n",
    "print(x) # apple\n",
    "print(y) # ['banana', 'cherry']"
   ]
  },
  {
   "cell_type": "markdown",
   "metadata": {},
   "source": [
    "2. You can ignore some value in unpacking data by using `_` as a variable name.(it just a convention)\n",
    "   \\\n",
    "   แปล: เราสามารถทิ้งค่าที่เราไม่สนใจได้โดยการใช้ `_` เป็นชื่อตัวแปร(เป็นแค่ข้อตกลงที่ใช้ร่วมกัน ความจริงใช้ชื่ออะไรก็ได้)\n"
   ]
  },
  {
   "cell_type": "code",
   "execution_count": null,
   "metadata": {},
   "outputs": [],
   "source": [
    "# create a list\n",
    "fruits = [\"apple\", \"banana\", \"cherry\", \"date\", \"elderberry\"]\n",
    "\n",
    "# unpacking the list with with by ignoring the first 2 elements\n",
    "_, _, *z = fruits\n",
    "\n",
    "# displaying the unpacked values\n",
    "print(z) # apple\n",
    "print(_)\n",
    "\n",
    "# unpacked first and last element\n",
    "_, *z, _ = fruits\n",
    "\n",
    "# displaying the unpacked values\n",
    "print(z) # ['banana', 'cherry', 'date']"
   ]
  },
  {
   "cell_type": "markdown",
   "metadata": {},
   "source": [
    "## Exercise for Non-primitive data types\n"
   ]
  },
  {
   "cell_type": "markdown",
   "metadata": {},
   "source": [
    "1. Create a list that contain any 5 elements and type is **string**\n"
   ]
  },
  {
   "cell_type": "code",
   "execution_count": 57,
   "metadata": {},
   "outputs": [],
   "source": [
    "# don't change variable name and function name PLEASE but can change the value of variable or process in function\n",
    "\n",
    "# 1. Create a list that contain any 5 elements and type is string (~1 line of code)\n",
    "a = None"
   ]
  },
  {
   "cell_type": "markdown",
   "metadata": {},
   "source": [
    "2. Get the last element of the list using negative index\n"
   ]
  },
  {
   "cell_type": "code",
   "execution_count": null,
   "metadata": {},
   "outputs": [],
   "source": [
    "b = [i for i in range(0, 50)]\n",
    "\n",
    "# 2. Get the last element of the list using negative index(~1 line of code)\n",
    "last_element = None\n",
    "\n",
    "print(last_element) # 49"
   ]
  },
  {
   "cell_type": "markdown",
   "metadata": {},
   "source": [
    "3. Unpack the data of the tuple and set the 2nd to 4th element to the variable b\n"
   ]
  },
  {
   "cell_type": "code",
   "execution_count": null,
   "metadata": {},
   "outputs": [],
   "source": [
    "a = [i for i in range(0, 5)]\n",
    "b = None\n",
    "# 3. Unpack the data of the tuple and set the 2nd to 4th element to the variable b(~1 line of code)\n",
    "_, _, _ = a\n",
    "\n",
    "print(b) # [1, 2, 3]"
   ]
  },
  {
   "cell_type": "markdown",
   "metadata": {},
   "source": [
    "---\n"
   ]
  },
  {
   "cell_type": "markdown",
   "metadata": {},
   "source": [
    "# Loop and Condition\n",
    "\n",
    "> Loop and Condition are the basic concept of programming. It is used to control the flow of the program and execute the code block multiple times. In this section, I will explain the basic concept of Loop and Condition in Python.\n",
    "> แปล: Loop และ Condition คือ แนวคิดพื้นฐานของการเขียนโปรแกรม มันถูกใช้ในการควบคุมการทำงานของโปรแกรมและประมวลผลโค้ดหลายๆ ครั้ง ในส่วนนี้เราจะอธิบายแนวคิดพื้นฐานของ Loop และ Condition ใน Python\n",
    "\n",
    "## Table of content for keyword you must understand before learn Loop and Condition\n",
    "\n",
    "1. [in](#1-in)\n",
    "2. [is](#2-is)\n",
    "\n",
    "## Table of Content for Condition\n",
    "\n",
    "1. [If Statement](##1-if-statement)\n",
    "2. [If-else Statement](##2-if-else-statement)\n",
    "3. [If-elif-else Statement](##3-if-elif-else-statement)\n",
    "\n",
    "## Table of Content for Loop\n",
    "\n",
    "1. [For Loop](##1-for-loop)\n",
    "2. [While Loop](##2-while-loop)\n",
    "3. [Loop Control Statement](##4-loop-control-statement)\n",
    "\n",
    "For Student Who already learn some basic python. You can move to [Trip and Trick](#trick-for-loop-and-condition) section for learn some trick for loop and condition(maybe you don't know before). or you can move to [Exercise](#exercise-for-loop-and-condition) section for practice your skill(no graded).\n"
   ]
  },
  {
   "cell_type": "markdown",
   "metadata": {},
   "source": [
    "## Keyword you must understand before learn Loop and Condition\n"
   ]
  },
  {
   "cell_type": "markdown",
   "metadata": {},
   "source": [
    "### 1. in\n",
    "\n",
    "`in` is used to check if a value is present in a sequence (list, tuple, set, dictionary, etc.). It returns `True` if the value is present, otherwise `False`.\n",
    "\\\n",
    "แปล: `in` ใช้ในการตรวจสอบว่าค่าที่ระบุอยู่ในลำดับหรือไม่(list, tuple, set, dictionary, ฯลฯ) มันจะคืนค่า `True` ถ้าค่านั้นอยู่ในลำดับ มิฉะนั้นจะคืนค่า `False`\n",
    "\\\n",
    "\\\n",
    "but in loop, `in` is used to iterate over a sequence (list, tuple, set, dictionary, string, etc.).\n",
    "\\\n",
    "แปล: แต่ใน loop `in` ใช้ในการวนลูปผ่านลำดับ(list, tuple, set, dictionary, string, ฯลฯ)\n"
   ]
  },
  {
   "cell_type": "code",
   "execution_count": null,
   "metadata": {},
   "outputs": [],
   "source": [
    "# create a list\n",
    "fruits = [\"apple\", \"banana\", \"cherry\", \"date\", \"elderberry\"]\n",
    "\n",
    "print(\"apple\" in fruits) # True"
   ]
  },
  {
   "cell_type": "markdown",
   "metadata": {},
   "source": [
    "2. is\n",
    "\n",
    "`is` is used to test if two variables are referring to the same object. It returns `True` if both variables are pointing to the same object, otherwise `False`.\n",
    "\\\n",
    "แปล: `is` ใช้ในการทดสอบว่าตัวแปรสองตัวชี้ไปที่อ็อบเจ็กต์เดียวกันหรือไม่ มันจะคืนค่า `True` ถ้าทั้งสองตัวแปรชี้ไปที่อ็อบเจ็กต์เดียวกัน มิฉะนั้นจะคืนค่า `False`\n",
    "\n",
    "> **Note**: to check two object is reference to the same object, you can use `id()` function to get the memory address of the object. and compare it.\n",
    "> แปล: เพื่อตรวจสอบว่าสองอ็อบเจ็กต์ชี้ไปที่อ็อบเจ็กต์เดียวกัน คุณสามารถใช้ฟังก์ชัน `id()` เพื่อรับที่อยู่หน่วยความจำของอ็อบเจ็กต์ และเปรียบเทียบกัน\n"
   ]
  },
  {
   "cell_type": "code",
   "execution_count": null,
   "metadata": {},
   "outputs": [],
   "source": [
    "# create two variables pointing to the same object\n",
    "a = [1, 2, 3]\n",
    "b = a\n",
    "\n",
    "# create another variable pointing to a different object with the same value\n",
    "c = [1, 2, 3]\n",
    "\n",
    "# check if a and b refer to the same object\n",
    "print(a is b)  # True\n",
    "\n",
    "# check if a and c refer to the same object\n",
    "print(a is c)  # False\n",
    "\n",
    "# check if a and c have the same value\n",
    "print(a == c)  # True\n",
    "\n",
    "# use id() function to get the memory address of the object\n",
    "print(id(a))  # memory address of a\n",
    "print(id(b))  # memory address of b (same as a)\n",
    "print(id(c))  # memory address of c (different from a and b)"
   ]
  },
  {
   "cell_type": "markdown",
   "metadata": {},
   "source": [
    "## 1. If Statement\n",
    "\n",
    "structure of if statement in python is:\n",
    "\n",
    "```python\n",
    "if condition:\n",
    "    # code block if condition is True\n",
    "\n",
    "# code block after if statement\n",
    "```\n",
    "\n",
    "The code block inside the `if` statement will only execute if the condition is `True`. If the condition is False, the code block will be skipped.\n",
    "\\\n",
    "แปล: โค้ดใน `if` statement จะถูกทำงานเฉพาะเมื่อเงื่อนไขเป็น`True` ถ้าเงื่อนไขเป็นเท็จ โค้ดจะถูกข้ามไป\n"
   ]
  },
  {
   "cell_type": "code",
   "execution_count": null,
   "metadata": {},
   "outputs": [],
   "source": [
    "# initialize a value of a and b\n",
    "a = 5\n",
    "b = 10\n",
    "\n",
    "if a > b: # if a is greater than b\n",
    "    print(\"a is greater than b\") \n",
    "    \n",
    "if a < b: # if a is less than b\n",
    "    print(\"a is less than b\") # this will be printed\n",
    "\n"
   ]
  },
  {
   "cell_type": "markdown",
   "metadata": {},
   "source": [
    "You can use any value or expression that can be evaluated to `True` or `False` as a condition.\n",
    "\\\n",
    "แปล: ใน pythonเราสามารถใช้อะไรก็ได้มาใช้เป็นเงื่อนไข ที่สามารถประเมินได้ว่าเป็น `True` หรือ `False`\n"
   ]
  },
  {
   "cell_type": "code",
   "execution_count": null,
   "metadata": {},
   "outputs": [],
   "source": [
    "# initialize a value of a and b\n",
    "a = \"Banana\"\n",
    "b = \"banana\"\n",
    "\n",
    "if a == b: # if a is equal to b\n",
    "    print(\"a and b are equal\") \n",
    "    \n",
    "if a != b: # if a is not equal to b\n",
    "    print(\"a and b are not equal\") # this will be printed"
   ]
  },
  {
   "cell_type": "markdown",
   "metadata": {},
   "source": [
    "## 2. If-else Statement\n",
    "\n",
    "structure of if-else statement in python is:\n",
    "\n",
    "```python\n",
    "if condition:\n",
    "    # code block if condition is True\n",
    "else:\n",
    "    # code block if condition is False\n",
    "\n",
    "# code block after if-else statement\n",
    "\n",
    "```\n",
    "\n",
    "The code block inside the `if` statement will only execute if the condition is `True`. If the condition is False, the code block inside the `else` statement will execute.\n",
    "\\\n",
    "แปล: โค้ดใน `if` statement จะถูกทำงานเฉพาะเมื่อเงื่อนไขเป็น`True` ถ้าเงื่อนไขเป็นเท็จ โค้ดใน `else` statement จะถูกทำงาน\n"
   ]
  },
  {
   "cell_type": "code",
   "execution_count": null,
   "metadata": {},
   "outputs": [],
   "source": [
    "a = 5\n",
    "b = 10\n",
    "\n",
    "if a > b: # if a is greater than b\n",
    "    print(\"a is greater than b\")\n",
    "else:\n",
    "    print(\"a is not greater than b\") # this will be printed\n"
   ]
  },
  {
   "cell_type": "code",
   "execution_count": null,
   "metadata": {},
   "outputs": [],
   "source": [
    "a = [1, 2, 3]\n",
    "b = 2\n",
    "\n",
    "if b in a: # if b is in a\n",
    "    print(\"b is in a\") # this will be printed\n",
    "else:\n",
    "    print(\"b is not in a\")\n",
    "    "
   ]
  },
  {
   "cell_type": "markdown",
   "metadata": {},
   "source": [
    "## 3. If-elif-else Statement\n",
    "\n",
    "structure of if-elif-else statement in python is:\n",
    "\n",
    "```python\n",
    "if condition1:\n",
    "    # code block if condition1 is True\n",
    "elif condition2:\n",
    "    # code block if condition2 is True\n",
    "else:\n",
    "    # code block if all condition is False\n",
    "\n",
    "# code block after if-elif-else statement\n",
    "```\n",
    "\n",
    "The code block inside the `if` statement will only execute if the condition1 is `True`. If the condition1 is False, the code block inside the `elif` statement will execute. If all conditions are False, the code block inside the `else` statement will execute.\n",
    "\\\n",
    "แปล: โค้ดใน `if` statement จะถูกทำงานเฉพาะเมื่อเงื่อนไข1เป็น`True` ถ้าเงื่อนไข1เป็นเท็จ โค้ดใน `elif` statement จะถูกทำงาน ถ้าเงื่อนไขทั้งหมดเป็นเท็จ โค้ดใน `else` statement จะถูกทำงาน\n"
   ]
  },
  {
   "cell_type": "code",
   "execution_count": null,
   "metadata": {},
   "outputs": [],
   "source": [
    "a = 1\n",
    "\n",
    "if a > 0:\n",
    "    print(\"a is positive\")\n",
    "elif a == 0:\n",
    "    print(\"a is zero\")\n",
    "else:\n",
    "    print(\"a is negative\")"
   ]
  },
  {
   "cell_type": "markdown",
   "metadata": {},
   "source": [
    "## 1. For Loop\n"
   ]
  },
  {
   "cell_type": "markdown",
   "metadata": {},
   "source": [
    "structure of for loop looks like this:\n",
    "\n",
    "```python\n",
    "for variable [some iterable]:\n",
    "    # start process in loop\n",
    "    ...\n",
    "    # end process in loop\n",
    "\n",
    "# process after loop\n",
    "```\n",
    "\n",
    "it use `for` keyword to start the loop and `:` to indicate the start of the loop. with `variable` is the variable that will store the value of the iterable in each iteration. and `some iterable` is the data that you want to loop through.\n",
    "\\\n",
    "แปล: ใน for loop จะใช้ `for` keyword เพื่อเริ่มต้น loop และ `:` เพื่อบ่งบอกจุดเริ่มต้นของ loop โดย `variable` คือตัวแปรที่จะเก็บค่าของ iterable ในแต่ละรอบ และ `some iterable` คือข้อมูลที่คุณต้องการวน loop\n",
    "\n",
    "> `iterable` is the data that you can loop through. It can be a list, tuple, set, dictionary, string, or range.\n",
    "> \\\n",
    "> แปล: `iterable` คือข้อมูลที่คุณสามารถวน loopได้ ตัวอย่างเช่น list, tuple, set, dictionary, string หรือ range\n"
   ]
  },
  {
   "cell_type": "code",
   "execution_count": null,
   "metadata": {},
   "outputs": [],
   "source": [
    "# create a list for loop\n",
    "fruits = [\"apple\", \"banana\", \"cherry\"]\n",
    "for x in fruits: # ftuit is a iterable object and use x to access the element\n",
    "    print(x) # apple, banana, cherry"
   ]
  },
  {
   "cell_type": "code",
   "execution_count": null,
   "metadata": {},
   "outputs": [],
   "source": [
    "for i in range(0, 10): # range is a iterable object and use i to access the element\n",
    "    print(i) # 0, 1, 2, 3, 4, 5, 6, 7, 8, 9"
   ]
  },
  {
   "cell_type": "markdown",
   "metadata": {},
   "source": [
    "Other than this, Python have a function to generate a sequence with an attached value like index or something like `enumerate()`, `zip()`.\n",
    "\\\n",
    "แปล: นอกจากนี้ Python ยังมีฟังก์ชันที่สามารถสร้างลำดับข้อมูลพร้อมค่าที่แนบมาด้วย เช่น index หรืออะไรก็ตาม เช่น `enumerate()`, `zip()`\n"
   ]
  },
  {
   "cell_type": "code",
   "execution_count": null,
   "metadata": {},
   "outputs": [],
   "source": [
    "# create a list\n",
    "fruits = [\"apple\", \"banana\", \"cherry\"]\n",
    "\n",
    "# using enumerate to get the index and value of the list\n",
    "for index, value in enumerate(fruits): # enumerate is a iterable object and use index and value to access the element\n",
    "    print(index, value) # 0 apple, 1 banana, 2 cherry"
   ]
  },
  {
   "cell_type": "code",
   "execution_count": null,
   "metadata": {},
   "outputs": [],
   "source": [
    "# create a list\n",
    "fruits = [\"apple\", \"banana\", \"cherry\"]\n",
    "car = [\"Ford\", \"Volvo\", \"BMW\"]\n",
    "\n",
    "# using zip to get the index and value of the list\n",
    "for x, y in zip(fruits, car): # zip is a iterable object and use x and y to access the element\n",
    "    print(x, y) # apple Ford, banana Volvo, cherry BMW\n"
   ]
  },
  {
   "cell_type": "markdown",
   "metadata": {},
   "source": [
    "Some interesting trick for `for loop`:\n"
   ]
  },
  {
   "cell_type": "code",
   "execution_count": null,
   "metadata": {},
   "outputs": [],
   "source": [
    "# create a list\n",
    "coordinates = [(1, 2), (3, 4), (5, 6)]\n",
    "\n",
    "# unpacking the list\n",
    "for x, y in coordinates:\n",
    "    print(x, y) # 1 2, 3 4, 5 6\n",
    "    "
   ]
  },
  {
   "cell_type": "markdown",
   "metadata": {},
   "source": [
    "## 2. While Loop\n",
    "\n",
    "structure of while loop looks like this:\n",
    "\n",
    "```python\n",
    "while condition:\n",
    "    # start process in loop\n",
    "    ...\n",
    "    # end process in loop\n",
    "\n",
    "# process after loop\n",
    "\n",
    "```\n",
    "\n",
    "it use `while` keyword to start the loop and `:` to indicate the start of the loop. with `condition` is the condition that will be checked in each iteration. If the condition is `True`, the loop will continue. If the condition is `False`, the loop will stop.\n",
    "\\\n",
    "แปล: ใน while loop จะใช้ `while` keyword เพื่อเริ่มต้น loop และ `:` เพื่อบ่งบอกจุดเริ่มต้นของ loop โดย `condition` คือเงื่อนไขที่จะถูกตรวจสอบในแต่ละรอบ หากเงื่อนไขเป็น `True` จะทำให้ loop ดำเนินต่อ แต่หากเงื่อนไขเป็น `False` จะทำให้ loop หยุด\n"
   ]
  },
  {
   "cell_type": "code",
   "execution_count": null,
   "metadata": {},
   "outputs": [],
   "source": [
    "# set initial value\n",
    "i = 0\n",
    "\n",
    "# loop until i is less than 10\n",
    "while i < 10:\n",
    "    print(i) # 0, 1, 2, 3, 4, 5, 6, 7, 8,\n",
    "    i += 1 # increment i by 1"
   ]
  },
  {
   "cell_type": "markdown",
   "metadata": {},
   "source": [
    "## 3. Loop control statement\n",
    "\n",
    "Python Have some loop control statement that you can use to control the flow of the loop. The loop control statement is:\n",
    "\n",
    "1. `break`: to stop the loop before it has looped through all the items.\n",
    "2. `continue`: to stop the current iteration of the loop, and continue with the next.\n",
    "3. `pass`: to avoid getting an error, and the loop will continue to the next iteration.\n",
    "4. `else`: to execute a block of code once when the condition is no longer true.\n",
    "   \\\n",
    "\n",
    "แปล: Python มี loop control statement ที่คุณสามารถใช้ในการควบคุมการทำงานของ loop โดยมีดังนี้\n",
    "\n",
    "1. `break`: เพื่อหยุด loop ก่อนที่จะวน loop ผ่านข้อมูลทั้งหมด\n",
    "2. `continue`: เพื่อหยุดการวนรอบปัจจุบันของ loop และดำเนินการต่อไป\n",
    "3. `pass`: เพื่อหลีกเลี่ยงการได้รับข้อผิดพลาด และ loop จะดำเนินการต่อไป\n",
    "4. `else`: เพื่อทำการ execute block ของโค้ดเพียงครั้งเดียวเมื่อเงื่อนไขไม่เป็นจริง\n",
    "\n",
    "> **Note**: `else` in loop is used to execute a block of code once when the condition is no longer true.\n",
    "> \\\n",
    "> แปล: `else` ใน loop ใช้ในการ execute block ของโค้ดเพียงครั้งเดียวเมื่อเงื่อนไขไม่เป็นจริง\n"
   ]
  },
  {
   "cell_type": "code",
   "execution_count": null,
   "metadata": {},
   "outputs": [],
   "source": [
    "print(\"start of break example\")\n",
    "\n",
    "for i in range(0, 10):\n",
    "    if i == 5:\n",
    "        break # exit the loop when i is 5\n",
    "    print(i) # 0, 1, 2, 3, 4\n",
    "\n",
    "print(\"end of break example\")\n"
   ]
  },
  {
   "cell_type": "code",
   "execution_count": null,
   "metadata": {},
   "outputs": [],
   "source": [
    "print(\"start of continue example\")\n",
    "\n",
    "for i in range(0, 10):\n",
    "    if i == 5:\n",
    "        continue # skip the current iteration when i is 5\n",
    "    print(i) # 0, 1, 2, 3, 4, 6, 7, 8, 9\n",
    "    \n",
    "print(\"end of continue example\")"
   ]
  },
  {
   "cell_type": "code",
   "execution_count": null,
   "metadata": {},
   "outputs": [],
   "source": [
    "print(\"start of pass example\")  \n",
    "\n",
    "for i in range(0, 10):\n",
    "    \n",
    "    if i == 5:\n",
    "        pass # do nothing when i is 5\n",
    "    print(i) # 0, 1, 2, 3, 4, 5, 6, 7, 8, 9\n",
    "    \n",
    "print(\"end of pass example\")"
   ]
  },
  {
   "cell_type": "code",
   "execution_count": null,
   "metadata": {},
   "outputs": [],
   "source": [
    "print(\"start of else example\")\n",
    "\n",
    "for i in range(0, 10):\n",
    "    print(i) # 0, 1, 2, 3, 4, 5, 6, 7, 8, 9\n",
    "else:\n",
    "    print(\"Loop is finished\") # Loop is finished\n",
    "    \n",
    "print(\"end of else example\")"
   ]
  },
  {
   "cell_type": "markdown",
   "metadata": {},
   "source": [
    "## Trick for Loop and Condition\n",
    "\n",
    "I will give you some useful tricks for Loop and Condition. You can use it to make your code more readable and efficient :>\n"
   ]
  },
  {
   "cell_type": "markdown",
   "metadata": {},
   "source": [
    "1. We can use `if` statement in one line with the `if-else` statement. This is called a **ternary operator**.\n",
    "   \\\n",
    "   แปล: เราสามารถใช้ `if` statement ในบรรทัดเดียวกับ `if-else` statement ซึ่งเรียกว่า **ternary operator**\n",
    "\n",
    "format:\n",
    "\n",
    "```python\n",
    "value if condition else value\n",
    "```\n",
    "\n",
    "it equivalent to:\n",
    "\n",
    "```python\n",
    "if condition:\n",
    "    # value if condition is True\n",
    "else:\n",
    "    # value if condition is False\n",
    "```\n"
   ]
  },
  {
   "cell_type": "code",
   "execution_count": null,
   "metadata": {},
   "outputs": [],
   "source": [
    "# ternary form\n",
    "a = \"foo\" if 1 == 1 else \"bar\" # a is foo when 1 is equal to 1 otherwise a is bar\n",
    "print(a) # foo\n",
    "\n",
    "# common form\n",
    "if 1 == 1:\n",
    "    a = \"foo\"\n",
    "else:\n",
    "    a = \"bar\"\n",
    "print(a) # foo"
   ]
  },
  {
   "cell_type": "markdown",
   "metadata": {},
   "source": [
    "2. You can create a list using a for loop in one line. This is called a **list comprehension**.\n",
    "   \\\n",
    "   แปล: คุณสามารถสร้าง list โดยใช้ for loop ในบรรทัดเดียวกัน ซึ่งเรียกว่า **list comprehension**\n",
    "\n",
    "format:\n",
    "\n",
    "```python\n",
    "variable = [expression for item in iterable]\n",
    "```\n",
    "\n",
    "it equivalent to:\n",
    "\n",
    "```python\n",
    "variable = []\n",
    "\n",
    "for item in iterable:\n",
    "    variable.append(expression)\n",
    "```\n"
   ]
  },
  {
   "cell_type": "code",
   "execution_count": null,
   "metadata": {},
   "outputs": [],
   "source": [
    "# create list using list comprehension\n",
    "a = [i for i in range(0, 10)] # a is [0, 1, 2, 3, 4, 5, 6, 7, 8, 9]\n",
    "\n",
    "# create list using list comprehension with condition\n",
    "b = [i for i in range(0, 10) if i % 2 == 0] # will only add even number to the list\n",
    "\n",
    "# create list using list comprehension with condition and else\n",
    "c = [i if i % 2 == 0 else \"odd\" for i in range(0, 10)] # will add even number to the list and add odd string to the list if the number is odd\n",
    "\n",
    "print(a) # [0, 1, 2, 3, 4, 5, 6, 7, 8, 9]\n",
    "print(b) # [0, 2, 4, 6, 8]\n",
    "print(c) # [0, 'odd', 2, 'odd', 4, 'odd', 6, 'odd', 8, 'odd']"
   ]
  },
  {
   "cell_type": "markdown",
   "metadata": {},
   "source": [
    "Dictionary comprehension is similar to list comprehension, but it uses curly brackets `{}` instead of square brackets `[]`. and pair of key and value separated by `:` instead of `expression`.\n",
    "\\\n",
    "แปล: Dictionary comprehension คล้ายกับ list comprehension แต่ใช้วงเล็บปีกกา `{}` แทนวงเล็บเหลี่ยม `[]` และคู่ของ key และ value คั่นด้วย `:` แทน `expression`\n"
   ]
  },
  {
   "cell_type": "code",
   "execution_count": null,
   "metadata": {},
   "outputs": [],
   "source": [
    "# create dictionary using dictionary comprehension\n",
    "a = {i: i*2 for i in range(0, 10)} # key of the dictionary is the number and the value is the number multiply by 2\n",
    "\n",
    "print(a)"
   ]
  },
  {
   "cell_type": "markdown",
   "metadata": {},
   "source": [
    "## Exercise for Loop and Condition\n",
    "\n",
    "1. Create a list that contains the number from 1 to 10 using a for loop in one line.\n"
   ]
  },
  {
   "cell_type": "code",
   "execution_count": null,
   "metadata": {},
   "outputs": [],
   "source": [
    "# 1. Create a list that contains the number from 1 to 10 using a for loop in one line.(~1 line of code)\n",
    "a = None\n",
    "\n",
    "print(a) # [1, 2, 3, 4, 5, 6, 7, 8, 9, 10]"
   ]
  },
  {
   "cell_type": "markdown",
   "metadata": {},
   "source": [
    "2. Create a list that contains the square of the number from 1 to 10 using a list comprehension.\n"
   ]
  },
  {
   "cell_type": "code",
   "execution_count": null,
   "metadata": {},
   "outputs": [],
   "source": [
    "# 2. Create a list that contains the square of the number from 1 to 10 using a list comprehension.\n",
    "a = None\n",
    "\n",
    "print(a) # [1, 4, 9, 16, 25, 36, 49, 64, 81, 100]"
   ]
  },
  {
   "cell_type": "markdown",
   "metadata": {},
   "source": [
    "3. complete the function `is_prime` that check if the number is prime or not. The function should return `True` if the number is prime, otherwise `False`.\n"
   ]
  },
  {
   "cell_type": "code",
   "execution_count": null,
   "metadata": {},
   "outputs": [],
   "source": [
    "# 3. complete the function `is_prime` that check if the number is prime or not. The function should return `True` if the number is prime, otherwise `False`.\n",
    "\n",
    "def is_prime(n):\n",
    "    if YOURCODEHERE: \n",
    "        return False\n",
    "    for i in YOURCODEHERE: # hint: use range function\n",
    "        if n % i == 0:\n",
    "            return False\n",
    "    return True"
   ]
  },
  {
   "cell_type": "markdown",
   "metadata": {},
   "source": [
    "4. complete the loop code. The loop should print value that first word in sentence is start by 'a' or 'A'.\n"
   ]
  },
  {
   "cell_type": "code",
   "execution_count": null,
   "metadata": {},
   "outputs": [],
   "source": [
    "# 4. complete the loop code. The loop should print value that first word in sentence is start by 'a' or 'A'.\n",
    "\n",
    "sentences = [\n",
    "    \"apple is good\",\n",
    "    \"banana is yellow\",\n",
    "    \"An apple a day keeps the doctor away\",\n",
    "    \"A quick brown fox jumps over the lazy dog\",\n",
    "    \"cherry is red\"\n",
    "]\n",
    "\n",
    "for sentence in sentences:\n",
    "    words = sentence.split()\n",
    "    if YOURCODEHERE: # hint: select the first word and make it .lowercase() and use .startswith() method\n",
    "        print(sentence) # apple is good, An apple a day keeps the doctor away, A quick brown fox jumps over the lazy dog"
   ]
  },
  {
   "cell_type": "markdown",
   "metadata": {},
   "source": []
  },
  {
   "cell_type": "markdown",
   "metadata": {},
   "source": [
    "---\n"
   ]
  },
  {
   "cell_type": "markdown",
   "metadata": {},
   "source": [
    "# Function\n",
    "\n",
    "A function is a block of code which only runs when it is called.\n",
    "\\\n",
    "You can pass data, known as parameters, into a function.\n",
    "\\\n",
    "A function can return data as a result.\n",
    "\\\n",
    "\\\n",
    "แปล: ฟังก์ชั่นคือโค้ดที่จะสามารถทำงานได้ เมื่อมีการเรียกใช้งานตัวฟังก์ชั่น โดยเราสามารถส่งข้อมูลที่เรียกว่าพารามิเตอร์เข้าไปในฟังก์ชั่นได้ และฟังก์ชั่นสามารถส่งข้อมูลกลับมาเป็นผลลัพธ์ได้เช่นกัน\n",
    "\n",
    "Structure of function in python:\n",
    "\n",
    "```python\n",
    "def function_name(parameters):\n",
    "    # code block of function\n",
    "    ...\n",
    "    return value # optional if you want to return a value, otherwise you can skip it and the function will return None\n",
    "\n",
    "function_name(arguments) # call the function\n",
    "```\n"
   ]
  },
  {
   "cell_type": "code",
   "execution_count": null,
   "metadata": {},
   "outputs": [],
   "source": [
    "def hello(): # function definition\n",
    "    print(\"Hello, World!\") # function body\n",
    "    print(\"Hello, World!\") # function body\n",
    "    print(\"Hello, World!\") # function body\n",
    "    \n",
    "hello() # function call\n",
    "    "
   ]
  },
  {
   "cell_type": "markdown",
   "metadata": {},
   "source": [
    "You can pass data, known as parameters, into a function.\n"
   ]
  },
  {
   "cell_type": "code",
   "execution_count": null,
   "metadata": {},
   "outputs": [],
   "source": [
    "def add(a, b): # function definition with 2 parameters\n",
    "    return a + b # return the sum of a and b\n",
    "\n",
    "result = add(5, 10) # function call with 2 arguments\n",
    "\n",
    "print(result) # 15"
   ]
  },
  {
   "cell_type": "markdown",
   "metadata": {},
   "source": [
    "**Additional trip I**: In the real world, Maybe you want to know the type of input.\n",
    "\\\n",
    "The structure will update to:\n",
    "\n",
    "```python\n",
    "def function_name(parameters: type) -> type:\n",
    "    # code block of function\n",
    "    ...\n",
    "    return value # optional if you want to return a value, otherwise you can skip it and the function will return None\n",
    "\n",
    "function_name(arguments) # call the function\n",
    "```\n"
   ]
  },
  {
   "cell_type": "markdown",
   "metadata": {},
   "source": [
    "you can move your cursor to the function name you will see information of the function like this\n",
    "\\\n",
    "<img src=\"data:image/jpeg;base64,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\"/>\n"
   ]
  },
  {
   "cell_type": "code",
   "execution_count": 35,
   "metadata": {},
   "outputs": [],
   "source": [
    "# typed function \n",
    "def add(a: int, b: int) -> int: # function definition with 2 parameters and return type\n",
    "    return a + b # return the sum of a and b"
   ]
  },
  {
   "cell_type": "markdown",
   "metadata": {},
   "source": [
    "and you can explain your function ussing `docstring` by using `\"\"\"` or `'''` like this:\n",
    "\n",
    "```python\n",
    "def function_name(parameters: type) -> type:\n",
    "    \"\"\"\n",
    "    Explain your function here\n",
    "    \"\"\"\n",
    "    # code block of function\n",
    "    ...\n",
    "    return value # optional if you want to return a value, otherwise you can skip it and the function will return None\n",
    "```\n"
   ]
  },
  {
   "cell_type": "markdown",
   "metadata": {},
   "source": [
    "when you cursor move to the function name you will see the explanation of the function like this\n",
    "\\\n",
    "<img src=\"data:image/jpeg;base64,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\"/>\n"
   ]
  },
  {
   "cell_type": "code",
   "execution_count": 36,
   "metadata": {},
   "outputs": [],
   "source": [
    "# typed function with docstring\n",
    "def add(a: int, b: int) -> int: # function definition with 2 parameters and return type\n",
    "    \"\"\"\n",
    "    This function will add 2 numbers together\n",
    "    \"\"\"\n",
    "    return a + b # return the sum of a and b"
   ]
  },
  {
   "cell_type": "markdown",
   "metadata": {},
   "source": [
    "### Special Trick: Unpacking data in function\n",
    "\n",
    "We can pass `*` before the variable name to unpack the data in the function. and we can pass `**` before the variable name to unpack the dictionary data in the function.\n",
    "\\\n",
    "แปล: เราสามารถใส่ `*` ก่อนชื่อตัวแปรเพื่อแยกข้อมูลในฟังก์ชั่น และเราสามารถใส่ `**` ก่อนชื่อตัวแปรเพื่อแยกข้อมูลใน dictionary ในฟังก์ชั่น\n"
   ]
  },
  {
   "cell_type": "code",
   "execution_count": null,
   "metadata": {},
   "outputs": [],
   "source": [
    "def print_kwargs(**kwargs):\n",
    "    \"\"\"\n",
    "    This function accepts any number of keyword arguments and prints them.\n",
    "    \"\"\"\n",
    "    for key, value in kwargs.items():\n",
    "        print(f\"{key}: {value}\")\n",
    "\n",
    "# Example usage\n",
    "print_kwargs(name=\"John\", age=36, country=\"Norway\")"
   ]
  },
  {
   "cell_type": "markdown",
   "metadata": {},
   "source": [
    "Like the other programming language. We can set the default value for the parameter in the function.But the default value must place<span style=\"color:red\"> after</span> the non-default value\n",
    "\\\n",
    "แปล: เหมือนกับภาษาโปรแกรมอื่นๆ เราสามารถกำหนดค่าเริ่มต้นให้กับพารามิเตอร์ในฟังก์ชั่น แต่ค่าเริ่มต้นจะต้องอยู่<span style=\"color:red\">หลัง</span>ค่าที่ไม่ได้กำหนดค่าเริ่มต้น\n"
   ]
  },
  {
   "cell_type": "code",
   "execution_count": null,
   "metadata": {},
   "outputs": [],
   "source": [
    "def default_value(a=10, b): # it will raise a syntax error\n",
    "    return a"
   ]
  },
  {
   "cell_type": "code",
   "execution_count": 39,
   "metadata": {},
   "outputs": [],
   "source": [
    "def default_value(a, b=20): # it will not raise a syntax error\n",
    "    return a"
   ]
  },
  {
   "cell_type": "markdown",
   "metadata": {},
   "source": [
    "---\n"
   ]
  },
  {
   "cell_type": "markdown",
   "metadata": {},
   "source": [
    "# Numpy\n"
   ]
  },
  {
   "cell_type": "markdown",
   "metadata": {},
   "source": [
    "NumPy is a Python library used for working with arrays.\n",
    "It also has functions for working in domain of linear algebra, fourier transform, and matrices.\n",
    "(NumPy stands for Numerical Python)\n"
   ]
  },
  {
   "cell_type": "markdown",
   "metadata": {},
   "source": [
    "NumPy aims to provide an array object that is up to 50x faster than traditional Python lists\n"
   ]
  },
  {
   "cell_type": "markdown",
   "metadata": {},
   "source": [
    "The array object in NumPy is called ndarray, it provides a lot of supporting functions that make working with ndarray very easy.\n"
   ]
  },
  {
   "cell_type": "markdown",
   "metadata": {},
   "source": [
    "## Getting Start\n"
   ]
  },
  {
   "cell_type": "markdown",
   "metadata": {},
   "source": [
    "### Installation of NumPy\n"
   ]
  },
  {
   "cell_type": "code",
   "execution_count": null,
   "metadata": {},
   "outputs": [],
   "source": [
    "# !pip install numpy"
   ]
  },
  {
   "cell_type": "code",
   "execution_count": null,
   "metadata": {},
   "outputs": [],
   "source": [
    "import numpy as np\n",
    "print(np.__version__)"
   ]
  },
  {
   "cell_type": "markdown",
   "metadata": {},
   "source": [
    "## Create Array using numpy\n"
   ]
  },
  {
   "cell_type": "code",
   "execution_count": null,
   "metadata": {},
   "outputs": [],
   "source": [
    "arr = np.array([1, 2, 3, 4, 5]) # Create array using numpy\n",
    "\n",
    "print(arr)\n",
    "\n",
    "print(type(arr))"
   ]
  },
  {
   "cell_type": "markdown",
   "metadata": {},
   "source": [
    "## NumPy Array Indexing\n"
   ]
  },
  {
   "cell_type": "code",
   "execution_count": null,
   "metadata": {},
   "outputs": [],
   "source": [
    "arr = np.array([1, 2, 3, 4])\n",
    "\n",
    "print(arr[0]) # Access persific location of information from array"
   ]
  },
  {
   "cell_type": "markdown",
   "metadata": {},
   "source": [
    "## Slicing arrays\n"
   ]
  },
  {
   "cell_type": "code",
   "execution_count": null,
   "metadata": {},
   "outputs": [],
   "source": [
    "arr = np.array([1, 2, 3, 4, 5, 6, 7])\n",
    "\n",
    "print(arr[1:5]) # Access persific location of information from __ to __"
   ]
  },
  {
   "cell_type": "markdown",
   "metadata": {},
   "source": [
    "## NumPy Data Types\n"
   ]
  },
  {
   "cell_type": "markdown",
   "metadata": {},
   "source": [
    "i - integer\n",
    "\n",
    "b - boolean\n",
    "\n",
    "u - unsigned integer\n",
    "\n",
    "f - float\n",
    "\n",
    "c - complex float\n",
    "\n",
    "m - timedelta\n",
    "\n",
    "M - datetime\n",
    "\n",
    "O - object\n",
    "\n",
    "S - string\n",
    "\n",
    "U - unicode string\n",
    "\n",
    "V - fixed chunk of memory for other type ( void )\n"
   ]
  },
  {
   "cell_type": "code",
   "execution_count": null,
   "metadata": {},
   "outputs": [],
   "source": [
    "arr = np.array([1, 2, 3, 4]) # Create int array\n",
    "\n",
    "print(arr.dtype)"
   ]
  },
  {
   "cell_type": "code",
   "execution_count": null,
   "metadata": {},
   "outputs": [],
   "source": [
    "arr = np.array(['apple', 'banana', 'cherry']) # Create string array\n",
    "\n",
    "print(arr.dtype)"
   ]
  },
  {
   "cell_type": "code",
   "execution_count": null,
   "metadata": {},
   "outputs": [],
   "source": [
    "arr = np.array([1, 2, 3, 4], dtype='i4') # Create 4 bytes integer\n",
    "\n",
    "print(arr)\n",
    "print(arr.dtype)"
   ]
  },
  {
   "cell_type": "markdown",
   "metadata": {},
   "source": [
    "## NumPy Array Copy vs View\n"
   ]
  },
  {
   "cell_type": "code",
   "execution_count": null,
   "metadata": {},
   "outputs": [],
   "source": [
    "arr = np.array([1, 2, 3, 4, 5])\n",
    "x = arr.copy() # Copy from original, edting will not effect\n",
    "arr[0] = 42\n",
    "\n",
    "print(arr)\n",
    "print(x)"
   ]
  },
  {
   "cell_type": "code",
   "execution_count": null,
   "metadata": {},
   "outputs": [],
   "source": [
    "arr = np.array([1, 2, 3, 4, 5])\n",
    "x = arr.view() # Clone from original and editting will effect\n",
    "arr[0] = 42\n",
    "\n",
    "print(arr)\n",
    "print(x)"
   ]
  },
  {
   "cell_type": "markdown",
   "metadata": {},
   "source": [
    "## NumPy Array Shape\n"
   ]
  },
  {
   "cell_type": "code",
   "execution_count": null,
   "metadata": {},
   "outputs": [],
   "source": [
    "arr = np.array([[1, 2, 3, 4], [5, 6, 7, 8]])\n",
    "\n",
    "# [1, 2, 3, 4]\n",
    "# [5, 6, 7, 8]\n",
    "# 2x4 metrix\n",
    "\n",
    "print(arr.shape)"
   ]
  },
  {
   "cell_type": "markdown",
   "metadata": {},
   "source": [
    "## NumPy Array Reshaping\n"
   ]
  },
  {
   "cell_type": "code",
   "execution_count": null,
   "metadata": {},
   "outputs": [],
   "source": [
    "arr = np.array([1, 2, 3, 4, 5, 6, 7, 8, 9, 10, 11, 12])\n",
    "\n",
    "newarr = arr.reshape(4, 3) # New shape for reshaping\n",
    "\n",
    "print (\"Original Array:\\n\",arr)\n",
    "print(\"Net reshaped Array:\\n\",newarr)"
   ]
  },
  {
   "cell_type": "markdown",
   "metadata": {},
   "source": [
    "## NumPy Array Iterating\n"
   ]
  },
  {
   "cell_type": "code",
   "execution_count": null,
   "metadata": {},
   "outputs": [],
   "source": [
    "arr = np.array([1, 2, 3])\n",
    "\n",
    "for x in arr: # Array elements in arrays using temporary integer\n",
    "  print(x)"
   ]
  },
  {
   "cell_type": "markdown",
   "metadata": {},
   "source": [
    "## NumPy Joining Array\n"
   ]
  },
  {
   "cell_type": "code",
   "execution_count": null,
   "metadata": {},
   "outputs": [],
   "source": [
    "arr1 = np.array([1, 2, 3])\n",
    "\n",
    "arr2 = np.array([4, 5, 6])\n",
    "\n",
    "arr = np.concatenate((arr1, arr2)) # Put together arrays\n",
    "\n",
    "print(\"arr1:\\n\",arr1)\n",
    "print(\"arr2:\\n\",arr2)\n",
    "print(\"new arr:\\n\",arr)"
   ]
  },
  {
   "cell_type": "code",
   "execution_count": null,
   "metadata": {},
   "outputs": [],
   "source": [
    "arr1 = np.array([[1, 2], [3, 4]])\n",
    "\n",
    "arr2 = np.array([[5, 6], [7, 8]])\n",
    "\n",
    "arr = np.concatenate((arr1, arr2), axis=1)\n",
    "\n",
    "print(\"arr1:\\n\",arr1)\n",
    "print(\"arr2:\\n\",arr2)\n",
    "print(\"new arr:\\n\",arr)"
   ]
  },
  {
   "cell_type": "markdown",
   "metadata": {},
   "source": [
    "## NumPy Splitting Array\n"
   ]
  },
  {
   "cell_type": "code",
   "execution_count": null,
   "metadata": {},
   "outputs": [],
   "source": [
    "arr = np.array([1, 2, 3, 4, 5, 6])\n",
    "\n",
    "newarr = np.array_split(arr, 3) # Split into 3 arrays\n",
    "\n",
    "print(newarr)"
   ]
  },
  {
   "cell_type": "markdown",
   "metadata": {},
   "source": [
    "## NumPy Searching Arrays\n"
   ]
  },
  {
   "cell_type": "code",
   "execution_count": null,
   "metadata": {},
   "outputs": [],
   "source": [
    "arr = np.array([1, 2, 3, 4, 5, 4, 4])\n",
    "\n",
    "x = np.where(arr == 4) # Search where is the location of 4 in the array\n",
    "\n",
    "print(x)"
   ]
  },
  {
   "cell_type": "markdown",
   "metadata": {},
   "source": [
    "## NumPy Sorting Arrays\n"
   ]
  },
  {
   "cell_type": "code",
   "execution_count": null,
   "metadata": {},
   "outputs": [],
   "source": [
    "arr = np.array([3, 2, 0, 1])\n",
    "\n",
    "print(np.sort(arr))"
   ]
  },
  {
   "cell_type": "code",
   "execution_count": null,
   "metadata": {},
   "outputs": [],
   "source": [
    "arr = np.array(['banana', 'cherry', 'apple'])\n",
    "\n",
    "print(np.sort(arr))"
   ]
  },
  {
   "cell_type": "code",
   "execution_count": null,
   "metadata": {},
   "outputs": [],
   "source": [
    "arr = np.array([True, False, True])\n",
    "\n",
    "print(np.sort(arr))"
   ]
  },
  {
   "cell_type": "code",
   "execution_count": null,
   "metadata": {},
   "outputs": [],
   "source": [
    "arr = np.array([[3, 2, 4], [5, 0, 1]])\n",
    "\n",
    "print(np.sort(arr))"
   ]
  },
  {
   "cell_type": "markdown",
   "metadata": {},
   "source": [
    "## NumPy Filter Array\n"
   ]
  },
  {
   "cell_type": "code",
   "execution_count": null,
   "metadata": {},
   "outputs": [],
   "source": [
    "arr = np.array([41, 42, 43, 44])\n",
    "\n",
    "x = [True, False, True, False]\n",
    "\n",
    "newarr = arr[x]\n",
    "\n",
    "print(newarr)"
   ]
  },
  {
   "cell_type": "code",
   "execution_count": null,
   "metadata": {},
   "outputs": [],
   "source": [
    "arr = np.array([41, 42, 43, 44])\n",
    "\n",
    "filter_arr = arr > 42\n",
    "\n",
    "newarr = arr[filter_arr]\n",
    "\n",
    "print(newarr)"
   ]
  },
  {
   "cell_type": "markdown",
   "metadata": {},
   "source": [
    "## Exercies\n"
   ]
  },
  {
   "cell_type": "code",
   "execution_count": null,
   "metadata": {},
   "outputs": [],
   "source": [
    "# Task: Create a random integer array, compute mean, sum, and element-wise multiplication\n",
    "def numpy_exercise():\n",
    "    array1 = __\n",
    "    array2 = __\n",
    "    \n",
    "    print(\"Array 1:\", __)\n",
    "    print(\"Array 2:\", __)\n",
    "    print(\"Mean of Array 1:\", __)\n",
    "    print(\"Sum of Array 1:\", __)\n",
    "    print(\"Element-wise multiplication:\", __)\n",
    "\n",
    "# Call the function to see the output\n",
    "numpy_exercise()\n"
   ]
  },
  {
   "cell_type": "markdown",
   "metadata": {},
   "source": [
    "---\n"
   ]
  },
  {
   "cell_type": "markdown",
   "metadata": {},
   "source": [
    "# Pandas\n"
   ]
  },
  {
   "cell_type": "markdown",
   "metadata": {},
   "source": [
    "Pandas is a Python library used for working with data sets.\n",
    "\n",
    "It has functions for analyzing, cleaning, exploring, and manipulating data.\n",
    "\n",
    "The name \"Pandas\" has a reference to both \"Panel Data\", and \"Python Data Analysis\" and was created by Wes McKinney in 2008.\n"
   ]
  },
  {
   "cell_type": "markdown",
   "metadata": {},
   "source": [
    "Pandas allows us to analyze big data and make conclusions based on statistical theories.\n",
    "\n",
    "Pandas can clean messy data sets, and make them readable and relevant.\n",
    "\n",
    "Relevant data is very important in data science.\n"
   ]
  },
  {
   "cell_type": "markdown",
   "metadata": {},
   "source": [
    "### Installation of Pandas\n"
   ]
  },
  {
   "cell_type": "code",
   "execution_count": null,
   "metadata": {},
   "outputs": [],
   "source": [
    "# !pip install pandas"
   ]
  },
  {
   "cell_type": "code",
   "execution_count": null,
   "metadata": {},
   "outputs": [],
   "source": [
    "import pandas as pd\n",
    "print(pd.__version__)"
   ]
  },
  {
   "cell_type": "markdown",
   "metadata": {},
   "source": [
    "## Pandas Series\n"
   ]
  },
  {
   "cell_type": "code",
   "execution_count": null,
   "metadata": {},
   "outputs": [],
   "source": [
    "a = [1, 7, 2]\n",
    "\n",
    "myvar = pd.Series(a) # Make a series using pandas\n",
    "\n",
    "print(myvar)"
   ]
  },
  {
   "cell_type": "code",
   "execution_count": null,
   "metadata": {},
   "outputs": [],
   "source": [
    "a = [1, 7, 2]\n",
    "\n",
    "myvar = pd.Series(a, index = [\"x\", \"y\", \"z\"]) # Make a series using pandas with index\n",
    "\n",
    "print(myvar)"
   ]
  },
  {
   "cell_type": "markdown",
   "metadata": {},
   "source": [
    "## What is a DataFrame?\n"
   ]
  },
  {
   "cell_type": "code",
   "execution_count": null,
   "metadata": {},
   "outputs": [],
   "source": [
    "data = {\n",
    "  \"calories\": [420, 380, 390],\n",
    "  \"duration\": [50, 40, 45]\n",
    "}\n",
    "\n",
    "#load data into a DataFrame object:\n",
    "df = pd.DataFrame(data)\n",
    "\n",
    "print(df)"
   ]
  },
  {
   "cell_type": "code",
   "execution_count": null,
   "metadata": {},
   "outputs": [],
   "source": [
    "#refer to the row index:\n",
    "print(df.loc[0])"
   ]
  },
  {
   "cell_type": "code",
   "execution_count": null,
   "metadata": {},
   "outputs": [],
   "source": [
    "#use a list of indexes:\n",
    "print(df.loc[[0, 1]])"
   ]
  },
  {
   "cell_type": "code",
   "execution_count": null,
   "metadata": {},
   "outputs": [],
   "source": [
    "\n",
    "data = {\n",
    "  \"calories\": [420, 380, 390],\n",
    "  \"duration\": [50, 40, 45]\n",
    "}\n",
    "\n",
    "df = pd.DataFrame(data, index = [\"day1\", \"day2\", \"day3\"]) # Set row name as day (String)\n",
    "\n",
    "print(df) "
   ]
  },
  {
   "cell_type": "markdown",
   "metadata": {},
   "source": [
    "## Pandas Read CSV\n"
   ]
  },
  {
   "cell_type": "code",
   "execution_count": null,
   "metadata": {},
   "outputs": [],
   "source": [
    "df = pd.read_csv('data.csv')\n",
    "\n",
    "print(df) "
   ]
  },
  {
   "cell_type": "code",
   "execution_count": null,
   "metadata": {},
   "outputs": [],
   "source": [
    "pd.options.display.max_rows = 10 # set the maximum dispaly row to the dataframe\n",
    "\n",
    "df = pd.read_csv('data.csv')\n",
    "\n",
    "print(df) "
   ]
  },
  {
   "cell_type": "markdown",
   "metadata": {},
   "source": [
    "## Pandas Read JSON\n"
   ]
  },
  {
   "cell_type": "code",
   "execution_count": null,
   "metadata": {},
   "outputs": [],
   "source": [
    "df = pd.read_json('data.json')\n",
    "\n",
    "print(df.to_string())"
   ]
  },
  {
   "cell_type": "code",
   "execution_count": null,
   "metadata": {},
   "outputs": [],
   "source": [
    "data = {\n",
    "  \"Duration\":{\n",
    "    \"0\":60,\n",
    "    \"1\":60,\n",
    "    \"2\":60,\n",
    "    \"3\":45,\n",
    "    \"4\":45,\n",
    "    \"5\":60\n",
    "  },\n",
    "  \"Pulse\":{\n",
    "    \"0\":110,\n",
    "    \"1\":117,\n",
    "    \"2\":103,\n",
    "    \"3\":109,\n",
    "    \"4\":117,\n",
    "    \"5\":102\n",
    "  },\n",
    "  \"Maxpulse\":{\n",
    "    \"0\":130,\n",
    "    \"1\":145,\n",
    "    \"2\":135,\n",
    "    \"3\":175,\n",
    "    \"4\":148,\n",
    "    \"5\":127\n",
    "  },\n",
    "  \"Calories\":{\n",
    "    \"0\":409,\n",
    "    \"1\":479,\n",
    "    \"2\":340,\n",
    "    \"3\":282,\n",
    "    \"4\":406,\n",
    "    \"5\":300\n",
    "  }\n",
    "}\n",
    "\n",
    "df = pd.DataFrame(data)\n",
    "\n",
    "print(df) "
   ]
  },
  {
   "cell_type": "markdown",
   "metadata": {},
   "source": [
    "## Pandas - Analyzing DataFrames\n"
   ]
  },
  {
   "cell_type": "code",
   "execution_count": null,
   "metadata": {},
   "outputs": [],
   "source": [
    "df = pd.read_csv('data.csv')\n",
    "\n",
    "print(df.head()) # FIrst five rows"
   ]
  },
  {
   "cell_type": "code",
   "execution_count": null,
   "metadata": {},
   "outputs": [],
   "source": [
    "print(df.tail()) # Last five rows"
   ]
  },
  {
   "cell_type": "code",
   "execution_count": null,
   "metadata": {},
   "outputs": [],
   "source": [
    "print(df.info()) # Basic information of dataframe"
   ]
  },
  {
   "cell_type": "code",
   "execution_count": null,
   "metadata": {},
   "outputs": [],
   "source": [
    "df.describe()"
   ]
  },
  {
   "cell_type": "markdown",
   "metadata": {},
   "source": [
    "There is a lot of function you can play with pandas dataframes\n",
    "(Take a look here: https://www.w3schools.com/python/pandas/pandas_ref_dataframe.asp)\n"
   ]
  },
  {
   "cell_type": "markdown",
   "metadata": {},
   "source": [
    "### DF.GROUPBY(☠️) // Spacial function that every one hate\n"
   ]
  },
  {
   "cell_type": "code",
   "execution_count": null,
   "metadata": {},
   "outputs": [],
   "source": [
    "data = {\n",
    "  'co2': [95, 90, 99, 104, 105, 94, 99, 104],\n",
    "  'model': ['Citigo', 'Fabia', 'Fiesta', 'Rapid', 'Focus', 'Mondeo', 'Octavia', 'B-Max'],\n",
    "  'car': ['Skoda', 'Skoda', 'Ford', 'Skoda', 'Ford', 'Ford', 'Skoda', 'Ford']\n",
    "}\n",
    "\n",
    "df = pd.DataFrame(data)\n",
    "\n",
    "print(df.groupby([\"car\"]).mean()) # Find mean of each car on the co2"
   ]
  },
  {
   "cell_type": "markdown",
   "metadata": {},
   "source": [
    "## Exercies\n"
   ]
  },
  {
   "cell_type": "code",
   "execution_count": null,
   "metadata": {},
   "outputs": [],
   "source": [
    "# Task: Load CSV, clean data, compute summary statistics\n",
    "def pandas_exercise():\n",
    "    data = {\n",
    "        'Name': ['Alice', 'Bob', 'Charlie', 'David'],\n",
    "        'Age': [25, 30, 35, 40],\n",
    "        'Score': [85, 90, 95, 100]\n",
    "    }\n",
    "    df = __ # Create Dataframe\n",
    "    \n",
    "    print(\"Original DataFrame:\")\n",
    "    print(df)\n",
    "    \n",
    "    # Cleaning: Adding a new column to see people who got score more than 90\n",
    "    ___\n",
    "    \n",
    "    # Summary statistics\n",
    "    print(\"\\nSummary Statistics:\")\n",
    "    print(df.describe())\n",
    "    print(\"\\nDataFrame with 'Passed' column:\")\n",
    "    print(df)\n",
    "\n",
    "# Call the function to see the output\n",
    "pandas_exercise()\n"
   ]
  },
  {
   "cell_type": "markdown",
   "metadata": {},
   "source": [
    "##\n"
   ]
  },
  {
   "cell_type": "markdown",
   "metadata": {},
   "source": [
    "---\n"
   ]
  },
  {
   "cell_type": "markdown",
   "metadata": {},
   "source": [
    "# Matplotlib\n"
   ]
  },
  {
   "cell_type": "markdown",
   "metadata": {},
   "source": [
    "Matplotlib is a low level graph plotting library in python that serves as a visualization utility.\n",
    "\n",
    "Matplotlib was created by John D. Hunter.\n",
    "\n",
    "Matplotlib is open source and we can use it freely.\n",
    "\n",
    "Matplotlib is mostly written in python, a few segments are written in C, Objective-C and Javascript for Platform compatibility.\n"
   ]
  },
  {
   "cell_type": "markdown",
   "metadata": {},
   "source": [
    "### Installation of Matplotlib\n"
   ]
  },
  {
   "cell_type": "code",
   "execution_count": null,
   "metadata": {},
   "outputs": [],
   "source": [
    "# !pip install matplotlib"
   ]
  },
  {
   "cell_type": "code",
   "execution_count": null,
   "metadata": {},
   "outputs": [],
   "source": [
    "import matplotlib as plt\n",
    "print(plt.__version__)\n",
    "\n",
    "import numpy as np"
   ]
  },
  {
   "cell_type": "markdown",
   "metadata": {},
   "source": [
    "## Matplotlib Pyplot\n"
   ]
  },
  {
   "cell_type": "code",
   "execution_count": null,
   "metadata": {},
   "outputs": [],
   "source": [
    "import matplotlib.pyplot as plt\n",
    "\n",
    "xpoints = np.array([0, 6])\n",
    "ypoints = np.array([0, 250])\n",
    "\n",
    "plt.plot(xpoints, ypoints)\n",
    "plt.show()"
   ]
  },
  {
   "cell_type": "markdown",
   "metadata": {},
   "source": [
    "## Matplotlib Plotting\n"
   ]
  },
  {
   "cell_type": "code",
   "execution_count": null,
   "metadata": {},
   "outputs": [],
   "source": [
    "xpoints = np.array([1, 8])\n",
    "ypoints = np.array([3, 10])\n",
    "\n",
    "plt.plot(xpoints, ypoints, 'o')\n",
    "plt.show()"
   ]
  },
  {
   "cell_type": "code",
   "execution_count": null,
   "metadata": {},
   "outputs": [],
   "source": [
    "xpoints = np.array([1, 2, 6, 8])\n",
    "ypoints = np.array([3, 8, 1, 10])\n",
    "\n",
    "plt.plot(xpoints, ypoints)\n",
    "plt.show()"
   ]
  },
  {
   "cell_type": "code",
   "execution_count": null,
   "metadata": {},
   "outputs": [],
   "source": [
    "ypoints = np.array([3, 8, 1, 10, 5, 7])\n",
    "\n",
    "plt.plot(ypoints) # Not defined x-point, use default values 0, 1, 2, 3 etc.,\n",
    "plt.show()"
   ]
  },
  {
   "cell_type": "markdown",
   "metadata": {},
   "source": [
    "## Matplotlib Markers\n"
   ]
  },
  {
   "cell_type": "markdown",
   "metadata": {},
   "source": [
    "Marker Syntax\n",
    "'o' Circle\n",
    "\n",
    "'\\*' Star\n",
    "\n",
    "'.' Point\n",
    "\n",
    "',' Pixel\n",
    "\n",
    "'x' X\n",
    "\n",
    "'X' X (filled)\n",
    "\n",
    "'+' Plus\n",
    "\n",
    "'P' Plus (filled)\n",
    "\n",
    "'s' Square\n",
    "\n",
    "'D' Diamond\n",
    "\n",
    "'d' Diamond (thin)\n",
    "\n",
    "'p' Pentagon\n",
    "\n",
    "'H' Hexagon\n",
    "\n",
    "'h' Hexagon\n",
    "\n",
    "'v' Triangle Down\n",
    "\n",
    "'^' Triangle Up\n",
    "\n",
    "'<' Triangle Left\n",
    "\n",
    "'>' Triangle Right\n",
    "\n",
    "'1' Tri Down\n",
    "\n",
    "'2' Tri Up\n",
    "\n",
    "'3' Tri Left\n",
    "\n",
    "'4' Tri Right\n",
    "\n",
    "'|' Vline\n",
    "\n",
    "'\\_' Hline\n"
   ]
  },
  {
   "cell_type": "markdown",
   "metadata": {},
   "source": [
    "Line Syntax\n",
    "\n",
    "'-' Solid line\n",
    "\n",
    "':' Dotted line\n",
    "\n",
    "'--' Dashed line\n",
    "\n",
    "'-.' Dashed/dotted line\n"
   ]
  },
  {
   "cell_type": "markdown",
   "metadata": {},
   "source": [
    "Color Syntax\n",
    "\n",
    "'r' Red\n",
    "\n",
    "'g' Green\n",
    "\n",
    "'b' Blue\n",
    "\n",
    "'c' Cyan\n",
    "\n",
    "'m' Magenta\n",
    "\n",
    "'y' Yellow\n",
    "\n",
    "'k' Black\n",
    "\n",
    "'w' White\n"
   ]
  },
  {
   "cell_type": "code",
   "execution_count": null,
   "metadata": {},
   "outputs": [],
   "source": [
    "ypoints = np.array([3, 8, 1, 10])\n",
    "\n",
    "plt.plot(ypoints, 'x:r')\n",
    "plt.show()"
   ]
  },
  {
   "cell_type": "code",
   "execution_count": null,
   "metadata": {},
   "outputs": [],
   "source": [
    "ypoints = np.array([3, 8, 1, 10])\n",
    "\n",
    "plt.plot(ypoints, marker = 'o', ms = 20) # marker size\n",
    "plt.show()"
   ]
  },
  {
   "cell_type": "code",
   "execution_count": null,
   "metadata": {},
   "outputs": [],
   "source": [
    "ypoints = np.array([3, 8, 1, 10])\n",
    "\n",
    "plt.plot(ypoints, marker = 'o', ms = 20, mec = 'r') # marker size and outline color\n",
    "plt.show()"
   ]
  },
  {
   "cell_type": "markdown",
   "metadata": {},
   "source": [
    "## Matplotlib Line\n"
   ]
  },
  {
   "cell_type": "markdown",
   "metadata": {},
   "source": [
    "Style\n",
    "\n",
    "'solid' (default) '-'\n",
    "\n",
    "'dotted' ':'\n",
    "\n",
    "'dashed' '--'\n",
    "\n",
    "'dashdot' '-.'\n",
    "\n",
    "'None' '' or ' '\n"
   ]
  },
  {
   "cell_type": "code",
   "execution_count": null,
   "metadata": {},
   "outputs": [],
   "source": [
    "ypoints = np.array([3, 8, 1, 10])\n",
    "\n",
    "plt.plot(ypoints, linestyle = 'dotted')\n",
    "plt.show()"
   ]
  },
  {
   "cell_type": "markdown",
   "metadata": {},
   "source": [
    "## Matplotlib Labels and Title\n"
   ]
  },
  {
   "cell_type": "code",
   "execution_count": null,
   "metadata": {},
   "outputs": [],
   "source": [
    "x = np.array([80, 85, 90, 95, 100, 105, 110, 115, 120, 125])\n",
    "y = np.array([240, 250, 260, 270, 280, 290, 300, 310, 320, 330])\n",
    "\n",
    "plt.plot(x, y)\n",
    "\n",
    "plt.title(\"Sports Watch Data\")\n",
    "plt.xlabel(\"Average Pulse\")\n",
    "plt.ylabel(\"Calorie Burnage\")\n",
    "\n",
    "plt.show()"
   ]
  },
  {
   "cell_type": "markdown",
   "metadata": {},
   "source": [
    "## Matplotlib Adding Grid Lines\n"
   ]
  },
  {
   "cell_type": "code",
   "execution_count": null,
   "metadata": {},
   "outputs": [],
   "source": [
    "x = np.array([80, 85, 90, 95, 100, 105, 110, 115, 120, 125])\n",
    "y = np.array([240, 250, 260, 270, 280, 290, 300, 310, 320, 330])\n",
    "\n",
    "plt.title(\"Sports Watch Data\")\n",
    "plt.xlabel(\"Average Pulse\")\n",
    "plt.ylabel(\"Calorie Burnage\")\n",
    "\n",
    "plt.plot(x, y)\n",
    "\n",
    "plt.grid()\n",
    "\n",
    "plt.show()"
   ]
  },
  {
   "cell_type": "code",
   "execution_count": null,
   "metadata": {},
   "outputs": [],
   "source": [
    "x = np.array([80, 85, 90, 95, 100, 105, 110, 115, 120, 125])\n",
    "y = np.array([240, 250, 260, 270, 280, 290, 300, 310, 320, 330])\n",
    "\n",
    "plt.title(\"Sports Watch Data\")\n",
    "plt.xlabel(\"Average Pulse\")\n",
    "plt.ylabel(\"Calorie Burnage\")\n",
    "\n",
    "plt.plot(x, y)\n",
    "\n",
    "plt.grid(axis = 'y')\n",
    "\n",
    "plt.show()"
   ]
  },
  {
   "cell_type": "markdown",
   "metadata": {},
   "source": [
    "## Matplotlib Subplot\n"
   ]
  },
  {
   "cell_type": "code",
   "execution_count": null,
   "metadata": {},
   "outputs": [],
   "source": [
    "\n",
    "#plot 1:\n",
    "x = np.array([0, 1, 2, 3])\n",
    "y = np.array([3, 8, 1, 10])\n",
    "\n",
    "plt.subplot(1, 2, 1)\n",
    "plt.plot(x,y)\n",
    "\n",
    "#plot 2:\n",
    "x = np.array([0, 1, 2, 3])\n",
    "y = np.array([10, 20, 30, 40])\n",
    "\n",
    "plt.subplot(1, 2, 2)\n",
    "plt.plot(x,y)\n",
    "\n",
    "plt.show()"
   ]
  },
  {
   "cell_type": "markdown",
   "metadata": {},
   "source": [
    "## Matplotlib Scatter\n"
   ]
  },
  {
   "cell_type": "code",
   "execution_count": null,
   "metadata": {},
   "outputs": [],
   "source": [
    "x = np.array([5,7,8,7,2,17,2,9,4,11,12,9,6])\n",
    "y = np.array([99,86,87,88,111,86,103,87,94,78,77,85,86])\n",
    "\n",
    "plt.scatter(x, y)\n",
    "plt.show()"
   ]
  },
  {
   "cell_type": "code",
   "execution_count": null,
   "metadata": {},
   "outputs": [],
   "source": [
    "#day one, the age and speed of 13 cars:\n",
    "x = np.array([5,7,8,7,2,17,2,9,4,11,12,9,6])\n",
    "y = np.array([99,86,87,88,111,86,103,87,94,78,77,85,86])\n",
    "plt.scatter(x, y)\n",
    "\n",
    "#day two, the age and speed of 15 cars:\n",
    "x = np.array([2,2,8,1,15,8,12,9,7,3,11,4,7,14,12])\n",
    "y = np.array([100,105,84,105,90,99,90,95,94,100,79,112,91,80,85])\n",
    "plt.scatter(x, y)\n",
    "\n",
    "plt.show()\n"
   ]
  },
  {
   "cell_type": "code",
   "execution_count": null,
   "metadata": {},
   "outputs": [],
   "source": [
    "x = np.array([5,7,8,7,2,17,2,9,4,11,12,9,6])\n",
    "y = np.array([99,86,87,88,111,86,103,87,94,78,77,85,86])\n",
    "colors = np.array([\"red\",\"green\",\"blue\",\"yellow\",\"pink\",\"black\",\"orange\",\"purple\",\"beige\",\"brown\",\"gray\",\"cyan\",\"magenta\"])\n",
    "\n",
    "plt.scatter(x, y, c=colors)\n",
    "\n",
    "plt.show()"
   ]
  },
  {
   "cell_type": "code",
   "execution_count": null,
   "metadata": {},
   "outputs": [],
   "source": [
    "x = np.array([5,7,8,7,2,17,2,9,4,11,12,9,6])\n",
    "y = np.array([99,86,87,88,111,86,103,87,94,78,77,85,86])\n",
    "colors = np.array([0, 10, 20, 30, 40, 45, 50, 55, 60, 70, 80, 90, 100])\n",
    "\n",
    "plt.scatter(x, y, c=colors, cmap='viridis')\n",
    "\n",
    "plt.colorbar()\n",
    "\n",
    "plt.show()"
   ]
  },
  {
   "cell_type": "markdown",
   "metadata": {},
   "source": [
    "## Matplotlib Bars\n"
   ]
  },
  {
   "cell_type": "code",
   "execution_count": null,
   "metadata": {},
   "outputs": [],
   "source": [
    "x = np.array([\"A\", \"B\", \"C\", \"D\"])\n",
    "y = np.array([3, 8, 1, 10])\n",
    "\n",
    "plt.bar(x,y)\n",
    "plt.show()\n"
   ]
  },
  {
   "cell_type": "code",
   "execution_count": null,
   "metadata": {},
   "outputs": [],
   "source": [
    "x = np.array([\"A\", \"B\", \"C\", \"D\"])\n",
    "y = np.array([3, 8, 1, 10])\n",
    "\n",
    "plt.barh(x, y)\n",
    "plt.show()"
   ]
  },
  {
   "cell_type": "markdown",
   "metadata": {},
   "source": [
    "## Matplotlib Histograms\n"
   ]
  },
  {
   "cell_type": "code",
   "execution_count": null,
   "metadata": {},
   "outputs": [],
   "source": [
    "x = np.random.normal(170, 10, 250)\n",
    "\n",
    "print(x)"
   ]
  },
  {
   "cell_type": "code",
   "execution_count": null,
   "metadata": {},
   "outputs": [],
   "source": [
    "plt.hist(x)\n",
    "plt.show() "
   ]
  },
  {
   "cell_type": "markdown",
   "metadata": {},
   "source": [
    "## Matplotlib Pie Charts\n"
   ]
  },
  {
   "cell_type": "code",
   "execution_count": null,
   "metadata": {},
   "outputs": [],
   "source": [
    "y = np.array([35, 25, 25, 15])\n",
    "\n",
    "plt.pie(y)\n",
    "plt.show() "
   ]
  },
  {
   "cell_type": "code",
   "execution_count": null,
   "metadata": {},
   "outputs": [],
   "source": [
    "y = np.array([35, 25, 25, 15])\n",
    "mylabels = [\"Apples\", \"Bananas\", \"Cherries\", \"Dates\"]\n",
    "\n",
    "plt.pie(y, labels = mylabels)\n",
    "plt.show() "
   ]
  },
  {
   "cell_type": "code",
   "execution_count": null,
   "metadata": {},
   "outputs": [],
   "source": [
    "y = np.array([35, 25, 25, 15])\n",
    "mylabels = [\"Apples\", \"Bananas\", \"Cherries\", \"Dates\"]\n",
    "myexplode = [0.2, 0, 0, 0]\n",
    "\n",
    "plt.pie(y, labels = mylabels, explode = myexplode)\n",
    "plt.show()"
   ]
  },
  {
   "cell_type": "markdown",
   "metadata": {},
   "source": [
    "There is a lot to explore out there, go and do it yourself.\n",
    "(https://www.w3schools.com/python/matplotlib_intro.asp)\n"
   ]
  },
  {
   "cell_type": "markdown",
   "metadata": {},
   "source": [
    "## Exercies\n"
   ]
  },
  {
   "cell_type": "code",
   "execution_count": null,
   "metadata": {},
   "outputs": [],
   "source": [
    "# Matplotlib Exercise: Data Visualization\n",
    "import matplotlib.pyplot as plt\n",
    "\n",
    "# Task: Generate a line plot and a scatter plot\n",
    "def matplotlib_exercise():\n",
    "    x = [1, 2, 3, 4, 5]\n",
    "    y = [2, 4, 6, 8, 10]\n",
    "    \n",
    "    plt.figure(figsize=(10, 5))\n",
    "    \n",
    "    # Line plot\n",
    "    ___\n",
    "    \n",
    "    # Scatter plot\n",
    "    __cached__\n",
    "\n",
    "# Call the function to see the plots\n",
    "matplotlib_exercise()\n"
   ]
  },
  {
   "cell_type": "markdown",
   "metadata": {},
   "source": [
    "## Combine all 3 libraries exercies\n"
   ]
  },
  {
   "cell_type": "code",
   "execution_count": null,
   "metadata": {},
   "outputs": [],
   "source": [
    "# Combined Exercise: NumPy, Pandas, and Matplotlib\n",
    "def combined_exercise():\n",
    "    # Step 1: Load dataset with Pandas\n",
    "    data = {\n",
    "        'Date': pd.date_range(start='2023-01-01', periods=10),\n",
    "        'Value': np.random.randint(50, 150, size=10)\n",
    "    }\n",
    "    df = __ # Create dataframe\n",
    "    \n",
    "    print(\"Original DataFrame:\")\n",
    "    print(df)\n",
    "    \n",
    "    # Step 2: Calculate moving average using NumPy (hint: rolling window 3 , mean)\n",
    "    ___\n",
    "    \n",
    "    # Step 3: Visualize with Matplotlib\n",
    "    ___\n",
    "\n",
    "# Call the function to see the results\n",
    "combined_exercise()\n"
   ]
  },
  {
   "cell_type": "code",
   "execution_count": null,
   "metadata": {},
   "outputs": [],
   "source": []
  }
 ],
 "metadata": {
  "kernelspec": {
   "display_name": "Python 3",
   "language": "python",
   "name": "python3"
  },
  "language_info": {
   "codemirror_mode": {
    "name": "ipython",
    "version": 3
   },
   "file_extension": ".py",
   "mimetype": "text/x-python",
   "name": "python",
   "nbconvert_exporter": "python",
   "pygments_lexer": "ipython3",
   "version": "3.10.11"
  }
 },
 "nbformat": 4,
 "nbformat_minor": 2
}
