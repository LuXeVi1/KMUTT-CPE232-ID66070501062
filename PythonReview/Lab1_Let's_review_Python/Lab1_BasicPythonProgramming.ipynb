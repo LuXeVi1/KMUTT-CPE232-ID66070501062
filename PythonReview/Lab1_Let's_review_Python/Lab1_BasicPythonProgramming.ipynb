{
 "cells": [
  {
   "cell_type": "markdown",
   "metadata": {},
   "source": [
    "# Lab 1: Basic Python Programming\n",
    "\n",
    "#### CPE232 Data Models\n",
    "---"
   ]
  },
  {
   "cell_type": "markdown",
   "metadata": {},
   "source": [
    "## [1] Variable"
   ]
  },
  {
   "cell_type": "markdown",
   "metadata": {},
   "source": [
    "### 1.1 Number Variable"
   ]
  },
  {
   "cell_type": "code",
   "execution_count": null,
   "metadata": {},
   "outputs": [],
   "source": [
    "num = 100 #integer variable\n",
    "num2 = 12.5 #float variable\n",
    "print(num)\n",
    "print(num2)\n",
    "\n",
    "print(num + num2)   #addition\n",
    "print(num - num2)   #subtraction\n",
    "print(num * num2)   #multiplication\n",
    "print( num / num2)  #division"
   ]
  },
  {
   "cell_type": "markdown",
   "metadata": {},
   "source": [
    "### 1.2 String Variable"
   ]
  },
  {
   "cell_type": "code",
   "execution_count": null,
   "metadata": {},
   "outputs": [],
   "source": [
    "#string variable\n",
    "string = \"Data Models\"\n",
    "print(string) #print complete string\n",
    "\n",
    "print(\"Hello \" + string)    #print concatenated string\n",
    "print(string[0])            #print first character of the string\n",
    "print(string[:4])           #print first to 4th character of the string\n",
    "print(string[5:])           #print 6th to last character of the string\n",
    "print(string[1:4])          #print 2nd to 4th character of the string\n",
    "print(string * 2)           #print string 2 time\n"
   ]
  },
  {
   "cell_type": "markdown",
   "metadata": {},
   "source": [
    "### 1.3 Boolean Variable"
   ]
  },
  {
   "cell_type": "code",
   "execution_count": null,
   "metadata": {},
   "outputs": [],
   "source": [
    "#boolean variable\n",
    "boolean = True\n",
    "boolean2 = False\n",
    "\n",
    "print(boolean)              #print boolean variable\n",
    "print(not boolean)          #print opposite of boolean variable\n",
    "print(boolean and boolean2) #print boolean and boolean2\n",
    "print(boolean or boolean2)  #print boolean or boolean2"
   ]
  },
  {
   "cell_type": "markdown",
   "metadata": {},
   "source": [
    "### 1.4 List Variable"
   ]
  },
  {
   "cell_type": "code",
   "execution_count": null,
   "metadata": {},
   "outputs": [],
   "source": [
    "#list variable\n",
    "list = [\"Data\",20,123.23,40,50]\n",
    "another_list = [\"Models\",60]\n",
    "\n",
    "print(list)                 #print complete list\n",
    "print(list[0])              #print first element of the list\n",
    "print(list[1:3])            #print 2nd to 3rd element of the list\n",
    "print(list[2:])             #print 3rd to last element of the list\n",
    "print(another_list)         #print complete another_list\n",
    "print(another_list * 2)     #print another_list two times\n",
    "print(list + another_list)  #print concatenated list\n",
    "\n",
    "list[0] = \"CPE232\"          #change first element of the list\n",
    "print(list)                 #print complete list\n"
   ]
  },
  {
   "cell_type": "markdown",
   "metadata": {},
   "source": [
    "### 1.5 Tuple Variable"
   ]
  },
  {
   "cell_type": "code",
   "execution_count": null,
   "metadata": {},
   "outputs": [],
   "source": [
    "#tuple variable\n",
    "tuple = (\"Data\",20,123.23,40,50)\n",
    "another_tuple = (\"Models\",60)\n",
    "\n",
    "print(tuple)                    #print complete tuple\n",
    "print(tuple[0])                 #print first element of the tuple\n",
    "print(tuple[1:3])               #print 2nd to 3rd element of the tuple\n",
    "print(tuple[2:])                #print 3rd to last element of the tuple\n",
    "print(tuple * 2)                #print tuple two times\n",
    "print(tuple + another_tuple)    #print concatenated tuple\n"
   ]
  },
  {
   "cell_type": "code",
   "execution_count": null,
   "metadata": {},
   "outputs": [],
   "source": [
    "tuple[0] = \"CPE232\"          #trying to change first element of the tuple but it cannot be changed so it gives error"
   ]
  },
  {
   "cell_type": "markdown",
   "metadata": {},
   "source": [
    "### 1.6 Dictionary Variable"
   ]
  },
  {
   "cell_type": "code",
   "execution_count": null,
   "metadata": {},
   "outputs": [],
   "source": [
    "#dictionary variable\n",
    "dictionary = {\"name\":\"Alice\",\"age\":21}\n",
    "another_dictionary = {}\n",
    "another_dictionary[\"name\"] = \"Bob\"\n",
    "another_dictionary[\"age\"] = 21\n",
    "\n",
    "print(dictionary)                  #print complete dictionary\n",
    "print(dictionary[\"name\"])          #print value for specific key\n",
    "print(dictionary.keys())           #print all the keys\n",
    "print(dictionary.values())         #print all the values\n",
    "print(dictionary.items())          #print all the items\n",
    "print(another_dictionary)          #print complete another_dictionary"
   ]
  },
  {
   "cell_type": "markdown",
   "metadata": {},
   "source": [
    "## [2] Control Flow"
   ]
  },
  {
   "cell_type": "markdown",
   "metadata": {},
   "source": [
    "### 2.1 IF ... ELIF ... ELSE"
   ]
  },
  {
   "cell_type": "code",
   "execution_count": null,
   "metadata": {},
   "outputs": [],
   "source": [
    "number = 123\n",
    "number2 = 34\n",
    "\n",
    "if number > number2:\n",
    "    print(\"number is greater thanu number2\")\n",
    "elif number < number2:\n",
    "    print(\"number is less than number2\")\n",
    "else:\n",
    "    print(\"number is equal to number2\")\n"
   ]
  },
  {
   "cell_type": "markdown",
   "metadata": {},
   "source": [
    "## [3] Loop"
   ]
  },
  {
   "cell_type": "markdown",
   "metadata": {},
   "source": [
    "### 3.1 For Loop"
   ]
  },
  {
   "cell_type": "code",
   "execution_count": null,
   "metadata": {},
   "outputs": [],
   "source": [
    "#for loops\n",
    "for num in range(0,10):\n",
    "    print(num)"
   ]
  },
  {
   "cell_type": "code",
   "execution_count": null,
   "metadata": {},
   "outputs": [],
   "source": [
    "#for loop with list\n",
    "\n",
    "list = [\"Alice\",\"Bob\",\"Charlie\",\"Daisy\"]\n",
    "\n",
    "for name in list:\n",
    "    print(name)"
   ]
  },
  {
   "cell_type": "code",
   "execution_count": null,
   "metadata": {},
   "outputs": [],
   "source": [
    "#continue in for loop\n",
    "\n",
    "list = [1,23,7,\"hello\",True,1123,43,23,12]\n",
    "\n",
    "for element in list:\n",
    "    if type(element) != int:\n",
    "        continue   \n",
    "    print(element)"
   ]
  },
  {
   "cell_type": "code",
   "execution_count": null,
   "metadata": {},
   "outputs": [],
   "source": [
    "#break in for loop\n",
    "\n",
    "list = [1,23,7,\"hello\",True,1123,43,23,12]\n",
    "\n",
    "for element in list:\n",
    "    if type(element) != int:\n",
    "        break\n",
    "    print(element)"
   ]
  },
  {
   "cell_type": "markdown",
   "metadata": {},
   "source": [
    "### 3.2 While loop"
   ]
  },
  {
   "cell_type": "code",
   "execution_count": null,
   "metadata": {},
   "outputs": [],
   "source": [
    "#while loop\n",
    "\n",
    "list = [\"Alice\",\"Bob\",\"Charlie\",\"Daisy\"]\n",
    "count = 0\n",
    "\n",
    "while count < len(list):\n",
    "    print(list[count])\n",
    "    count += 1"
   ]
  },
  {
   "cell_type": "code",
   "execution_count": null,
   "metadata": {},
   "outputs": [],
   "source": [
    "#continue in while loop\n",
    "\n",
    "list = [1,23,7,\"hello\",True,1123,43,23,12]\n",
    "count = 0\n",
    "\n",
    "while count < len(list):\n",
    "    if type(list[count]) != int:\n",
    "        count += 1\n",
    "        continue\n",
    "    print(list[count])\n",
    "    count += 1"
   ]
  },
  {
   "cell_type": "code",
   "execution_count": null,
   "metadata": {},
   "outputs": [],
   "source": [
    "#break in while loop\n",
    "\n",
    "list = [1,23,7,\"hello\",True,1123,43,23,12]\n",
    "count = 0\n",
    "\n",
    "while count < len(list):\n",
    "    if type(list[count]) != int:\n",
    "        break\n",
    "    print(list[count])\n",
    "    count += 1"
   ]
  },
  {
   "cell_type": "markdown",
   "metadata": {},
   "source": [
    "## [4] Function"
   ]
  },
  {
   "cell_type": "code",
   "execution_count": null,
   "metadata": {},
   "outputs": [],
   "source": [
    "#define function\n",
    "def function_name (arg1, arg2):\n",
    "    return arg1 + arg2\n",
    "\n",
    "#calling function\n",
    "function_name(1,2)"
   ]
  },
  {
   "cell_type": "code",
   "execution_count": null,
   "metadata": {},
   "outputs": [],
   "source": [
    "#define function with default argument\n",
    "def function_with_default_arg(arg1, arg2 = 10, arg3 = 20 , arg4 = 30):\n",
    "    return arg1 + arg2 + arg3 + arg4\n",
    "\n",
    "result_1 = function_with_default_arg(1)\n",
    "result_2 = function_with_default_arg(1,2,5)\n",
    "result_3 = function_with_default_arg(1,2,5,10)\n",
    "\n",
    "print(result_1)\n",
    "print(result_2)\n",
    "print(result_3)"
   ]
  },
  {
   "cell_type": "code",
   "execution_count": null,
   "metadata": {},
   "outputs": [],
   "source": [
    "#multiple agument\n",
    "def function_with_multiple_arg(*args):\n",
    "    print(args)\n",
    "    print(type(args))\n",
    "    sum = 0\n",
    "    for num in args:\n",
    "        sum += num\n",
    "        \n",
    "    return sum\n",
    "\n",
    "function_with_multiple_arg(1,2,3,4,5)"
   ]
  },
  {
   "cell_type": "code",
   "execution_count": null,
   "metadata": {},
   "outputs": [],
   "source": [
    "#lambda function\n",
    "lambda_function = lambda arg1, arg2: arg1 + arg2\n",
    "\n",
    "print(lambda_function(1,2))"
   ]
  },
  {
   "cell_type": "markdown",
   "metadata": {},
   "source": [
    "## [5] File Handling"
   ]
  },
  {
   "cell_type": "markdown",
   "metadata": {},
   "source": [
    "### 5.1 Text File"
   ]
  },
  {
   "cell_type": "code",
   "execution_count": null,
   "metadata": {},
   "outputs": [],
   "source": [
    "with open(\"test.txt\",\"w\") as file:\n",
    "    file.write(\"Hello World\")"
   ]
  },
  {
   "cell_type": "code",
   "execution_count": null,
   "metadata": {},
   "outputs": [],
   "source": [
    "with open(\"test.txt\",\"r\") as file:\n",
    "    print(file.read())"
   ]
  },
  {
   "cell_type": "markdown",
   "metadata": {},
   "source": [
    "### 5.2 CSV File"
   ]
  },
  {
   "cell_type": "code",
   "execution_count": null,
   "metadata": {},
   "outputs": [],
   "source": [
    "import csv\n",
    "\n",
    "with open(\"test.csv\",\"w\",newline='') as file:\n",
    "        writer = csv.writer(file)\n",
    "        writer.writerow([\"Name\",\"Surname\"])\n",
    "        writer.writerow([\"Alice\",\"Johnson\"])\n",
    "        writer.writerow([\"Bob\",\"Smith\"])"
   ]
  },
  {
   "cell_type": "code",
   "execution_count": null,
   "metadata": {},
   "outputs": [],
   "source": [
    "import csv \n",
    "\n",
    "with open(\"test.csv\",\"r\") as file:\n",
    "    reader = csv.reader(file)\n",
    "    for row in reader:\n",
    "        print(row)"
   ]
  },
  {
   "cell_type": "markdown",
   "metadata": {},
   "source": [
    "## [4] Libraries"
   ]
  },
  {
   "cell_type": "markdown",
   "metadata": {
    "id": "cAYvqexo5I6q"
   },
   "source": [
    "### 4.1 Numpy"
   ]
  },
  {
   "cell_type": "markdown",
   "metadata": {
    "id": "ry0nomLuWOvf"
   },
   "source": [
    "#### import numpy library"
   ]
  },
  {
   "cell_type": "code",
   "execution_count": null,
   "metadata": {
    "id": "3mckC6IrWUvm"
   },
   "outputs": [],
   "source": [
    "import numpy as np"
   ]
  },
  {
   "cell_type": "markdown",
   "metadata": {
    "id": "_K-uT0P84z0E"
   },
   "source": [
    "#### ndarray initialization"
   ]
  },
  {
   "cell_type": "markdown",
   "metadata": {
    "id": "vuWT2nvcWZCP"
   },
   "source": [
    "Construct using python list"
   ]
  },
  {
   "cell_type": "code",
   "execution_count": null,
   "metadata": {
    "colab": {
     "base_uri": "https://localhost:8080/"
    },
    "executionInfo": {
     "elapsed": 25,
     "status": "ok",
     "timestamp": 1690179908158,
     "user": {
      "displayName": "Kawin Chinpong",
      "userId": "01958059792759867155"
     },
     "user_tz": -420
    },
    "id": "r2vbQhk35Uf5",
    "outputId": "a0087df8-5c98-44aa-d064-3bf4d1069b2c"
   },
   "outputs": [],
   "source": [
    "# 1d ndarray from 1d python list\n",
    "list_a1=[1,2,3.5]\n",
    "arr_a1=np.array(list_a1)\n",
    "arr_a1"
   ]
  },
  {
   "cell_type": "code",
   "execution_count": null,
   "metadata": {
    "colab": {
     "base_uri": "https://localhost:8080/"
    },
    "executionInfo": {
     "elapsed": 23,
     "status": "ok",
     "timestamp": 1690179908158,
     "user": {
      "displayName": "Kawin Chinpong",
      "userId": "01958059792759867155"
     },
     "user_tz": -420
    },
    "id": "02D64vJyWv2k",
    "outputId": "4bb45e57-fd00-4bf3-fee7-8d207524eaae"
   },
   "outputs": [],
   "source": [
    "# 2d ndarray from 2d python list (list of list)\n",
    "list_a2=[[1,2],[3,4],[5,6]]\n",
    "arr_a2=np.array(list_a2)\n",
    "arr_a2"
   ]
  },
  {
   "cell_type": "code",
   "execution_count": null,
   "metadata": {
    "colab": {
     "base_uri": "https://localhost:8080/"
    },
    "executionInfo": {
     "elapsed": 20,
     "status": "ok",
     "timestamp": 1690179908158,
     "user": {
      "displayName": "Kawin Chinpong",
      "userId": "01958059792759867155"
     },
     "user_tz": -420
    },
    "id": "yF6vVkPQXEUT",
    "outputId": "a0449327-04a5-4aa3-ed15-cca620ec2741"
   },
   "outputs": [],
   "source": [
    "list_a3=[[[1,2],[2,3]],[[3,4],[4,5]]]\n",
    "arr_a3=np.array(list_a3)\n",
    "arr_a3"
   ]
  },
  {
   "cell_type": "markdown",
   "metadata": {
    "id": "mnyDKPoMXSQz"
   },
   "source": [
    "or construct using some numpy classes and functions"
   ]
  },
  {
   "cell_type": "code",
   "execution_count": null,
   "metadata": {
    "colab": {
     "base_uri": "https://localhost:8080/"
    },
    "executionInfo": {
     "elapsed": 17,
     "status": "ok",
     "timestamp": 1690179908158,
     "user": {
      "displayName": "Kawin Chinpong",
      "userId": "01958059792759867155"
     },
     "user_tz": -420
    },
    "id": "zH4gGBQBXWdK",
    "outputId": "089947de-796b-4332-8eb7-5feef5dc84b4"
   },
   "outputs": [],
   "source": [
    "np.zeros(5)"
   ]
  },
  {
   "cell_type": "code",
   "execution_count": null,
   "metadata": {
    "colab": {
     "base_uri": "https://localhost:8080/"
    },
    "executionInfo": {
     "elapsed": 16,
     "status": "ok",
     "timestamp": 1690179908159,
     "user": {
      "displayName": "Kawin Chinpong",
      "userId": "01958059792759867155"
     },
     "user_tz": -420
    },
    "id": "5OBY71fLXYq6",
    "outputId": "6db0750c-d084-42f3-c250-461562748ae0"
   },
   "outputs": [],
   "source": [
    "np.ones((3,4),dtype=float)"
   ]
  },
  {
   "cell_type": "code",
   "execution_count": null,
   "metadata": {
    "colab": {
     "base_uri": "https://localhost:8080/"
    },
    "executionInfo": {
     "elapsed": 13,
     "status": "ok",
     "timestamp": 1690179908159,
     "user": {
      "displayName": "Kawin Chinpong",
      "userId": "01958059792759867155"
     },
     "user_tz": -420
    },
    "id": "Vgg3fyPgXcWT",
    "outputId": "1554f9e2-a9d7-4877-e74f-2f6b312519c8"
   },
   "outputs": [],
   "source": [
    "np.full((4,),999)"
   ]
  },
  {
   "cell_type": "code",
   "execution_count": null,
   "metadata": {
    "colab": {
     "base_uri": "https://localhost:8080/"
    },
    "executionInfo": {
     "elapsed": 10,
     "status": "ok",
     "timestamp": 1690179908159,
     "user": {
      "displayName": "Kawin Chinpong",
      "userId": "01958059792759867155"
     },
     "user_tz": -420
    },
    "id": "XUMSHhHWXgBC",
    "outputId": "991b141a-c826-4c10-94d2-69f1bdd9bcd5"
   },
   "outputs": [],
   "source": [
    "np.arange(3,10,2)"
   ]
  },
  {
   "cell_type": "code",
   "execution_count": null,
   "metadata": {
    "colab": {
     "base_uri": "https://localhost:8080/"
    },
    "executionInfo": {
     "elapsed": 8,
     "status": "ok",
     "timestamp": 1690179908160,
     "user": {
      "displayName": "Kawin Chinpong",
      "userId": "01958059792759867155"
     },
     "user_tz": -420
    },
    "id": "wekQO0fWXluB",
    "outputId": "ef784c93-ccac-4909-92a0-03305ce4960b"
   },
   "outputs": [],
   "source": [
    "np.linspace(10,15,11)"
   ]
  },
  {
   "cell_type": "code",
   "execution_count": null,
   "metadata": {
    "colab": {
     "base_uri": "https://localhost:8080/"
    },
    "executionInfo": {
     "elapsed": 6,
     "status": "ok",
     "timestamp": 1690179908617,
     "user": {
      "displayName": "Kawin Chinpong",
      "userId": "01958059792759867155"
     },
     "user_tz": -420
    },
    "id": "QzWfLDKkXxPq",
    "outputId": "8a28f6ca-08a4-4064-87d0-8eec0022f089"
   },
   "outputs": [],
   "source": [
    "np.random.choice(['a','b'],9)"
   ]
  },
  {
   "cell_type": "code",
   "execution_count": null,
   "metadata": {
    "colab": {
     "base_uri": "https://localhost:8080/"
    },
    "executionInfo": {
     "elapsed": 5,
     "status": "ok",
     "timestamp": 1690179908617,
     "user": {
      "displayName": "Kawin Chinpong",
      "userId": "01958059792759867155"
     },
     "user_tz": -420
    },
    "id": "G03j03keYKin",
    "outputId": "221c3545-2153-4951-fa12-653ae0d4008f"
   },
   "outputs": [],
   "source": [
    "np.random.randn(10)"
   ]
  },
  {
   "cell_type": "markdown",
   "metadata": {
    "id": "6kSdLoqU5Aqa"
   },
   "source": [
    "#### ndarray properties"
   ]
  },
  {
   "cell_type": "code",
   "execution_count": null,
   "metadata": {
    "colab": {
     "base_uri": "https://localhost:8080/"
    },
    "executionInfo": {
     "elapsed": 11,
     "status": "ok",
     "timestamp": 1690179909700,
     "user": {
      "displayName": "Kawin Chinpong",
      "userId": "01958059792759867155"
     },
     "user_tz": -420
    },
    "id": "0NamDy-I5HK0",
    "outputId": "d0db1205-a266-45f4-df15-7204c14312c4"
   },
   "outputs": [],
   "source": [
    "list_a=[[1,2,3,4],[5,6,7,8],[9,10,11,12]]\n",
    "arr_a=np.array(list_a)\n",
    "arr_a"
   ]
  },
  {
   "cell_type": "code",
   "execution_count": null,
   "metadata": {
    "colab": {
     "base_uri": "https://localhost:8080/"
    },
    "executionInfo": {
     "elapsed": 9,
     "status": "ok",
     "timestamp": 1690179909701,
     "user": {
      "displayName": "Kawin Chinpong",
      "userId": "01958059792759867155"
     },
     "user_tz": -420
    },
    "id": "aSKEWfKpZCgF",
    "outputId": "550c7bcc-ae35-4f81-c9ed-f97f0b76707e"
   },
   "outputs": [],
   "source": [
    "arr_a.ndim"
   ]
  },
  {
   "cell_type": "code",
   "execution_count": null,
   "metadata": {
    "colab": {
     "base_uri": "https://localhost:8080/"
    },
    "executionInfo": {
     "elapsed": 5,
     "status": "ok",
     "timestamp": 1690179909701,
     "user": {
      "displayName": "Kawin Chinpong",
      "userId": "01958059792759867155"
     },
     "user_tz": -420
    },
    "id": "fp5kcm8KZEuN",
    "outputId": "052cc80b-1c05-4924-a410-d7e19c3abbf3"
   },
   "outputs": [],
   "source": [
    "arr_a.shape"
   ]
  },
  {
   "cell_type": "code",
   "execution_count": null,
   "metadata": {
    "colab": {
     "base_uri": "https://localhost:8080/"
    },
    "executionInfo": {
     "elapsed": 5,
     "status": "ok",
     "timestamp": 1690179910169,
     "user": {
      "displayName": "Kawin Chinpong",
      "userId": "01958059792759867155"
     },
     "user_tz": -420
    },
    "id": "TNIRzUg6ZGaj",
    "outputId": "c2109003-3c5f-4a2d-963d-cfe8a5b0520b"
   },
   "outputs": [],
   "source": [
    "arr_a.dtype"
   ]
  },
  {
   "cell_type": "code",
   "execution_count": null,
   "metadata": {
    "colab": {
     "base_uri": "https://localhost:8080/"
    },
    "executionInfo": {
     "elapsed": 5,
     "status": "ok",
     "timestamp": 1690179910170,
     "user": {
      "displayName": "Kawin Chinpong",
      "userId": "01958059792759867155"
     },
     "user_tz": -420
    },
    "id": "nQDV-4SMZJHd",
    "outputId": "0060d0fc-97d6-402d-a2cd-62b897905565"
   },
   "outputs": [],
   "source": [
    "arr_a.size"
   ]
  },
  {
   "cell_type": "markdown",
   "metadata": {
    "id": "05KO7UlH4iDf"
   },
   "source": [
    "#### Reshaping & Modification"
   ]
  },
  {
   "cell_type": "markdown",
   "metadata": {
    "id": "XU9sHIYyZtip"
   },
   "source": [
    "from this original ndarray"
   ]
  },
  {
   "cell_type": "code",
   "execution_count": null,
   "metadata": {
    "colab": {
     "base_uri": "https://localhost:8080/"
    },
    "executionInfo": {
     "elapsed": 6,
     "status": "ok",
     "timestamp": 1690179911302,
     "user": {
      "displayName": "Kawin Chinpong",
      "userId": "01958059792759867155"
     },
     "user_tz": -420
    },
    "id": "n5zyhXfr5Udk",
    "outputId": "a3184de5-c0d5-4836-edb6-ae66d2527942"
   },
   "outputs": [],
   "source": [
    "arr_a"
   ]
  },
  {
   "cell_type": "markdown",
   "metadata": {
    "id": "XnR_IeDQZyjw"
   },
   "source": [
    "try to convert into 3D array"
   ]
  },
  {
   "cell_type": "code",
   "execution_count": null,
   "metadata": {
    "colab": {
     "base_uri": "https://localhost:8080/"
    },
    "executionInfo": {
     "elapsed": 2,
     "status": "ok",
     "timestamp": 1690179911852,
     "user": {
      "displayName": "Kawin Chinpong",
      "userId": "01958059792759867155"
     },
     "user_tz": -420
    },
    "id": "6vcY0ngDZ2bg",
    "outputId": "5e86eb23-30a1-4c74-a10e-5f1dc394b70a"
   },
   "outputs": [],
   "source": [
    "arr_a.reshape((2,2,3))"
   ]
  },
  {
   "cell_type": "markdown",
   "metadata": {
    "id": "JCOqQuXcaMzx"
   },
   "source": [
    "sometimes you may resize for same dimension where only known some dimension, insert -1 for unknown len"
   ]
  },
  {
   "cell_type": "code",
   "execution_count": null,
   "metadata": {
    "colab": {
     "base_uri": "https://localhost:8080/"
    },
    "executionInfo": {
     "elapsed": 2,
     "status": "ok",
     "timestamp": 1690179912361,
     "user": {
      "displayName": "Kawin Chinpong",
      "userId": "01958059792759867155"
     },
     "user_tz": -420
    },
    "id": "Va0cGR2ja0E9",
    "outputId": "6b9e1295-26fc-4061-c203-21158e72e9eb"
   },
   "outputs": [],
   "source": [
    "arr_a.reshape((-1,6))"
   ]
  },
  {
   "cell_type": "markdown",
   "metadata": {
    "id": "yWWWdq8ga9D8"
   },
   "source": [
    "Would you like to try this?"
   ]
  },
  {
   "cell_type": "code",
   "execution_count": null,
   "metadata": {
    "colab": {
     "base_uri": "https://localhost:8080/",
     "height": 166
    },
    "executionInfo": {
     "elapsed": 562,
     "status": "error",
     "timestamp": 1690179913773,
     "user": {
      "displayName": "Kawin Chinpong",
      "userId": "01958059792759867155"
     },
     "user_tz": -420
    },
    "id": "qXmTrZN9bAJd",
    "outputId": "fab76be3-dd99-4932-f79f-b3083c1f3802"
   },
   "outputs": [],
   "source": [
    "arr_a.reshape((-1,5))"
   ]
  },
  {
   "cell_type": "markdown",
   "metadata": {},
   "source": [
    "[Q1] From the above cell, explain in your own words why it worked or did not work.\n",
    "\n",
    "Ans: \n",
    "1. โค้ด `arr_a.reshape((-1,5))` ไม่สามารถทำงานได้ เนื่องจากจำนวน elements ทั้งหมดใน array ต้นฉบับ `arr_a` (ซึ่งมี shape เป็น 3x4 รวมทั้งหมด 12 elements) ไม่สามารถหารลงตัวด้วย shape ใหม่ (-1,5) ได้ \n",
    "2. ค่า -1 ในฟังก์ชัน `reshape` จะคำนวณขนาดของมิตินั้นให้อัตโนมัติ แต่ 12 ไม่สามารถหารด้วย 5 ได้ลงตัว ทำให้ `reshape` ไม่สำเร็จ เพราะ array จำเป็นต้องให้จำนวน elements ทั้งหมดเหมือนเดิม และ shape ใหม่ต้องเข้ากันได้กับ elements เดิม"
   ]
  },
  {
   "cell_type": "markdown",
   "metadata": {
    "id": "Ha4FHaBgfNE-"
   },
   "source": [
    "Next, try to append any value(s) into exist 2darray"
   ]
  },
  {
   "cell_type": "code",
   "execution_count": null,
   "metadata": {
    "colab": {
     "base_uri": "https://localhost:8080/"
    },
    "executionInfo": {
     "elapsed": 3,
     "status": "ok",
     "timestamp": 1690179914231,
     "user": {
      "displayName": "Kawin Chinpong",
      "userId": "01958059792759867155"
     },
     "user_tz": -420
    },
    "id": "ymCr3IGJVE3m",
    "outputId": "4bab3925-86ac-45ee-c64a-19c3805ee437"
   },
   "outputs": [],
   "source": [
    "np.append(arr_a,13)"
   ]
  },
  {
   "cell_type": "code",
   "execution_count": null,
   "metadata": {
    "colab": {
     "base_uri": "https://localhost:8080/"
    },
    "executionInfo": {
     "elapsed": 5,
     "status": "ok",
     "timestamp": 1690179915174,
     "user": {
      "displayName": "Kawin Chinpong",
      "userId": "01958059792759867155"
     },
     "user_tz": -420
    },
    "id": "3BN5hpubVIm2",
    "outputId": "fdbe9675-5c1e-432b-cb5e-e7c42dfc9446"
   },
   "outputs": [],
   "source": [
    "np.append(arr_a,arr_a[0])"
   ]
  },
  {
   "cell_type": "code",
   "execution_count": null,
   "metadata": {
    "colab": {
     "base_uri": "https://localhost:8080/"
    },
    "executionInfo": {
     "elapsed": 2,
     "status": "ok",
     "timestamp": 1690179915652,
     "user": {
      "displayName": "Kawin Chinpong",
      "userId": "01958059792759867155"
     },
     "user_tz": -420
    },
    "id": "f4nOlFVeVTQd",
    "outputId": "5a1972d5-6b09-4a31-b0aa-b288113ef6aa"
   },
   "outputs": [],
   "source": [
    "np.append(arr_a,arr_a[0].reshape((1,-1)),axis=0)"
   ]
  },
  {
   "cell_type": "code",
   "execution_count": null,
   "metadata": {
    "colab": {
     "base_uri": "https://localhost:8080/"
    },
    "executionInfo": {
     "elapsed": 2,
     "status": "ok",
     "timestamp": 1690179916113,
     "user": {
      "displayName": "Kawin Chinpong",
      "userId": "01958059792759867155"
     },
     "user_tz": -420
    },
    "id": "_NGuiFZjWFw6",
    "outputId": "66bdb408-8491-40ec-cdbd-1410e8bfcb31"
   },
   "outputs": [],
   "source": [
    "np.append(arr_a,arr_a[:,0].reshape((-1,1)),axis=1)"
   ]
  },
  {
   "cell_type": "code",
   "execution_count": null,
   "metadata": {
    "colab": {
     "base_uri": "https://localhost:8080/"
    },
    "executionInfo": {
     "elapsed": 2,
     "status": "ok",
     "timestamp": 1690179916564,
     "user": {
      "displayName": "Kawin Chinpong",
      "userId": "01958059792759867155"
     },
     "user_tz": -420
    },
    "id": "vSOc3-nwXGDW",
    "outputId": "e5b6ba57-e1f8-4c6b-ec9e-3003cacfb283"
   },
   "outputs": [],
   "source": [
    "np.concatenate([arr_a,arr_a])"
   ]
  },
  {
   "cell_type": "code",
   "execution_count": null,
   "metadata": {
    "colab": {
     "base_uri": "https://localhost:8080/"
    },
    "executionInfo": {
     "elapsed": 2,
     "status": "ok",
     "timestamp": 1690179917012,
     "user": {
      "displayName": "Kawin Chinpong",
      "userId": "01958059792759867155"
     },
     "user_tz": -420
    },
    "id": "XrAiR4uIXKem",
    "outputId": "f799ab0b-e694-40b5-e243-b396d7596e62"
   },
   "outputs": [],
   "source": [
    "np.concatenate([arr_a,arr_a],axis=1)"
   ]
  },
  {
   "cell_type": "markdown",
   "metadata": {
    "id": "049Wrnq84d1X"
   },
   "source": [
    "#### indexing & slicing"
   ]
  },
  {
   "cell_type": "markdown",
   "metadata": {
    "id": "k03kbTwYc4HA"
   },
   "source": [
    "from this original array again"
   ]
  },
  {
   "cell_type": "code",
   "execution_count": null,
   "metadata": {
    "colab": {
     "base_uri": "https://localhost:8080/"
    },
    "executionInfo": {
     "elapsed": 3,
     "status": "ok",
     "timestamp": 1690179918403,
     "user": {
      "displayName": "Kawin Chinpong",
      "userId": "01958059792759867155"
     },
     "user_tz": -420
    },
    "id": "wvsgm0jX5UOy",
    "outputId": "2e6241b7-9100-4eca-9062-72c4069501ba"
   },
   "outputs": [],
   "source": [
    "arr_a"
   ]
  },
  {
   "cell_type": "markdown",
   "metadata": {
    "id": "p84wSTQ_c-An"
   },
   "source": [
    "try to access all element at the first row"
   ]
  },
  {
   "cell_type": "code",
   "execution_count": null,
   "metadata": {
    "colab": {
     "base_uri": "https://localhost:8080/"
    },
    "executionInfo": {
     "elapsed": 4,
     "status": "ok",
     "timestamp": 1690179919241,
     "user": {
      "displayName": "Kawin Chinpong",
      "userId": "01958059792759867155"
     },
     "user_tz": -420
    },
    "id": "JZGeeGQZc8dX",
    "outputId": "a428d467-63bc-43b9-982b-a26d19f25ab3"
   },
   "outputs": [],
   "source": [
    "arr_a[1]"
   ]
  },
  {
   "cell_type": "markdown",
   "metadata": {
    "id": "MKU2ubujdDZg"
   },
   "source": [
    "then you would like to access the second element from the first row"
   ]
  },
  {
   "cell_type": "code",
   "execution_count": null,
   "metadata": {
    "colab": {
     "base_uri": "https://localhost:8080/"
    },
    "executionInfo": {
     "elapsed": 11,
     "status": "ok",
     "timestamp": 1690179919913,
     "user": {
      "displayName": "Kawin Chinpong",
      "userId": "01958059792759867155"
     },
     "user_tz": -420
    },
    "id": "uDXH4KCtdB5d",
    "outputId": "354b6d59-207f-4947-f62f-74e053a99fb5"
   },
   "outputs": [],
   "source": [
    "arr_a[1][2]"
   ]
  },
  {
   "cell_type": "code",
   "execution_count": null,
   "metadata": {
    "colab": {
     "base_uri": "https://localhost:8080/"
    },
    "executionInfo": {
     "elapsed": 10,
     "status": "ok",
     "timestamp": 1690179919913,
     "user": {
      "displayName": "Kawin Chinpong",
      "userId": "01958059792759867155"
     },
     "user_tz": -420
    },
    "id": "2_xnXvRhdYkh",
    "outputId": "b838cd88-32b8-4bc3-cd4f-d37a51fe391f"
   },
   "outputs": [],
   "source": [
    "arr_a[1,2]"
   ]
  },
  {
   "cell_type": "markdown",
   "metadata": {
    "id": "rXQ5iyvVdoke"
   },
   "source": [
    "Next, try to access all element start from 1th in the first row"
   ]
  },
  {
   "cell_type": "code",
   "execution_count": null,
   "metadata": {
    "colab": {
     "base_uri": "https://localhost:8080/"
    },
    "executionInfo": {
     "elapsed": 8,
     "status": "ok",
     "timestamp": 1690179919914,
     "user": {
      "displayName": "Kawin Chinpong",
      "userId": "01958059792759867155"
     },
     "user_tz": -420
    },
    "id": "qlYYunpZd3lY",
    "outputId": "4967c5e8-b2dd-4fd9-a81d-e4007a45666f"
   },
   "outputs": [],
   "source": [
    "arr_a[1,1:]"
   ]
  },
  {
   "cell_type": "code",
   "execution_count": null,
   "metadata": {
    "colab": {
     "base_uri": "https://localhost:8080/"
    },
    "executionInfo": {
     "elapsed": 5,
     "status": "ok",
     "timestamp": 1690179919914,
     "user": {
      "displayName": "Kawin Chinpong",
      "userId": "01958059792759867155"
     },
     "user_tz": -420
    },
    "id": "_zmajoIVd9Jr",
    "outputId": "4b11392d-003f-48be-f178-f4db01396274"
   },
   "outputs": [],
   "source": [
    "arr_a[:2,1:]"
   ]
  },
  {
   "cell_type": "markdown",
   "metadata": {
    "id": "TbHNLWk7eSve"
   },
   "source": [
    "sometimes you may specify some row number using list within indicing"
   ]
  },
  {
   "cell_type": "code",
   "execution_count": null,
   "metadata": {
    "colab": {
     "base_uri": "https://localhost:8080/"
    },
    "executionInfo": {
     "elapsed": 2,
     "status": "ok",
     "timestamp": 1690179920935,
     "user": {
      "displayName": "Kawin Chinpong",
      "userId": "01958059792759867155"
     },
     "user_tz": -420
    },
    "id": "zvr4Q5rreaOx",
    "outputId": "806d27b6-b4c2-44be-a090-369bbc7d42e5"
   },
   "outputs": [],
   "source": [
    "arr_a[[1,2,1],1:]"
   ]
  },
  {
   "cell_type": "markdown",
   "metadata": {
    "id": "qH67S0Fr6QjT"
   },
   "source": [
    "#### Boolean slicing"
   ]
  },
  {
   "cell_type": "markdown",
   "metadata": {
    "id": "mme33LxbGnlJ"
   },
   "source": [
    "based on this original array"
   ]
  },
  {
   "cell_type": "code",
   "execution_count": null,
   "metadata": {
    "colab": {
     "base_uri": "https://localhost:8080/"
    },
    "executionInfo": {
     "elapsed": 2,
     "status": "ok",
     "timestamp": 1690179922232,
     "user": {
      "displayName": "Kawin Chinpong",
      "userId": "01958059792759867155"
     },
     "user_tz": -420
    },
    "id": "9I7XiTdXGnTT",
    "outputId": "53b118d3-6256-4f47-b0a2-542be13fb2ce"
   },
   "outputs": [],
   "source": [
    "arr_a"
   ]
  },
  {
   "cell_type": "markdown",
   "metadata": {
    "id": "qZ1RXRoOGrWR"
   },
   "source": [
    "try to filter all elements which more than 5"
   ]
  },
  {
   "cell_type": "code",
   "execution_count": null,
   "metadata": {
    "colab": {
     "base_uri": "https://localhost:8080/"
    },
    "executionInfo": {
     "elapsed": 2,
     "status": "ok",
     "timestamp": 1690179923665,
     "user": {
      "displayName": "Kawin Chinpong",
      "userId": "01958059792759867155"
     },
     "user_tz": -420
    },
    "id": "4WwvYFlv6WPY",
    "outputId": "edee07ba-32e2-4fff-c4d9-70bd69059b90"
   },
   "outputs": [],
   "source": [
    "arr_a>5"
   ]
  },
  {
   "cell_type": "markdown",
   "metadata": {
    "id": "QUl_UWvNGyzA"
   },
   "source": [
    "Next, try to filter all elements which more than 5 and less than 10"
   ]
  },
  {
   "cell_type": "code",
   "execution_count": null,
   "metadata": {
    "colab": {
     "base_uri": "https://localhost:8080/"
    },
    "executionInfo": {
     "elapsed": 402,
     "status": "ok",
     "timestamp": 1690179924751,
     "user": {
      "displayName": "Kawin Chinpong",
      "userId": "01958059792759867155"
     },
     "user_tz": -420
    },
    "id": "ThR3KPVSHALN",
    "outputId": "be1917d7-ff93-4d7a-d108-f50a14517043"
   },
   "outputs": [],
   "source": [
    "(arr_a>5)&(arr_a<10)"
   ]
  },
  {
   "cell_type": "markdown",
   "metadata": {
    "id": "AwJ3n8FGHoXF"
   },
   "source": [
    "Run the cell below and answer a question."
   ]
  },
  {
   "cell_type": "code",
   "execution_count": null,
   "metadata": {
    "colab": {
     "base_uri": "https://localhost:8080/"
    },
    "executionInfo": {
     "elapsed": 3,
     "status": "ok",
     "timestamp": 1690179925792,
     "user": {
      "displayName": "Kawin Chinpong",
      "userId": "01958059792759867155"
     },
     "user_tz": -420
    },
    "id": "76cnqY4sHvXb",
    "outputId": "085690a7-e89d-44b3-ba1a-773c0231a0bb"
   },
   "outputs": [],
   "source": [
    "arr_a[(arr_a>5)&(arr_a<10)]"
   ]
  },
  {
   "cell_type": "markdown",
   "metadata": {},
   "source": [
    "[Q2] From the above cell, explain in your own words how the output came about?\n",
    "\n",
    "Ans: \n",
    "- ผลลัพธ์ของ `arr_a[(arr_a > 5) & (arr_a < 10)]` คือ array ที่ถูกกรองให้มีเฉพาะ elements ใน `arr_a` ที่มีค่ามากกว่า 5 และน้อยกว่า 10 เท่านั้น  \n",
    "- Expression `(arr_a > 5) & (arr_a < 10)` จะสร้าง boolean mask เพื่อเช็คว่าแต่ละ element ใน `arr_a` ตรงตามเงื่อนไขทั้งสองหรือไม่ และ array ที่ได้จะมีเฉพาะ elements ที่ตรงตามเงื่อนไขที่ค่าเป็น `True` เท่านั้น\n"
   ]
  },
  {
   "cell_type": "markdown",
   "metadata": {
    "id": "blvF6M-lH0Fb"
   },
   "source": [
    "Try running the cell below."
   ]
  },
  {
   "cell_type": "code",
   "execution_count": null,
   "metadata": {
    "colab": {
     "base_uri": "https://localhost:8080/",
     "height": 166
    },
    "executionInfo": {
     "elapsed": 3,
     "status": "error",
     "timestamp": 1690179926669,
     "user": {
      "displayName": "Kawin Chinpong",
      "userId": "01958059792759867155"
     },
     "user_tz": -420
    },
    "id": "P5dKrLQPH2Vb",
    "outputId": "5145dd9b-ba16-4de5-a020-99b7fca4f953"
   },
   "outputs": [],
   "source": [
    "arr_a[(arr_a>5) and (arr_a<10)]"
   ]
  },
  {
   "cell_type": "markdown",
   "metadata": {},
   "source": [
    "[Q3] Explain in your own words why the above cell gives an error. \n",
    "\n",
    "Ans:\n",
    "- โค้ด `arr_a[(arr_a > 5) and (arr_a < 10)]` เกิดข้อผิดพลาด เพราะ `and` ไม่สามารถใช้สำหรับการเปรียบเทียบแบบ element-wise ใน NumPy array ได้  \n",
    "- `and` เป็น logical operator ของ Python ที่ใช้กับค่า boolean แบบเดี่ยวเท่านั้น ไม่ใช่ array สำหรับการเปรียบเทียบแบบ element-wise จำเป็นต้องใช้ตัวดำเนินการ `&` ซึ่งถูกออกแบบมาให้ใช้กับ boolean operation บน array\n"
   ]
  },
  {
   "cell_type": "markdown",
   "metadata": {},
   "source": [
    "[Q4] And what should be written instead so that the code is error-free?\n",
    "\n",
    "Ans: `and` -> `&` = `arr_a[(arr_a>5) & (arr_a<10)]`"
   ]
  },
  {
   "cell_type": "markdown",
   "metadata": {
    "id": "lqnM7zPW6Xco"
   },
   "source": [
    "#### Basic operations"
   ]
  },
  {
   "cell_type": "code",
   "execution_count": null,
   "metadata": {
    "colab": {
     "base_uri": "https://localhost:8080/"
    },
    "executionInfo": {
     "elapsed": 3,
     "status": "ok",
     "timestamp": 1690179929427,
     "user": {
      "displayName": "Kawin Chinpong",
      "userId": "01958059792759867155"
     },
     "user_tz": -420
    },
    "id": "hggo-yCaIaVC",
    "outputId": "70ea1bb0-8746-4c31-9616-e69ba02ffe15"
   },
   "outputs": [],
   "source": [
    "list_b=[[1,2,3,4],[1,2,3,4],[1,2,3,4]]\n",
    "arr_b=np.array(list_b)\n",
    "arr_b"
   ]
  },
  {
   "cell_type": "markdown",
   "metadata": {
    "id": "_hBHr-AskiEO"
   },
   "source": [
    "This is some operations for only 1 array"
   ]
  },
  {
   "cell_type": "code",
   "execution_count": null,
   "metadata": {
    "colab": {
     "base_uri": "https://localhost:8080/"
    },
    "executionInfo": {
     "elapsed": 3,
     "status": "ok",
     "timestamp": 1690179932477,
     "user": {
      "displayName": "Kawin Chinpong",
      "userId": "01958059792759867155"
     },
     "user_tz": -420
    },
    "id": "VuXMZI5bklSm",
    "outputId": "091c240b-37b9-4407-d500-479765be70ad"
   },
   "outputs": [],
   "source": [
    "np.sqrt(arr_b)"
   ]
  },
  {
   "cell_type": "markdown",
   "metadata": {
    "id": "zywfZujzITVp"
   },
   "source": [
    "This is some operations for 2 arrays with the same shape"
   ]
  },
  {
   "cell_type": "code",
   "execution_count": null,
   "metadata": {
    "colab": {
     "base_uri": "https://localhost:8080/"
    },
    "executionInfo": {
     "elapsed": 4,
     "status": "ok",
     "timestamp": 1689558118552,
     "user": {
      "displayName": "Kawin Chinpong",
      "userId": "01958059792759867155"
     },
     "user_tz": -420
    },
    "id": "W_RSs3yw6arW",
    "outputId": "ec95f136-3b81-4cda-e492-bba770b5f46d"
   },
   "outputs": [],
   "source": [
    "arr_a-arr_b"
   ]
  },
  {
   "cell_type": "code",
   "execution_count": null,
   "metadata": {
    "colab": {
     "base_uri": "https://localhost:8080/"
    },
    "executionInfo": {
     "elapsed": 3,
     "status": "ok",
     "timestamp": 1689558119890,
     "user": {
      "displayName": "Kawin Chinpong",
      "userId": "01958059792759867155"
     },
     "user_tz": -420
    },
    "id": "iRts3ak6Io9I",
    "outputId": "dec3230c-4a00-4a46-a3a6-d846e1045354"
   },
   "outputs": [],
   "source": [
    "np.add(arr_a,arr_b)"
   ]
  },
  {
   "cell_type": "markdown",
   "metadata": {
    "id": "YnOdfKkjJDs2"
   },
   "source": [
    "Next, try to operate with 1 array and one numeric variable"
   ]
  },
  {
   "cell_type": "code",
   "execution_count": null,
   "metadata": {
    "colab": {
     "base_uri": "https://localhost:8080/"
    },
    "executionInfo": {
     "elapsed": 5,
     "status": "ok",
     "timestamp": 1689558121350,
     "user": {
      "displayName": "Kawin Chinpong",
      "userId": "01958059792759867155"
     },
     "user_tz": -420
    },
    "id": "eYEYRFzRJJI1",
    "outputId": "d676fadd-5259-4d36-a840-e7e5b5f8d719"
   },
   "outputs": [],
   "source": [
    "arr_a*3"
   ]
  },
  {
   "cell_type": "code",
   "execution_count": null,
   "metadata": {
    "colab": {
     "base_uri": "https://localhost:8080/"
    },
    "executionInfo": {
     "elapsed": 4,
     "status": "ok",
     "timestamp": 1689558121350,
     "user": {
      "displayName": "Kawin Chinpong",
      "userId": "01958059792759867155"
     },
     "user_tz": -420
    },
    "id": "bZVmtPN8JLpe",
    "outputId": "939dfc01-1306-465e-ca6f-ad6f5450aa0a"
   },
   "outputs": [],
   "source": [
    "1+arr_a**2"
   ]
  },
  {
   "cell_type": "markdown",
   "metadata": {
    "id": "ZAyGswbYJca0"
   },
   "source": [
    "Try to play with 2 arrays with different shape"
   ]
  },
  {
   "cell_type": "code",
   "execution_count": null,
   "metadata": {
    "id": "E98n7DNCJgQ8"
   },
   "outputs": [],
   "source": [
    "arr_c=np.array([1,2,3])\n",
    "arr_d=np.array([[3],[5],[8]])"
   ]
  },
  {
   "cell_type": "code",
   "execution_count": null,
   "metadata": {
    "colab": {
     "base_uri": "https://localhost:8080/"
    },
    "executionInfo": {
     "elapsed": 4,
     "status": "ok",
     "timestamp": 1689558124789,
     "user": {
      "displayName": "Kawin Chinpong",
      "userId": "01958059792759867155"
     },
     "user_tz": -420
    },
    "id": "w7-lFS1YJn6m",
    "outputId": "528ab613-76b9-4185-cffd-fae44f225257"
   },
   "outputs": [],
   "source": [
    "arr_c-arr_d"
   ]
  },
  {
   "cell_type": "markdown",
   "metadata": {
    "id": "onP4dV4nJ-V7"
   },
   "source": [
    "#### Basic aggregations"
   ]
  },
  {
   "cell_type": "code",
   "execution_count": null,
   "metadata": {
    "colab": {
     "base_uri": "https://localhost:8080/"
    },
    "executionInfo": {
     "elapsed": 2,
     "status": "ok",
     "timestamp": 1689558126152,
     "user": {
      "displayName": "Kawin Chinpong",
      "userId": "01958059792759867155"
     },
     "user_tz": -420
    },
    "id": "gobV-55pKK_c",
    "outputId": "a9e2ef61-cdc2-4d42-a49c-19baaffef1ef"
   },
   "outputs": [],
   "source": [
    "arr_a"
   ]
  },
  {
   "cell_type": "code",
   "execution_count": null,
   "metadata": {
    "colab": {
     "base_uri": "https://localhost:8080/"
    },
    "executionInfo": {
     "elapsed": 4,
     "status": "ok",
     "timestamp": 1689558127506,
     "user": {
      "displayName": "Kawin Chinpong",
      "userId": "01958059792759867155"
     },
     "user_tz": -420
    },
    "id": "CZSV4QPAKGmz",
    "outputId": "eca93479-7ac0-4907-9679-cd6a9f984a6d"
   },
   "outputs": [],
   "source": [
    "arr_a.sum()"
   ]
  },
  {
   "cell_type": "code",
   "execution_count": null,
   "metadata": {
    "colab": {
     "base_uri": "https://localhost:8080/"
    },
    "executionInfo": {
     "elapsed": 5,
     "status": "ok",
     "timestamp": 1689558128856,
     "user": {
      "displayName": "Kawin Chinpong",
      "userId": "01958059792759867155"
     },
     "user_tz": -420
    },
    "id": "DktFOdDmKMTC",
    "outputId": "6ca64ea1-7517-437b-bdbe-f34cddd6136a"
   },
   "outputs": [],
   "source": [
    "arr_a.mean()"
   ]
  },
  {
   "cell_type": "code",
   "execution_count": null,
   "metadata": {
    "colab": {
     "base_uri": "https://localhost:8080/"
    },
    "executionInfo": {
     "elapsed": 4,
     "status": "ok",
     "timestamp": 1689558128856,
     "user": {
      "displayName": "Kawin Chinpong",
      "userId": "01958059792759867155"
     },
     "user_tz": -420
    },
    "id": "fY2VyYB0KPSd",
    "outputId": "6c9331c4-6a24-4065-e753-07d638f42192"
   },
   "outputs": [],
   "source": [
    "arr_a.min()"
   ]
  },
  {
   "cell_type": "code",
   "execution_count": null,
   "metadata": {
    "colab": {
     "base_uri": "https://localhost:8080/"
    },
    "executionInfo": {
     "elapsed": 5,
     "status": "ok",
     "timestamp": 1689558129927,
     "user": {
      "displayName": "Kawin Chinpong",
      "userId": "01958059792759867155"
     },
     "user_tz": -420
    },
    "id": "J2VePeqQKRTO",
    "outputId": "fd973e3d-8b94-4222-afd7-ab6720b76d21"
   },
   "outputs": [],
   "source": [
    "arr_a.max()"
   ]
  },
  {
   "cell_type": "code",
   "execution_count": null,
   "metadata": {
    "colab": {
     "base_uri": "https://localhost:8080/"
    },
    "executionInfo": {
     "elapsed": 4,
     "status": "ok",
     "timestamp": 1689558129927,
     "user": {
      "displayName": "Kawin Chinpong",
      "userId": "01958059792759867155"
     },
     "user_tz": -420
    },
    "id": "UyM51074KSvV",
    "outputId": "b10da214-dea1-48a9-82b6-10bad373c926"
   },
   "outputs": [],
   "source": [
    "arr_a.std()"
   ]
  },
  {
   "cell_type": "markdown",
   "metadata": {
    "id": "LsbEmeee6a5l"
   },
   "source": [
    "#### ndarray axis"
   ]
  },
  {
   "cell_type": "code",
   "execution_count": null,
   "metadata": {
    "colab": {
     "base_uri": "https://localhost:8080/"
    },
    "executionInfo": {
     "elapsed": 3,
     "status": "ok",
     "timestamp": 1689558130866,
     "user": {
      "displayName": "Kawin Chinpong",
      "userId": "01958059792759867155"
     },
     "user_tz": -420
    },
    "id": "yVIqBG7z6hq7",
    "outputId": "192788ef-27dc-4e86-b4c3-722d7a0d1021"
   },
   "outputs": [],
   "source": [
    "arr_a"
   ]
  },
  {
   "cell_type": "code",
   "execution_count": null,
   "metadata": {
    "colab": {
     "base_uri": "https://localhost:8080/"
    },
    "executionInfo": {
     "elapsed": 4,
     "status": "ok",
     "timestamp": 1689558131679,
     "user": {
      "displayName": "Kawin Chinpong",
      "userId": "01958059792759867155"
     },
     "user_tz": -420
    },
    "id": "s9qrOxSpK3RG",
    "outputId": "a1e43d1c-28cb-4e02-dc26-ed957ecbeb97"
   },
   "outputs": [],
   "source": [
    "arr_a.sum(axis=0)"
   ]
  },
  {
   "cell_type": "code",
   "execution_count": null,
   "metadata": {
    "colab": {
     "base_uri": "https://localhost:8080/"
    },
    "executionInfo": {
     "elapsed": 2,
     "status": "ok",
     "timestamp": 1689558132997,
     "user": {
      "displayName": "Kawin Chinpong",
      "userId": "01958059792759867155"
     },
     "user_tz": -420
    },
    "id": "knDX9TAbK5ro",
    "outputId": "3a1d00f7-b3dd-49d8-9062-68da897a33dc"
   },
   "outputs": [],
   "source": [
    "arr_a.sum(axis=1)"
   ]
  },
  {
   "cell_type": "markdown",
   "metadata": {},
   "source": [
    "[Q5] Summarize the value of the argument *axis*, what is the value for row-wise summation and column-wise summation, respectively?\n",
    "\n",
    "Ans:\n",
    "\n",
    "ค่า argument `axis` ในฟังก์ชันของ NumPy ใช้กำหนดมิติที่ต้องการให้ดำเนินการ\n",
    "\n",
    "- `axis=0`: การบวกแบบ column-wise (บวกค่าข้าม row)  \n",
    "- `axis=1`: การบวกแบบ row-wise (บวกค่าข้าม column)  \n",
    "\n",
    "ตัวอย่าง\n",
    "- `arr_a.sum(axis=0)` จะบวกค่าของ elements ในแนวตั้ง (column-wise)  \n",
    "- `arr_a.sum(axis=1)` จะบวกค่าของ elements ในแนวนอน (row-wise)\n"
   ]
  },
  {
   "cell_type": "markdown",
   "metadata": {
    "id": "RT0rz3kw5NPe"
   },
   "source": [
    "### 4.2 Pandas"
   ]
  },
  {
   "cell_type": "markdown",
   "metadata": {
    "id": "72xRF8Dp1jvP"
   },
   "source": [
    "#### Series"
   ]
  },
  {
   "cell_type": "code",
   "execution_count": null,
   "metadata": {
    "executionInfo": {
     "elapsed": 1018,
     "status": "ok",
     "timestamp": 1690383884461,
     "user": {
      "displayName": "Jay PK",
      "userId": "08745460475423305246"
     },
     "user_tz": -420
    },
    "id": "hstA2iB0rCLY"
   },
   "outputs": [],
   "source": [
    "import pandas as pd\n",
    "import numpy as np"
   ]
  },
  {
   "cell_type": "code",
   "execution_count": null,
   "metadata": {
    "colab": {
     "base_uri": "https://localhost:8080/"
    },
    "executionInfo": {
     "elapsed": 8,
     "status": "ok",
     "timestamp": 1690383884461,
     "user": {
      "displayName": "Jay PK",
      "userId": "08745460475423305246"
     },
     "user_tz": -420
    },
    "id": "QVftaMF74_R2",
    "outputId": "e7fbe843-ecf2-4551-a965-4c0b20b04327"
   },
   "outputs": [],
   "source": [
    "pd.Series(np.random.randn(6))"
   ]
  },
  {
   "cell_type": "code",
   "execution_count": null,
   "metadata": {
    "colab": {
     "base_uri": "https://localhost:8080/"
    },
    "executionInfo": {
     "elapsed": 6,
     "status": "ok",
     "timestamp": 1690383884461,
     "user": {
      "displayName": "Jay PK",
      "userId": "08745460475423305246"
     },
     "user_tz": -420
    },
    "id": "l47aIq-Y5U2L",
    "outputId": "54549527-82b8-4830-cb37-d4af28f6f282"
   },
   "outputs": [],
   "source": [
    "pd.Series(np.random.randn(6), index=['a','b','c','d','e','f'])"
   ]
  },
  {
   "cell_type": "markdown",
   "metadata": {
    "id": "VNDZQeQ_1qWh"
   },
   "source": [
    "#### Constructing Dataframe"
   ]
  },
  {
   "cell_type": "markdown",
   "metadata": {
    "id": "vDG04vxwuTrE"
   },
   "source": [
    "Constructing DataFrame from a dictionary"
   ]
  },
  {
   "cell_type": "code",
   "execution_count": null,
   "metadata": {
    "executionInfo": {
     "elapsed": 3,
     "status": "ok",
     "timestamp": 1690383925837,
     "user": {
      "displayName": "Jay PK",
      "userId": "08745460475423305246"
     },
     "user_tz": -420
    },
    "id": "ZaqynB_U5Uz7"
   },
   "outputs": [],
   "source": [
    "d = {'col1':[1,2], 'col2': [3,4]}"
   ]
  },
  {
   "cell_type": "code",
   "execution_count": null,
   "metadata": {
    "colab": {
     "base_uri": "https://localhost:8080/",
     "height": 112
    },
    "executionInfo": {
     "elapsed": 5,
     "status": "ok",
     "timestamp": 1690383927111,
     "user": {
      "displayName": "Jay PK",
      "userId": "08745460475423305246"
     },
     "user_tz": -420
    },
    "id": "V2SqmT91ttbD",
    "outputId": "1c8054eb-1c55-4a58-e5ec-0c2c68695541"
   },
   "outputs": [],
   "source": [
    "df = pd.DataFrame(data=d)\n",
    "df"
   ]
  },
  {
   "cell_type": "code",
   "execution_count": null,
   "metadata": {
    "executionInfo": {
     "elapsed": 398,
     "status": "ok",
     "timestamp": 1690383951678,
     "user": {
      "displayName": "Jay PK",
      "userId": "08745460475423305246"
     },
     "user_tz": -420
    },
    "id": "JcDrI09_Xv2s"
   },
   "outputs": [],
   "source": [
    "d2 = {'Name':['Joe','Nat','Harry','Sam','Monica'],\n",
    "      'Age': [20,21,19,20,22]}"
   ]
  },
  {
   "cell_type": "code",
   "execution_count": null,
   "metadata": {
    "colab": {
     "base_uri": "https://localhost:8080/",
     "height": 206
    },
    "executionInfo": {
     "elapsed": 3,
     "status": "ok",
     "timestamp": 1690383952140,
     "user": {
      "displayName": "Jay PK",
      "userId": "08745460475423305246"
     },
     "user_tz": -420
    },
    "id": "HP6FMGgNYQNJ",
    "outputId": "07b2fd2b-2fc0-4645-bdaf-1570f432642d"
   },
   "outputs": [],
   "source": [
    "df2 = pd.DataFrame(data=d2)\n",
    "df2"
   ]
  },
  {
   "cell_type": "markdown",
   "metadata": {
    "id": "nkVxjaAb6f7S"
   },
   "source": [
    "Constructing DataFrame from a List"
   ]
  },
  {
   "cell_type": "code",
   "execution_count": null,
   "metadata": {
    "executionInfo": {
     "elapsed": 3,
     "status": "ok",
     "timestamp": 1690383978914,
     "user": {
      "displayName": "Jay PK",
      "userId": "08745460475423305246"
     },
     "user_tz": -420
    },
    "id": "EQX4UpQY7hi1"
   },
   "outputs": [],
   "source": [
    "marks_list = [85.10, 77.80, 91.54, 88.78, 60.55]"
   ]
  },
  {
   "cell_type": "code",
   "execution_count": null,
   "metadata": {
    "colab": {
     "base_uri": "https://localhost:8080/",
     "height": 206
    },
    "executionInfo": {
     "elapsed": 29,
     "status": "ok",
     "timestamp": 1690250301150,
     "user": {
      "displayName": "Jay PK",
      "userId": "08745460475423305246"
     },
     "user_tz": -420
    },
    "id": "SyWTkUANedOu",
    "outputId": "33e51bde-d340-42d8-b71a-48d885334b2c"
   },
   "outputs": [],
   "source": [
    "df3 = pd.DataFrame(marks_list, columns=['Marks'])\n",
    "df3"
   ]
  },
  {
   "cell_type": "markdown",
   "metadata": {
    "id": "9vs-d2cb6vH1"
   },
   "source": [
    "Creating DataFrame from file"
   ]
  },
  {
   "cell_type": "code",
   "execution_count": null,
   "metadata": {
    "executionInfo": {
     "elapsed": 675,
     "status": "ok",
     "timestamp": 1690384207970,
     "user": {
      "displayName": "Jay PK",
      "userId": "08745460475423305246"
     },
     "user_tz": -420
    },
    "id": "QTROqWPZuSOa"
   },
   "outputs": [],
   "source": [
    "# Read csv file from path and store to df for create dataframe\n",
    "df = pd.read_csv('nss15.csv') "
   ]
  },
  {
   "cell_type": "code",
   "execution_count": null,
   "metadata": {
    "colab": {
     "base_uri": "https://localhost:8080/",
     "height": 423
    },
    "executionInfo": {
     "elapsed": 439,
     "status": "ok",
     "timestamp": 1690384210962,
     "user": {
      "displayName": "Jay PK",
      "userId": "08745460475423305246"
     },
     "user_tz": -420
    },
    "id": "fMDMRZy5BsfP",
    "outputId": "ca0e257c-6700-4e7c-9674-0127f4edd28d"
   },
   "outputs": [],
   "source": [
    "df"
   ]
  },
  {
   "cell_type": "markdown",
   "metadata": {
    "id": "MO0Mil_YBJRX"
   },
   "source": [
    "#### Viewing DataFrame information\n",
    "(.shape, .head, .tail, .info, select column, .unique, .describe, select low with .loc and .iloc)"
   ]
  },
  {
   "cell_type": "markdown",
   "metadata": {
    "id": "J_t382aNOjso"
   },
   "source": [
    "Check simple information"
   ]
  },
  {
   "cell_type": "code",
   "execution_count": null,
   "metadata": {
    "colab": {
     "base_uri": "https://localhost:8080/"
    },
    "executionInfo": {
     "elapsed": 428,
     "status": "ok",
     "timestamp": 1690384321969,
     "user": {
      "displayName": "Jay PK",
      "userId": "08745460475423305246"
     },
     "user_tz": -420
    },
    "id": "eaBSYEtlwqk1",
    "outputId": "214a5079-6e45-4534-fd4a-22813cb00a84"
   },
   "outputs": [],
   "source": [
    "# Check dimension by .shape\n",
    "df.shape"
   ]
  },
  {
   "cell_type": "code",
   "execution_count": null,
   "metadata": {
    "colab": {
     "base_uri": "https://localhost:8080/",
     "height": 206
    },
    "executionInfo": {
     "elapsed": 438,
     "status": "ok",
     "timestamp": 1690384330526,
     "user": {
      "displayName": "Jay PK",
      "userId": "08745460475423305246"
     },
     "user_tz": -420
    },
    "id": "vRjHEFcVB1X3",
    "outputId": "b0a06bd1-9ced-45cb-9c0a-4682832f956e"
   },
   "outputs": [],
   "source": [
    "# Display the first 5 rows by default\n",
    "df.head()"
   ]
  },
  {
   "cell_type": "code",
   "execution_count": null,
   "metadata": {
    "colab": {
     "base_uri": "https://localhost:8080/",
     "height": 143
    },
    "executionInfo": {
     "elapsed": 3,
     "status": "ok",
     "timestamp": 1690384356196,
     "user": {
      "displayName": "Jay PK",
      "userId": "08745460475423305246"
     },
     "user_tz": -420
    },
    "id": "QnVl3iopD_EH",
    "outputId": "b04b7540-bb36-4f34-b6e9-84a99d2e2ffb"
   },
   "outputs": [],
   "source": [
    "# Display the first 3 rows\n",
    "df.head(3)"
   ]
  },
  {
   "cell_type": "code",
   "execution_count": null,
   "metadata": {
    "colab": {
     "base_uri": "https://localhost:8080/",
     "height": 206
    },
    "executionInfo": {
     "elapsed": 5,
     "status": "ok",
     "timestamp": 1690384374799,
     "user": {
      "displayName": "Jay PK",
      "userId": "08745460475423305246"
     },
     "user_tz": -420
    },
    "id": "oa_SbG--B1Vl",
    "outputId": "dee590c2-5f03-4349-876e-4e5f45ec5d14"
   },
   "outputs": [],
   "source": [
    "# Display the last 5 rows by default\n",
    "df.tail()"
   ]
  },
  {
   "cell_type": "code",
   "execution_count": null,
   "metadata": {
    "colab": {
     "base_uri": "https://localhost:8080/"
    },
    "executionInfo": {
     "elapsed": 2,
     "status": "ok",
     "timestamp": 1690384383646,
     "user": {
      "displayName": "Jay PK",
      "userId": "08745460475423305246"
     },
     "user_tz": -420
    },
    "id": "FQjlMC8LuSMM",
    "outputId": "49bad707-910d-4f34-fe15-04ddc27458b5"
   },
   "outputs": [],
   "source": [
    "# Overview information of dataframe\n",
    "df.info()"
   ]
  },
  {
   "cell_type": "markdown",
   "metadata": {
    "id": "XzzLFFoFOE_p"
   },
   "source": [
    "Select column, multiple column, with condition"
   ]
  },
  {
   "cell_type": "code",
   "execution_count": null,
   "metadata": {
    "colab": {
     "base_uri": "https://localhost:8080/"
    },
    "executionInfo": {
     "elapsed": 405,
     "status": "ok",
     "timestamp": 1690384768899,
     "user": {
      "displayName": "Jay PK",
      "userId": "08745460475423305246"
     },
     "user_tz": -420
    },
    "id": "FFNBUalZOCCh",
    "outputId": "277bb728-56c8-45a5-8ec4-22d10f1b0e0d"
   },
   "outputs": [],
   "source": [
    "df.columns"
   ]
  },
  {
   "cell_type": "code",
   "execution_count": null,
   "metadata": {
    "colab": {
     "base_uri": "https://localhost:8080/"
    },
    "executionInfo": {
     "elapsed": 610,
     "status": "ok",
     "timestamp": 1690384782011,
     "user": {
      "displayName": "Jay PK",
      "userId": "08745460475423305246"
     },
     "user_tz": -420
    },
    "id": "f3VCoZkBjtrM",
    "outputId": "77f285a0-37e9-4bcd-e60d-c70c545c9227"
   },
   "outputs": [],
   "source": [
    "#select single column\n",
    "df['age']"
   ]
  },
  {
   "cell_type": "code",
   "execution_count": null,
   "metadata": {
    "colab": {
     "base_uri": "https://localhost:8080/"
    },
    "executionInfo": {
     "elapsed": 2,
     "status": "ok",
     "timestamp": 1690384795088,
     "user": {
      "displayName": "Jay PK",
      "userId": "08745460475423305246"
     },
     "user_tz": -420
    },
    "id": "UbSBGDqM_v4v",
    "outputId": "9a101dc1-e7e1-474d-b60c-c24931badee0"
   },
   "outputs": [],
   "source": [
    "df.age"
   ]
  },
  {
   "cell_type": "code",
   "execution_count": null,
   "metadata": {
    "colab": {
     "base_uri": "https://localhost:8080/",
     "height": 423
    },
    "executionInfo": {
     "elapsed": 37,
     "status": "ok",
     "timestamp": 1690250303668,
     "user": {
      "displayName": "Jay PK",
      "userId": "08745460475423305246"
     },
     "user_tz": -420
    },
    "id": "NrUzN6UEj0RN",
    "outputId": "6b921dda-fa3e-4c01-9a72-3bba8709c982"
   },
   "outputs": [],
   "source": [
    "#select multiple column\n",
    "df[['treatmentDate','statWeight','age','sex']]"
   ]
  },
  {
   "cell_type": "markdown",
   "metadata": {
    "id": "pcQED80sO245"
   },
   "source": [
    "Viewing the unique value"
   ]
  },
  {
   "cell_type": "code",
   "execution_count": null,
   "metadata": {
    "colab": {
     "base_uri": "https://localhost:8080/"
    },
    "executionInfo": {
     "elapsed": 37,
     "status": "ok",
     "timestamp": 1690250303669,
     "user": {
      "displayName": "Jay PK",
      "userId": "08745460475423305246"
     },
     "user_tz": -420
    },
    "id": "o5KB5abk3rOp",
    "outputId": "d6417b39-5fa6-412f-9cb0-7a027db8571b"
   },
   "outputs": [],
   "source": [
    "df.race.unique()"
   ]
  },
  {
   "cell_type": "markdown",
   "metadata": {
    "id": "ljFoCU2-Oy0Q"
   },
   "source": [
    "Describe"
   ]
  },
  {
   "cell_type": "code",
   "execution_count": null,
   "metadata": {
    "colab": {
     "base_uri": "https://localhost:8080/"
    },
    "executionInfo": {
     "elapsed": 34,
     "status": "ok",
     "timestamp": 1690250303669,
     "user": {
      "displayName": "Jay PK",
      "userId": "08745460475423305246"
     },
     "user_tz": -420
    },
    "id": "kadPeUFP0g48",
    "outputId": "e50dcae9-036d-4777-ca03-02c72df90186"
   },
   "outputs": [],
   "source": [
    "df['age'].describe()"
   ]
  },
  {
   "cell_type": "markdown",
   "metadata": {
    "id": "fh8EQIXRxp4R"
   },
   "source": [
    "Select row with condition"
   ]
  },
  {
   "cell_type": "code",
   "execution_count": null,
   "metadata": {
    "colab": {
     "base_uri": "https://localhost:8080/",
     "height": 423
    },
    "executionInfo": {
     "elapsed": 426,
     "status": "ok",
     "timestamp": 1690385062965,
     "user": {
      "displayName": "Jay PK",
      "userId": "08745460475423305246"
     },
     "user_tz": -420
    },
    "id": "5sz4ukM9xqqW",
    "outputId": "8f798d95-45c5-4e31-c701-4a758ff87d30"
   },
   "outputs": [],
   "source": [
    "#select by condition\n",
    "df[df['sex'] == 'Male']"
   ]
  },
  {
   "cell_type": "code",
   "execution_count": null,
   "metadata": {
    "colab": {
     "base_uri": "https://localhost:8080/",
     "height": 423
    },
    "executionInfo": {
     "elapsed": 4,
     "status": "ok",
     "timestamp": 1690385088944,
     "user": {
      "displayName": "Jay PK",
      "userId": "08745460475423305246"
     },
     "user_tz": -420
    },
    "id": "wsdrRKBi9LI6",
    "outputId": "40e2195a-915f-404d-e315-6d78e173f29f"
   },
   "outputs": [],
   "source": [
    "#select by multiple condition\n",
    "df[(df['sex'] == 'Male') & (df['age'] > 80)]"
   ]
  },
  {
   "cell_type": "markdown",
   "metadata": {
    "id": "d0ssA6w5xsHP"
   },
   "source": [
    "Select row with .iloc"
   ]
  },
  {
   "cell_type": "code",
   "execution_count": null,
   "metadata": {
    "colab": {
     "base_uri": "https://localhost:8080/",
     "height": 206
    },
    "executionInfo": {
     "elapsed": 406,
     "status": "ok",
     "timestamp": 1690385132889,
     "user": {
      "displayName": "Jay PK",
      "userId": "08745460475423305246"
     },
     "user_tz": -420
    },
    "id": "3R0-5gOVxs0c",
    "outputId": "5feef2ee-8f6a-4afc-e770-6196040f1141"
   },
   "outputs": [],
   "source": [
    "# select row by .iloc\n",
    "df.iloc[10:15]"
   ]
  },
  {
   "cell_type": "code",
   "execution_count": null,
   "metadata": {
    "colab": {
     "base_uri": "https://localhost:8080/",
     "height": 423
    },
    "executionInfo": {
     "elapsed": 14,
     "status": "ok",
     "timestamp": 1690250308262,
     "user": {
      "displayName": "Jay PK",
      "userId": "08745460475423305246"
     },
     "user_tz": -420
    },
    "id": "CVKnMYnHBDHT",
    "outputId": "f478da3b-1021-401d-f3cc-b04787f199cc"
   },
   "outputs": [],
   "source": [
    "# select column by .iloc\n",
    "df.iloc[:,[0,1,2,3,4]]"
   ]
  },
  {
   "cell_type": "markdown",
   "metadata": {
    "id": "cHwf9SoEyBgE"
   },
   "source": [
    "Select column and row with .loc"
   ]
  },
  {
   "cell_type": "code",
   "execution_count": null,
   "metadata": {
    "colab": {
     "base_uri": "https://localhost:8080/",
     "height": 269
    },
    "executionInfo": {
     "elapsed": 11,
     "status": "ok",
     "timestamp": 1690250309236,
     "user": {
      "displayName": "Jay PK",
      "userId": "08745460475423305246"
     },
     "user_tz": -420
    },
    "id": "Z4M4osniyE-O",
    "outputId": "c6eeeda4-b1f3-4570-8cb6-227d4b2e072c"
   },
   "outputs": [],
   "source": [
    "# select column and low by .loc\n",
    "df.loc[:6,'treatmentDate':'diagnosis']"
   ]
  },
  {
   "cell_type": "code",
   "execution_count": null,
   "metadata": {
    "colab": {
     "base_uri": "https://localhost:8080/",
     "height": 423
    },
    "executionInfo": {
     "elapsed": 5,
     "status": "ok",
     "timestamp": 1690250309687,
     "user": {
      "displayName": "Jay PK",
      "userId": "08745460475423305246"
     },
     "user_tz": -420
    },
    "id": "kMp4qD-6FEwu",
    "outputId": "9e593ac8-a85d-46b3-b276-75d5dff0d02c"
   },
   "outputs": [],
   "source": [
    "# select row by condition\n",
    "df.loc[df['age']>80, ['treatmentDate', 'age']]"
   ]
  },
  {
   "cell_type": "markdown",
   "metadata": {},
   "source": [
    "[Q6] What is the difference between .iloc and .loc?\n",
    "\n",
    "Ans:\n",
    "\n",
    "### คำตอบ  \n",
    "- `.iloc`: ย่อมาจาก \"integer location\" ใช้สำหรับการเลือกข้อมูลตามตำแหน่ง (integer indexing) โดยสามารถเลือกแถวและคอลัมน์ตามตำแหน่งของ index ตัวเลขได้ เช่น `df.iloc[0:5, 1:3]` จะเลือกแถวที่ 0 ถึง 4 และคอลัมน์ที่ 1 ถึง 2  \n",
    "- `.loc`: ย่อมาจาก \"label location\" ใช้สำหรับการเลือกข้อมูลตาม label (ชื่อของแถวและคอลัมน์) โดยสามารถเลือกแถวและคอลัมน์ตามชื่อ label ได้ เช่น `df.loc[0:5, 'column_name']` จะเลือกแถวที่มี label 0 ถึง 5 และคอลัมน์ที่ชื่อ 'column_name'  \n",
    "\n",
    "**สรุป**  \n",
    "- `.iloc` ใช้การ indexing แบบตัวเลข  \n",
    "- `.loc` ใช้การ indexing แบบชื่อ label  "
   ]
  }
 ],
 "metadata": {
  "kernelspec": {
   "display_name": "Python 3.12.4 64-bit",
   "language": "python",
   "name": "python3"
  },
  "language_info": {
   "codemirror_mode": {
    "name": "ipython",
    "version": 3
   },
   "file_extension": ".py",
   "mimetype": "text/x-python",
   "name": "python",
   "nbconvert_exporter": "python",
   "pygments_lexer": "ipython3",
   "version": "3.12.4"
  },
  "vscode": {
   "interpreter": {
    "hash": "aee8b7b246df8f9039afb4144a1f6fd8d2ca17a180786b69acc140d282b71a49"
   }
  }
 },
 "nbformat": 4,
 "nbformat_minor": 2
}
